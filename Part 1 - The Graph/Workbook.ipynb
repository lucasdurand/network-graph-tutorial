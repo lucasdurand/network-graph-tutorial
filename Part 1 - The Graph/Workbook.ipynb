{
 "cells": [
  {
   "attachments": {},
   "cell_type": "markdown",
   "id": "bb042e3f-caba-44ee-9747-e74d6bebe1e8",
   "metadata": {},
   "source": [
    "# Understanding People with Network Graphs in Python\n",
    "\n",
    "Now we can really start"
   ]
  },
  {
   "cell_type": "markdown",
   "id": "97967b91-a222-4690-98f2-e1a8812b4436",
   "metadata": {},
   "source": [
    "## NetworkX\n",
    "\n",
    "> NetworkX is a Python package for the creation, manipulation, and study of the structure, dynamics, and functions of complex networks - https://networkx.org/\n",
    "\n",
    "NetworkX provides an easy-to-use, *fast*, graph framework to represent relationships in-memory"
   ]
  },
  {
   "cell_type": "code",
   "execution_count": 5,
   "id": "1658990e-5928-448b-b2e4-37dda46b087d",
   "metadata": {
    "execution": {
     "iopub.execute_input": "2023-01-17T18:44:00.986929Z",
     "iopub.status.busy": "2023-01-17T18:44:00.986472Z",
     "iopub.status.idle": "2023-01-17T18:44:00.993341Z",
     "shell.execute_reply": "2023-01-17T18:44:00.992498Z",
     "shell.execute_reply.started": "2023-01-17T18:44:00.986900Z"
    },
    "tags": []
   },
   "outputs": [],
   "source": [
    "import networkx as nx\n",
    "\n",
    "G = nx.Graph()"
   ]
  },
  {
   "cell_type": "markdown",
   "id": "13562879",
   "metadata": {},
   "source": [
    "It's easy to load in data one at a time"
   ]
  },
  {
   "cell_type": "code",
   "execution_count": 6,
   "id": "471e74f0",
   "metadata": {},
   "outputs": [],
   "source": [
    "G.add_node(\"Me\", type=\"person\", languages=[\"Python\"])"
   ]
  },
  {
   "attachments": {},
   "cell_type": "markdown",
   "id": "e012926e",
   "metadata": {},
   "source": [
    "Or from an iterable object"
   ]
  },
  {
   "cell_type": "code",
   "execution_count": 7,
   "id": "2a9211a0",
   "metadata": {},
   "outputs": [],
   "source": [
    "G.add_nodes_from((\n",
    "    (\"You\",dict(languages=[\"Python\",\"Scala\"])),\n",
    "    (\"Them\",dict(languages=[\"Python\",\"Javascript\"]))\n",
    "), type=\"person\")"
   ]
  },
  {
   "attachments": {},
   "cell_type": "markdown",
   "id": "ef360a75",
   "metadata": {},
   "source": [
    "Now we can look at the new data structure and play around with it:"
   ]
  },
  {
   "cell_type": "code",
   "execution_count": 8,
   "id": "b01d9d99",
   "metadata": {},
   "outputs": [
    {
     "data": {
      "text/plain": [
       "NodeView(('Me', 'You', 'Them'))"
      ]
     },
     "execution_count": 8,
     "metadata": {},
     "output_type": "execute_result"
    }
   ],
   "source": [
    "G.nodes() # show all the node labels"
   ]
  },
  {
   "cell_type": "code",
   "execution_count": 9,
   "id": "ec14eaae",
   "metadata": {},
   "outputs": [
    {
     "data": {
      "text/plain": [
       "NodeDataView({'Me': {'type': 'person', 'languages': ['Python']}, 'You': {'type': 'person', 'languages': ['Python', 'Scala']}, 'Them': {'type': 'person', 'languages': ['Python', 'Javascript']}})"
      ]
     },
     "execution_count": 9,
     "metadata": {},
     "output_type": "execute_result"
    }
   ],
   "source": [
    "G.nodes(data=True) # show all attributes in nodes"
   ]
  },
  {
   "cell_type": "code",
   "execution_count": 140,
   "id": "db49b4d1",
   "metadata": {},
   "outputs": [
    {
     "data": {
      "text/plain": [
       "NodeDataView({'Me': ['Python'], 'You': ['Python', 'Scala'], 'Them': ['Python', 'Javascript']}, data='languages')"
      ]
     },
     "execution_count": 140,
     "metadata": {},
     "output_type": "execute_result"
    }
   ],
   "source": [
    "G.nodes(data=\"languages\") # show a specific attribute"
   ]
  },
  {
   "cell_type": "code",
   "execution_count": 141,
   "id": "953812ea",
   "metadata": {},
   "outputs": [],
   "source": [
    "G.add_edge(\"Me\",\"You\", label=\"friends\") # add an edge connecting two nodes ...\n",
    "G.add_edge(\"You\",\"Them\", label=\"friends\") # add an edge connecting two nodes ..."
   ]
  },
  {
   "attachments": {},
   "cell_type": "markdown",
   "id": "8b03bdaa",
   "metadata": {},
   "source": [
    "There are lots of common and complex graph analysis functions available to make the most of the data structure "
   ]
  },
  {
   "cell_type": "code",
   "execution_count": 142,
   "id": "6cc3e239",
   "metadata": {},
   "outputs": [
    {
     "data": {
      "text/plain": [
       "['Me', 'You', 'Them']"
      ]
     },
     "execution_count": 142,
     "metadata": {},
     "output_type": "execute_result"
    }
   ],
   "source": [
    "nx.shortest_path(G, source=\"Me\", target=\"Them\") # find paths between nodes through edges"
   ]
  },
  {
   "cell_type": "code",
   "execution_count": 143,
   "id": "687da67f",
   "metadata": {},
   "outputs": [
    {
     "data": {
      "text/plain": [
       "AdjacencyView({'Me': {'You': {'label': 'friends'}}, 'You': {'Me': {'label': 'friends'}, 'Them': {'label': 'friends'}}, 'Them': {'You': {'label': 'friends'}}})"
      ]
     },
     "execution_count": 143,
     "metadata": {},
     "output_type": "execute_result"
    }
   ],
   "source": [
    "G.adj # find adjacent nodes"
   ]
  },
  {
   "attachments": {},
   "cell_type": "markdown",
   "id": "e0e5f833",
   "metadata": {},
   "source": [
    "And visualizing is built-in with `matplotlib`. We will pretty this up later with `plotly`"
   ]
  },
  {
   "cell_type": "code",
   "execution_count": 144,
   "id": "ca619931",
   "metadata": {},
   "outputs": [
    {
     "data": {
      "image/png": "[encoded data removed]",
      "text/plain": [
       "<Figure size 640x480 with 1 Axes>"
      ]
     },
     "metadata": {},
     "output_type": "display_data"
    }
   ],
   "source": [
    "nx.draw(G, with_labels=True)"
   ]
  },
  {
   "attachments": {},
   "cell_type": "markdown",
   "id": "db1c0d52-e90b-4350-8305-100509d6a35a",
   "metadata": {},
   "source": [
    "### Some People Data\n",
    "\n",
    "Let's re-use what we made before:"
   ]
  },
  {
   "cell_type": "code",
   "execution_count": 10,
   "id": "df1be6be-eea6-4d90-ba02-0272178b4a20",
   "metadata": {
    "execution": {
     "iopub.execute_input": "2023-01-10T16:24:10.124771Z",
     "iopub.status.busy": "2023-01-10T16:24:10.124487Z",
     "iopub.status.idle": "2023-01-10T16:24:10.147905Z",
     "shell.execute_reply": "2023-01-10T16:24:10.140943Z",
     "shell.execute_reply.started": "2023-01-10T16:24:10.124743Z"
    },
    "tags": []
   },
   "outputs": [
    {
     "name": "stdout",
     "output_type": "stream",
     "text": [
      "Mrs.\n",
      "Mx.\n",
      "Miss\n",
      "Dr.\n",
      "Mr.\n",
      "Misc.\n",
      "Ms.\n",
      "Ind.\n",
      "😟\n"
     ]
    }
   ],
   "source": [
    "%run \"../Part 0 - The Data/Solution.ipynb\""
   ]
  },
  {
   "cell_type": "markdown",
   "id": "445abc61-e1f7-4d41-9417-bd6824682de0",
   "metadata": {},
   "source": [
    "## The Graph\n",
    "\n",
    "Now we're ready to define and populate the network graph. NetworkX provides helpful methods to populate the structure from an iterable. Here we massage our list of `people` a bit in order to give a unique name to each *node* in the graph:"
   ]
  },
  {
   "cell_type": "code",
   "execution_count": 146,
   "id": "36bd1b93-0a4f-404b-aa83-ad91beb2f7df",
   "metadata": {
    "execution": {
     "iopub.execute_input": "2023-01-10T16:24:10.195816Z",
     "iopub.status.busy": "2023-01-10T16:24:10.195488Z",
     "iopub.status.idle": "2023-01-10T16:24:10.213653Z",
     "shell.execute_reply": "2023-01-10T16:24:10.212633Z",
     "shell.execute_reply.started": "2023-01-10T16:24:10.195788Z"
    },
    "tags": []
   },
   "outputs": [
    {
     "data": {
      "text/plain": [
       "NodeDataView({'Donald Richardson': {'person': True, 'type': 'person', 'name': 'Donald Richardson', 'hire_date': datetime.date(2021, 11, 21), 'status': 'Contract', 'languages': ['JavaScript'], 'manager': 'Kelsey Ramos', 'team': 'Business', 'title': 'Analyst', 'location': {'city': 'New York', 'tz': 'EST', 'country': 'USA'}, 'rank': 1.0, 'city': 'New York', 'tz': 'EST', 'country': 'USA'}, 'Stephanie Bryan': {'person': True, 'type': 'person', 'name': 'Stephanie Bryan', 'hire_date': datetime.date(2021, 10, 7), 'status': 'Full Time', 'languages': ['Python', 'Typescript', 'JavaScript'], 'manager': 'Veronica Jones', 'team': 'Business', 'title': 'Analyst', 'location': {'city': 'London', 'tz': 'UTC', 'country': 'GBR'}, 'rank': 1.0, 'city': 'London', 'tz': 'UTC', 'country': 'GBR'}, 'Janet Allison': {'person': True, 'type': 'person', 'name': 'Janet Allison', 'hire_date': datetime.date(2020, 12, 21), 'status': 'Contract', 'languages': ['Python', 'Typescript', 'JavaScript', 'Java'], 'manager': 'Joseph Christensen', 'team': 'Business', 'title': 'Analyst', 'location': {'city': 'Toronto', 'tz': 'EST', 'country': 'CAN'}, 'rank': 1.0, 'city': 'Toronto', 'tz': 'EST', 'country': 'CAN'}, 'David Gonzalez': {'person': True, 'type': 'person', 'name': 'David Gonzalez', 'hire_date': datetime.date(2022, 2, 25), 'status': 'Full Time', 'languages': ['Java'], 'manager': 'John Thomas', 'team': 'Business', 'title': 'Analyst', 'location': {'city': 'New York', 'tz': 'EST', 'country': 'USA'}, 'rank': 1.0, 'city': 'New York', 'tz': 'EST', 'country': 'USA'}, 'Eric Smith': {'person': True, 'type': 'person', 'name': 'Eric Smith', 'hire_date': datetime.date(2021, 6, 25), 'status': 'Contract', 'languages': ['Python', 'Typescript', 'JavaScript', 'Scala'], 'manager': 'Lindsey Martinez', 'team': 'Business', 'title': 'Analyst', 'location': {'city': 'London', 'tz': 'UTC', 'country': 'GBR'}, 'rank': 1.0, 'city': 'London', 'tz': 'UTC', 'country': 'GBR'}, 'Derek Kim': {'person': True, 'type': 'person', 'name': 'Derek Kim', 'hire_date': datetime.date(2021, 6, 20), 'status': 'Full Time', 'languages': ['Typescript', 'JavaScript'], 'manager': 'Kelsey Ramos', 'team': 'Business', 'title': 'Associate', 'location': {'city': 'London', 'tz': 'UTC', 'country': 'GBR'}, 'rank': 2.0, 'city': 'London', 'tz': 'UTC', 'country': 'GBR'}, 'Christopher Thomas': {'person': True, 'type': 'person', 'name': 'Christopher Thomas', 'hire_date': datetime.date(2020, 5, 3), 'status': 'Full Time', 'languages': ['JavaScript', 'Java'], 'manager': 'John Thomas', 'team': 'Business', 'title': 'Associate', 'location': {'city': 'London', 'tz': 'UTC', 'country': 'GBR'}, 'rank': 2.0, 'city': 'London', 'tz': 'UTC', 'country': 'GBR'}, 'Mrs. Jody Thomas': {'person': True, 'type': 'person', 'name': 'Mrs. Jody Thomas', 'hire_date': datetime.date(2022, 11, 25), 'status': 'Full Time', 'languages': ['JavaScript'], 'manager': 'John Thomas', 'team': 'Business', 'title': 'Associate', 'location': {'city': 'New York', 'tz': 'EST', 'country': 'USA'}, 'rank': 2.0, 'city': 'New York', 'tz': 'EST', 'country': 'USA'}, 'Mr. Hunter Holloway': {'person': True, 'type': 'person', 'name': 'Mr. Hunter Holloway', 'hire_date': datetime.date(2020, 12, 7), 'status': 'Full Time', 'languages': ['Python', 'Typescript'], 'manager': 'John Thomas', 'team': 'Business', 'title': 'Associate', 'location': {'city': 'Toronto', 'tz': 'EST', 'country': 'CAN'}, 'rank': 2.0, 'city': 'Toronto', 'tz': 'EST', 'country': 'CAN'}, 'Mr. Miguel Richard': {'person': True, 'type': 'person', 'name': 'Mr. Miguel Richard', 'hire_date': datetime.date(2022, 1, 29), 'status': 'Contract', 'languages': ['Python', 'Typescript', 'JavaScript', 'Java'], 'manager': 'John Thomas', 'team': 'Business', 'title': 'Associate', 'location': {'city': 'London', 'tz': 'UTC', 'country': 'GBR'}, 'rank': 2.0, 'city': 'London', 'tz': 'UTC', 'country': 'GBR'}, 'Gabrielle Stewart': {'person': True, 'type': 'person', 'name': 'Gabrielle Stewart', 'hire_date': datetime.date(2020, 11, 6), 'status': 'Contract', 'languages': [], 'manager': 'Jeffrey Ruiz', 'team': 'Business', 'title': 'Vice President', 'location': {'city': 'London', 'tz': 'UTC', 'country': 'GBR'}, 'rank': 3.0, 'city': 'London', 'tz': 'UTC', 'country': 'GBR'}, 'Julie Ho': {'person': True, 'type': 'person', 'name': 'Julie Ho', 'hire_date': datetime.date(2023, 3, 20), 'status': 'Full Time', 'languages': ['Typescript', 'JavaScript'], 'manager': 'Joseph Christensen', 'team': 'Business', 'title': 'Vice President', 'location': {'city': 'New York', 'tz': 'EST', 'country': 'USA'}, 'rank': 3.0, 'city': 'New York', 'tz': 'EST', 'country': 'USA'}, 'Terry Schwartz': {'person': True, 'type': 'person', 'name': 'Terry Schwartz', 'hire_date': datetime.date(2021, 1, 8), 'status': 'Full Time', 'languages': ['Python', 'Typescript', 'Java'], 'manager': 'Lauren Torres', 'team': 'Business', 'title': 'Vice President', 'location': {'city': 'London', 'tz': 'UTC', 'country': 'GBR'}, 'rank': 3.0, 'city': 'London', 'tz': 'UTC', 'country': 'GBR'}, 'Stephen Phillips': {'person': True, 'type': 'person', 'name': 'Stephen Phillips', 'hire_date': datetime.date(2021, 11, 8), 'status': 'Contract', 'languages': ['Typescript', 'JavaScript'], 'manager': 'John Thomas', 'team': 'Business', 'title': 'Vice President', 'location': {'city': 'New York', 'tz': 'EST', 'country': 'USA'}, 'rank': 3.0, 'city': 'New York', 'tz': 'EST', 'country': 'USA'}, 'Dean Payne': {'person': True, 'type': 'person', 'name': 'Dean Payne', 'hire_date': datetime.date(2022, 12, 23), 'status': 'Full Time', 'languages': [], 'manager': 'John Thomas', 'team': 'Business', 'title': 'Vice President', 'location': {'city': 'New York', 'tz': 'EST', 'country': 'USA'}, 'rank': 3.0, 'city': 'New York', 'tz': 'EST', 'country': 'USA'}, 'Chelsea Stewart': {'person': True, 'type': 'person', 'name': 'Chelsea Stewart', 'hire_date': datetime.date(2020, 4, 23), 'status': 'Full Time', 'languages': ['Python'], 'manager': 'John Thomas', 'team': 'Business', 'title': 'Vice President', 'location': {'city': 'London', 'tz': 'UTC', 'country': 'GBR'}, 'rank': 3.0, 'city': 'London', 'tz': 'UTC', 'country': 'GBR'}, 'Shannon Perkins': {'person': True, 'type': 'person', 'name': 'Shannon Perkins', 'hire_date': datetime.date(2020, 9, 8), 'status': 'Contract', 'languages': ['Go', 'Java'], 'manager': 'Lindsey Martinez', 'team': 'Business', 'title': 'Vice President', 'location': {'city': 'New York', 'tz': 'EST', 'country': 'USA'}, 'rank': 3.0, 'city': 'New York', 'tz': 'EST', 'country': 'USA'}, 'Lisa Lester': {'person': True, 'type': 'person', 'name': 'Lisa Lester', 'hire_date': datetime.date(2022, 6, 21), 'status': 'Contract', 'languages': ['Scala', 'JavaScript', 'Go', 'Java'], 'manager': 'Tyler Clark', 'team': 'Business', 'title': 'Director', 'location': {'city': 'London', 'tz': 'UTC', 'country': 'GBR'}, 'rank': 4.0, 'city': 'London', 'tz': 'UTC', 'country': 'GBR'}, 'Veronica Benton': {'person': True, 'type': 'person', 'name': 'Veronica Benton', 'hire_date': datetime.date(2021, 7, 31), 'status': 'Contract', 'languages': ['Go', 'Java'], 'manager': 'Veronica Jones', 'team': 'Business', 'title': 'Director', 'location': {'city': 'London', 'tz': 'UTC', 'country': 'GBR'}, 'rank': 4.0, 'city': 'London', 'tz': 'UTC', 'country': 'GBR'}, 'Terri Bishop': {'person': True, 'type': 'person', 'name': 'Terri Bishop', 'hire_date': datetime.date(2020, 11, 12), 'status': 'Contract', 'languages': ['Typescript', 'Java'], 'manager': 'Joseph Christensen', 'team': 'Business', 'title': 'Director', 'location': {'city': 'Toronto', 'tz': 'EST', 'country': 'CAN'}, 'rank': 4.0, 'city': 'Toronto', 'tz': 'EST', 'country': 'CAN'}, 'Angela King': {'person': True, 'type': 'person', 'name': 'Angela King', 'hire_date': datetime.date(2020, 9, 27), 'status': 'Full Time', 'languages': [], 'manager': 'John Thomas', 'team': 'Business', 'title': 'Director', 'location': {'city': 'New York', 'tz': 'EST', 'country': 'USA'}, 'rank': 4.0, 'city': 'New York', 'tz': 'EST', 'country': 'USA'}, 'Denise Gonzalez': {'person': True, 'type': 'person', 'name': 'Denise Gonzalez', 'hire_date': datetime.date(2021, 2, 4), 'status': 'Contract', 'languages': ['Python'], 'manager': 'Lindsey Martinez', 'team': 'Business', 'title': 'Director', 'location': {'city': 'Toronto', 'tz': 'EST', 'country': 'CAN'}, 'rank': 4.0, 'city': 'Toronto', 'tz': 'EST', 'country': 'CAN'}, 'Amanda Mccoy': {'person': True, 'type': 'person', 'name': 'Amanda Mccoy', 'hire_date': datetime.date(2020, 7, 21), 'status': 'Full Time', 'languages': ['Python', 'JavaScript'], 'manager': 'Kelsey Ramos', 'team': 'Business', 'title': 'Managing Director', 'location': {'city': 'New York', 'tz': 'EST', 'country': 'USA'}, 'rank': 5.0, 'city': 'New York', 'tz': 'EST', 'country': 'USA'}, 'Tyler Clark': {'person': True, 'type': 'person', 'name': 'Tyler Clark', 'hire_date': datetime.date(2021, 7, 18), 'status': 'Part Time', 'languages': ['Python', 'JavaScript'], 'manager': 'Amanda Mccoy', 'team': 'Business', 'title': 'Managing Director', 'location': {'city': 'Toronto', 'tz': 'EST', 'country': 'CAN'}, 'rank': 5.0, 'city': 'Toronto', 'tz': 'EST', 'country': 'CAN'}, 'Jeffrey Ruiz': {'person': True, 'type': 'person', 'name': 'Jeffrey Ruiz', 'hire_date': datetime.date(2022, 5, 21), 'status': 'Full Time', 'languages': [], 'manager': 'Amanda Mccoy', 'team': 'Business', 'title': 'Managing Director', 'location': {'city': 'Toronto', 'tz': 'EST', 'country': 'CAN'}, 'rank': 5.0, 'city': 'Toronto', 'tz': 'EST', 'country': 'CAN'}, 'Melissa Smith': {'person': True, 'type': 'person', 'name': 'Melissa Smith', 'hire_date': datetime.date(2022, 2, 27), 'status': 'Full Time', 'languages': ['Java'], 'manager': 'Amanda Mccoy', 'team': 'Business', 'title': 'Managing Director', 'location': {'city': 'New York', 'tz': 'EST', 'country': 'USA'}, 'rank': 5.0, 'city': 'New York', 'tz': 'EST', 'country': 'USA'}, 'Veronica Jones': {'person': True, 'type': 'person', 'name': 'Veronica Jones', 'hire_date': datetime.date(2022, 7, 21), 'status': 'Full Time', 'languages': ['Python', 'Java'], 'manager': 'Amanda Mccoy', 'team': 'Business', 'title': 'Managing Director', 'location': {'city': 'New York', 'tz': 'EST', 'country': 'USA'}, 'rank': 5.0, 'city': 'New York', 'tz': 'EST', 'country': 'USA'}, 'Joseph Christensen': {'person': True, 'type': 'person', 'name': 'Joseph Christensen', 'hire_date': datetime.date(2021, 2, 8), 'status': 'Part Time', 'languages': [], 'manager': 'Amanda Mccoy', 'team': 'Business', 'title': 'Managing Director', 'location': {'city': 'Toronto', 'tz': 'EST', 'country': 'CAN'}, 'rank': 5.0, 'city': 'Toronto', 'tz': 'EST', 'country': 'CAN'}, 'Lauren Torres': {'person': True, 'type': 'person', 'name': 'Lauren Torres', 'hire_date': datetime.date(2021, 2, 26), 'status': 'Full Time', 'languages': ['Java'], 'manager': 'Amanda Mccoy', 'team': 'Business', 'title': 'Managing Director', 'location': {'city': 'London', 'tz': 'UTC', 'country': 'GBR'}, 'rank': 5.0, 'city': 'London', 'tz': 'UTC', 'country': 'GBR'}, 'John Thomas': {'person': True, 'type': 'person', 'name': 'John Thomas', 'hire_date': datetime.date(2022, 3, 24), 'status': 'Contract', 'languages': ['Python', 'Typescript', 'JavaScript', 'Scala'], 'manager': 'Amanda Mccoy', 'team': 'Business', 'title': 'Managing Director', 'location': {'city': 'Toronto', 'tz': 'EST', 'country': 'CAN'}, 'rank': 5.0, 'city': 'Toronto', 'tz': 'EST', 'country': 'CAN'}, 'Lindsey Martinez': {'person': True, 'type': 'person', 'name': 'Lindsey Martinez', 'hire_date': datetime.date(2020, 8, 1), 'status': 'Full Time', 'languages': [], 'manager': 'Amanda Mccoy', 'team': 'Business', 'title': 'Managing Director', 'location': {'city': 'London', 'tz': 'UTC', 'country': 'GBR'}, 'rank': 5.0, 'city': 'London', 'tz': 'UTC', 'country': 'GBR'}, 'Tiffany Sanders': {'person': True, 'type': 'person', 'name': 'Tiffany Sanders', 'hire_date': datetime.date(2022, 10, 29), 'status': 'Full Time', 'languages': [], 'manager': 'Rhonda Mills', 'team': 'DevOps', 'title': 'Engineer', 'location': {'city': 'Dublin', 'tz': 'UTC', 'country': 'IRL'}, 'rank': 1.0, 'city': 'Dublin', 'tz': 'UTC', 'country': 'IRL'}, 'Patricia Callahan': {'person': True, 'type': 'person', 'name': 'Patricia Callahan', 'hire_date': datetime.date(2020, 7, 1), 'status': 'Contract', 'languages': ['Scala', 'Typescript', 'Go', 'Java'], 'manager': 'David Rice', 'team': 'DevOps', 'title': 'Engineer', 'location': {'city': 'Dublin', 'tz': 'UTC', 'country': 'IRL'}, 'rank': 1.0, 'city': 'Dublin', 'tz': 'UTC', 'country': 'IRL'}, 'Jonathon Horton': {'person': True, 'type': 'person', 'name': 'Jonathon Horton', 'hire_date': datetime.date(2020, 6, 9), 'status': 'Full Time', 'languages': ['Python', 'JavaScript', 'Java'], 'manager': 'Rhonda Mills', 'team': 'DevOps', 'title': 'Senior Engineer', 'location': {'city': 'Dublin', 'tz': 'UTC', 'country': 'IRL'}, 'rank': 2.0, 'city': 'Dublin', 'tz': 'UTC', 'country': 'IRL'}, 'Paul French': {'person': True, 'type': 'person', 'name': 'Paul French', 'hire_date': datetime.date(2020, 9, 11), 'status': 'Full Time', 'languages': [], 'manager': 'David Rice', 'team': 'DevOps', 'title': 'Senior Engineer', 'location': {'city': 'Dublin', 'tz': 'UTC', 'country': 'IRL'}, 'rank': 2.0, 'city': 'Dublin', 'tz': 'UTC', 'country': 'IRL'}, 'Jeffrey Oneal': {'person': True, 'type': 'person', 'name': 'Jeffrey Oneal', 'hire_date': datetime.date(2022, 10, 6), 'status': 'Full Time', 'languages': ['JavaScript'], 'manager': 'Rhonda Mills', 'team': 'DevOps', 'title': 'Manager', 'location': {'city': 'Dublin', 'tz': 'UTC', 'country': 'IRL'}, 'rank': 3.0, 'city': 'Dublin', 'tz': 'UTC', 'country': 'IRL'}, 'Kelly James': {'person': True, 'type': 'person', 'name': 'Kelly James', 'hire_date': datetime.date(2023, 1, 13), 'status': 'Full Time', 'languages': ['Typescript', 'JavaScript', 'Scala'], 'manager': 'Rhonda Mills', 'team': 'DevOps', 'title': 'Manager', 'location': {'city': 'Dublin', 'tz': 'UTC', 'country': 'IRL'}, 'rank': 3.0, 'city': 'Dublin', 'tz': 'UTC', 'country': 'IRL'}, 'John Sweeney': {'person': True, 'type': 'person', 'name': 'John Sweeney', 'hire_date': datetime.date(2022, 5, 31), 'status': 'Contract', 'languages': ['Python', 'Typescript', 'JavaScript'], 'manager': 'Rhonda Mills', 'team': 'DevOps', 'title': 'Manager', 'location': {'city': 'Dublin', 'tz': 'UTC', 'country': 'IRL'}, 'rank': 3.0, 'city': 'Dublin', 'tz': 'UTC', 'country': 'IRL'}, 'Ryan Beck': {'person': True, 'type': 'person', 'name': 'Ryan Beck', 'hire_date': datetime.date(2020, 10, 28), 'status': 'Full Time', 'languages': ['Python', 'Typescript', 'JavaScript', 'Java'], 'manager': 'Rhonda Mills', 'team': 'DevOps', 'title': 'Manager', 'location': {'city': 'Dublin', 'tz': 'UTC', 'country': 'IRL'}, 'rank': 3.0, 'city': 'Dublin', 'tz': 'UTC', 'country': 'IRL'}, 'David Baker': {'person': True, 'type': 'person', 'name': 'David Baker', 'hire_date': datetime.date(2021, 8, 1), 'status': 'Contract', 'languages': ['Python', 'Typescript', 'Java'], 'manager': 'David Rice', 'team': 'DevOps', 'title': 'Manager', 'location': {'city': 'Dublin', 'tz': 'UTC', 'country': 'IRL'}, 'rank': 3.0, 'city': 'Dublin', 'tz': 'UTC', 'country': 'IRL'}, 'Rhonda Mills': {'person': True, 'type': 'person', 'name': 'Rhonda Mills', 'hire_date': datetime.date(2021, 12, 28), 'status': 'Full Time', 'languages': ['Python', 'JavaScript', 'Scala'], 'manager': 'Kelsey Ramos', 'team': 'DevOps', 'title': 'Senior Manager', 'location': {'city': 'Dublin', 'tz': 'UTC', 'country': 'IRL'}, 'rank': 4.0, 'city': 'Dublin', 'tz': 'UTC', 'country': 'IRL'}, 'David Rice': {'person': True, 'type': 'person', 'name': 'David Rice', 'hire_date': datetime.date(2020, 5, 19), 'status': 'Part Time', 'languages': [], 'manager': 'Rhonda Mills', 'team': 'DevOps', 'title': 'Senior Manager', 'location': {'city': 'Dublin', 'tz': 'UTC', 'country': 'IRL'}, 'rank': 4.0, 'city': 'Dublin', 'tz': 'UTC', 'country': 'IRL'}, 'Joan Ellis': {'person': True, 'type': 'person', 'name': 'Joan Ellis', 'hire_date': datetime.date(2020, 12, 21), 'status': 'Full Time', 'languages': ['Java'], 'manager': 'Kelsey Ramos', 'team': 'DevX', 'title': 'Engineer', 'location': {'city': 'Fort Lauderdale', 'tz': 'EST', 'country': 'USA'}, 'rank': 5.0, 'city': 'Fort Lauderdale', 'tz': 'EST', 'country': 'USA'}, 'Jeffrey Fields': {'person': True, 'type': 'person', 'name': 'Jeffrey Fields', 'hire_date': datetime.date(2022, 1, 11), 'status': 'Full Time', 'languages': ['JavaScript', 'Scala', 'Java'], 'manager': 'Joan Ellis', 'team': 'DevX', 'title': 'Engineer', 'location': {'city': 'Fort Lauderdale', 'tz': 'EST', 'country': 'USA'}, 'rank': 5.0, 'city': 'Fort Lauderdale', 'tz': 'EST', 'country': 'USA'}, 'Barbara Chandler': {'person': True, 'type': 'person', 'name': 'Barbara Chandler', 'hire_date': datetime.date(2020, 12, 1), 'status': 'Contract', 'languages': ['Python'], 'manager': 'Joan Ellis', 'team': 'DevX', 'title': 'Engineer', 'location': {'city': 'Fort Lauderdale', 'tz': 'EST', 'country': 'USA'}, 'rank': 5.0, 'city': 'Fort Lauderdale', 'tz': 'EST', 'country': 'USA'}, 'Michelle Jacobs': {'person': True, 'type': 'person', 'name': 'Michelle Jacobs', 'hire_date': datetime.date(2022, 9, 23), 'status': 'Full Time', 'languages': [], 'manager': 'Joan Ellis', 'team': 'DevX', 'title': 'Engineer', 'location': {'city': 'Fort Lauderdale', 'tz': 'EST', 'country': 'USA'}, 'rank': 5.0, 'city': 'Fort Lauderdale', 'tz': 'EST', 'country': 'USA'}, 'Aaron Evans': {'person': True, 'type': 'person', 'name': 'Aaron Evans', 'hire_date': datetime.date(2022, 2, 16), 'status': 'Full Time', 'languages': ['Go'], 'manager': 'Joan Ellis', 'team': 'DevX', 'title': 'Engineer', 'location': {'city': 'Fort Lauderdale', 'tz': 'EST', 'country': 'USA'}, 'rank': 5.0, 'city': 'Fort Lauderdale', 'tz': 'EST', 'country': 'USA'}, 'Oscar Riggs': {'person': True, 'type': 'person', 'name': 'Oscar Riggs', 'hire_date': datetime.date(2022, 8, 2), 'status': 'Contract', 'languages': ['Java'], 'manager': 'Joan Ellis', 'team': 'DevX', 'title': 'Engineer', 'location': {'city': 'Fort Lauderdale', 'tz': 'EST', 'country': 'USA'}, 'rank': 5.0, 'city': 'Fort Lauderdale', 'tz': 'EST', 'country': 'USA'}, 'Lisa Dickson': {'person': True, 'type': 'person', 'name': 'Lisa Dickson', 'hire_date': datetime.date(2020, 7, 13), 'status': 'Contract', 'languages': [], 'manager': 'Courtney Lowery', 'team': 'DevX', 'title': 'Engineer', 'location': {'city': 'Fort Lauderdale', 'tz': 'EST', 'country': 'USA'}, 'rank': 5.0, 'city': 'Fort Lauderdale', 'tz': 'EST', 'country': 'USA'}, 'Jamie Nelson': {'person': True, 'type': 'person', 'name': 'Jamie Nelson', 'hire_date': datetime.date(2021, 3, 5), 'status': 'Full Time', 'languages': ['Python', 'JavaScript', 'Scala'], 'manager': 'Courtney Lowery', 'team': 'DevX', 'title': 'Engineer', 'location': {'city': 'Fort Lauderdale', 'tz': 'EST', 'country': 'USA'}, 'rank': 5.0, 'city': 'Fort Lauderdale', 'tz': 'EST', 'country': 'USA'}, 'Erik Owens MD': {'person': True, 'type': 'person', 'name': 'Erik Owens MD', 'hire_date': datetime.date(2022, 6, 2), 'status': 'Full Time', 'languages': ['Python', 'JavaScript', 'Go'], 'manager': 'Jennifer Cook', 'team': 'DevX', 'title': 'Engineer', 'location': {'city': 'Fort Lauderdale', 'tz': 'EST', 'country': 'USA'}, 'rank': 5.0, 'city': 'Fort Lauderdale', 'tz': 'EST', 'country': 'USA'}, 'Anthony Lee': {'person': True, 'type': 'person', 'name': 'Anthony Lee', 'hire_date': datetime.date(2021, 6, 10), 'status': 'Contract', 'languages': ['Python', 'Typescript', 'Java'], 'manager': 'Jennifer Cook', 'team': 'DevX', 'title': 'Engineer', 'location': {'city': 'Fort Lauderdale', 'tz': 'EST', 'country': 'USA'}, 'rank': 5.0, 'city': 'Fort Lauderdale', 'tz': 'EST', 'country': 'USA'}, 'Jamie Larsen': {'person': True, 'type': 'person', 'name': 'Jamie Larsen', 'hire_date': datetime.date(2022, 3, 4), 'status': 'Full Time', 'languages': ['Python', 'Scala', 'Java'], 'manager': 'Michael Gonzalez', 'team': 'DevX', 'title': 'Engineer', 'location': {'city': 'Fort Lauderdale', 'tz': 'EST', 'country': 'USA'}, 'rank': 5.0, 'city': 'Fort Lauderdale', 'tz': 'EST', 'country': 'USA'}, 'Andrea Stone': {'person': True, 'type': 'person', 'name': 'Andrea Stone', 'hire_date': datetime.date(2021, 9, 7), 'status': 'Full Time', 'languages': [], 'manager': 'Trevor Cervantes', 'team': 'DevX', 'title': 'Engineer', 'location': {'city': 'Fort Lauderdale', 'tz': 'EST', 'country': 'USA'}, 'rank': 5.0, 'city': 'Fort Lauderdale', 'tz': 'EST', 'country': 'USA'}, 'Patricia Shields': {'person': True, 'type': 'person', 'name': 'Patricia Shields', 'hire_date': datetime.date(2020, 12, 2), 'status': 'Part Time', 'languages': ['Python', 'Typescript'], 'manager': 'Kristy Singleton', 'team': 'DevX', 'title': 'Engineer', 'location': {'city': 'Fort Lauderdale', 'tz': 'EST', 'country': 'USA'}, 'rank': 5.0, 'city': 'Fort Lauderdale', 'tz': 'EST', 'country': 'USA'}, 'Joseph Simmons': {'person': True, 'type': 'person', 'name': 'Joseph Simmons', 'hire_date': datetime.date(2023, 3, 28), 'status': 'Full Time', 'languages': ['Scala', 'Java'], 'manager': 'Kristy Singleton', 'team': 'DevX', 'title': 'Engineer', 'location': {'city': 'Fort Lauderdale', 'tz': 'EST', 'country': 'USA'}, 'rank': 5.0, 'city': 'Fort Lauderdale', 'tz': 'EST', 'country': 'USA'}, 'Shane Mccarthy': {'person': True, 'type': 'person', 'name': 'Shane Mccarthy', 'hire_date': datetime.date(2022, 11, 3), 'status': 'Contract', 'languages': [], 'manager': 'Kristy Singleton', 'team': 'DevX', 'title': 'Engineer', 'location': {'city': 'Fort Lauderdale', 'tz': 'EST', 'country': 'USA'}, 'rank': 5.0, 'city': 'Fort Lauderdale', 'tz': 'EST', 'country': 'USA'}, 'Thomas Ryan': {'person': True, 'type': 'person', 'name': 'Thomas Ryan', 'hire_date': datetime.date(2022, 7, 14), 'status': 'Contract', 'languages': ['Go'], 'manager': 'Kristy Singleton', 'team': 'DevX', 'title': 'Engineer', 'location': {'city': 'Fort Lauderdale', 'tz': 'EST', 'country': 'USA'}, 'rank': 5.0, 'city': 'Fort Lauderdale', 'tz': 'EST', 'country': 'USA'}, 'Courtney Lowery': {'person': True, 'type': 'person', 'name': 'Courtney Lowery', 'hire_date': datetime.date(2022, 10, 15), 'status': 'Full Time', 'languages': ['Python', 'Typescript', 'Scala', 'Java'], 'manager': 'Kelsey Ramos', 'team': 'DevX', 'title': 'AVP', 'location': {'city': 'Fort Lauderdale', 'tz': 'EST', 'country': 'USA'}, 'rank': 6.0, 'city': 'Fort Lauderdale', 'tz': 'EST', 'country': 'USA'}, 'Jennifer Cook': {'person': True, 'type': 'person', 'name': 'Jennifer Cook', 'hire_date': datetime.date(2021, 8, 17), 'status': 'Full Time', 'languages': [], 'manager': 'Courtney Lowery', 'team': 'DevX', 'title': 'AVP', 'location': {'city': 'Fort Lauderdale', 'tz': 'EST', 'country': 'USA'}, 'rank': 6.0, 'city': 'Fort Lauderdale', 'tz': 'EST', 'country': 'USA'}, 'Michael Gonzalez': {'person': True, 'type': 'person', 'name': 'Michael Gonzalez', 'hire_date': datetime.date(2021, 9, 21), 'status': 'Contract', 'languages': ['JavaScript'], 'manager': 'Courtney Lowery', 'team': 'DevX', 'title': 'AVP', 'location': {'city': 'Fort Lauderdale', 'tz': 'EST', 'country': 'USA'}, 'rank': 6.0, 'city': 'Fort Lauderdale', 'tz': 'EST', 'country': 'USA'}, 'Trevor Cervantes': {'person': True, 'type': 'person', 'name': 'Trevor Cervantes', 'hire_date': datetime.date(2022, 4, 1), 'status': 'Full Time', 'languages': ['Python', 'JavaScript'], 'manager': 'Courtney Lowery', 'team': 'DevX', 'title': 'AVP', 'location': {'city': 'Fort Lauderdale', 'tz': 'EST', 'country': 'USA'}, 'rank': 6.0, 'city': 'Fort Lauderdale', 'tz': 'EST', 'country': 'USA'}, 'Kristy Singleton': {'person': True, 'type': 'person', 'name': 'Kristy Singleton', 'hire_date': datetime.date(2022, 12, 14), 'status': 'Full Time', 'languages': [], 'manager': 'Courtney Lowery', 'team': 'DevX', 'title': 'AVP', 'location': {'city': 'Fort Lauderdale', 'tz': 'EST', 'country': 'USA'}, 'rank': 6.0, 'city': 'Fort Lauderdale', 'tz': 'EST', 'country': 'USA'}, 'Robert Lewis': {'person': True, 'type': 'person', 'name': 'Robert Lewis', 'hire_date': datetime.date(2020, 8, 12), 'status': 'Full Time', 'languages': ['Python', 'Scala'], 'manager': 'David Smith', 'team': 'Product', 'title': 'Engineer', 'location': {'city': 'New York', 'tz': 'EST', 'country': 'USA'}, 'rank': 1.0, 'city': 'New York', 'tz': 'EST', 'country': 'USA'}, 'Jason Madden': {'person': True, 'type': 'person', 'name': 'Jason Madden', 'hire_date': datetime.date(2020, 11, 2), 'status': 'Full Time', 'languages': [], 'manager': 'Dakota Myers', 'team': 'Internal Tools', 'title': 'Engineer', 'location': {'city': 'Seattle', 'tz': 'PST', 'country': 'USA'}, 'rank': 1.0, 'city': 'Seattle', 'tz': 'PST', 'country': 'USA'}, 'Lauren Johnson': {'person': True, 'type': 'person', 'name': 'Lauren Johnson', 'hire_date': datetime.date(2021, 3, 20), 'status': 'Full Time', 'languages': ['Typescript', 'Java'], 'manager': 'Dakota Myers', 'team': 'Internal Tools', 'title': 'Senior Engineer', 'location': {'city': 'Seattle', 'tz': 'PST', 'country': 'USA'}, 'rank': 2.0, 'city': 'Seattle', 'tz': 'PST', 'country': 'USA'}, 'Antonio Neal': {'person': True, 'type': 'person', 'name': 'Antonio Neal', 'hire_date': datetime.date(2021, 9, 1), 'status': 'Full Time', 'languages': ['JavaScript', 'Go'], 'manager': 'Janet Hancock', 'team': 'Internal Tools', 'title': 'Senior Engineer', 'location': {'city': 'Toronto', 'tz': 'EST', 'country': 'CAN'}, 'rank': 2.0, 'city': 'Toronto', 'tz': 'EST', 'country': 'CAN'}, 'Michelle Vazquez': {'person': True, 'type': 'person', 'name': 'Michelle Vazquez', 'hire_date': datetime.date(2023, 2, 20), 'status': 'Full Time', 'languages': ['Typescript', 'Go', 'Java'], 'manager': 'Kelsey Ramos', 'team': 'Internal Tools', 'title': 'Manager', 'location': {'city': 'Seattle', 'tz': 'PST', 'country': 'USA'}, 'rank': 3.0, 'city': 'Seattle', 'tz': 'PST', 'country': 'USA'}, 'Roy Castillo': {'person': True, 'type': 'person', 'name': 'Roy Castillo', 'hire_date': datetime.date(2022, 11, 14), 'status': 'Full Time', 'languages': ['Scala', 'Java'], 'manager': 'Michelle Vazquez', 'team': 'Internal Tools', 'title': 'Manager', 'location': {'city': 'Seattle', 'tz': 'PST', 'country': 'USA'}, 'rank': 3.0, 'city': 'Seattle', 'tz': 'PST', 'country': 'USA'}, 'Brad Anderson': {'person': True, 'type': 'person', 'name': 'Brad Anderson', 'hire_date': datetime.date(2021, 9, 30), 'status': 'Contract', 'languages': [], 'manager': 'Michelle Vazquez', 'team': 'Internal Tools', 'title': 'Manager', 'location': {'city': 'Toronto', 'tz': 'EST', 'country': 'CAN'}, 'rank': 3.0, 'city': 'Toronto', 'tz': 'EST', 'country': 'CAN'}, 'Kimberly Stone': {'person': True, 'type': 'person', 'name': 'Kimberly Stone', 'hire_date': datetime.date(2020, 11, 15), 'status': 'Full Time', 'languages': ['JavaScript', 'Java'], 'manager': 'Michelle Vazquez', 'team': 'Internal Tools', 'title': 'Manager', 'location': {'city': 'Toronto', 'tz': 'EST', 'country': 'CAN'}, 'rank': 3.0, 'city': 'Toronto', 'tz': 'EST', 'country': 'CAN'}, 'Jason Allen': {'person': True, 'type': 'person', 'name': 'Jason Allen', 'hire_date': datetime.date(2021, 2, 6), 'status': 'Full Time', 'languages': ['JavaScript'], 'manager': 'Dakota Myers', 'team': 'Internal Tools', 'title': 'Manager', 'location': {'city': 'Toronto', 'tz': 'EST', 'country': 'CAN'}, 'rank': 3.0, 'city': 'Toronto', 'tz': 'EST', 'country': 'CAN'}, 'Lindsey Lyons': {'person': True, 'type': 'person', 'name': 'Lindsey Lyons', 'hire_date': datetime.date(2021, 12, 20), 'status': 'Contract', 'languages': ['JavaScript'], 'manager': 'Kelsey Ramos', 'team': 'Internal Tools', 'title': 'AVP', 'location': {'city': 'Seattle', 'tz': 'PST', 'country': 'USA'}, 'rank': 4.0, 'city': 'Seattle', 'tz': 'PST', 'country': 'USA'}, 'Dakota Myers': {'person': True, 'type': 'person', 'name': 'Dakota Myers', 'hire_date': datetime.date(2022, 4, 27), 'status': 'Full Time', 'languages': ['Python', 'JavaScript', 'Go', 'Java'], 'manager': 'Lindsey Lyons', 'team': 'Internal Tools', 'title': 'AVP', 'location': {'city': 'Seattle', 'tz': 'PST', 'country': 'USA'}, 'rank': 4.0, 'city': 'Seattle', 'tz': 'PST', 'country': 'USA'}, 'Janet Hancock': {'person': True, 'type': 'person', 'name': 'Janet Hancock', 'hire_date': datetime.date(2022, 10, 25), 'status': 'Contract', 'languages': ['Typescript', 'JavaScript'], 'manager': 'Kelsey Ramos', 'team': 'Internal Tools', 'title': 'VP', 'location': {'city': 'Seattle', 'tz': 'PST', 'country': 'USA'}, 'rank': 5.0, 'city': 'Seattle', 'tz': 'PST', 'country': 'USA'}, 'Catherine Valdez': {'person': True, 'type': 'person', 'name': 'Catherine Valdez', 'hire_date': datetime.date(2020, 10, 19), 'status': 'Contract', 'languages': ['Python', 'Typescript'], 'manager': 'Bryce Green', 'team': 'Platform', 'title': 'Engineer', 'location': {'city': 'Seattle', 'tz': 'PST', 'country': 'USA'}, 'rank': 1.0, 'city': 'Seattle', 'tz': 'PST', 'country': 'USA'}, 'Andrew Smith': {'person': True, 'type': 'person', 'name': 'Andrew Smith', 'hire_date': datetime.date(2022, 4, 29), 'status': 'Contract', 'languages': [], 'manager': 'Bryce Green', 'team': 'Platform', 'title': 'Engineer', 'location': {'city': 'Toronto', 'tz': 'EST', 'country': 'CAN'}, 'rank': 1.0, 'city': 'Toronto', 'tz': 'EST', 'country': 'CAN'}, 'Michael Mcdonald': {'person': True, 'type': 'person', 'name': 'Michael Mcdonald', 'hire_date': datetime.date(2022, 4, 17), 'status': 'Contract', 'languages': [], 'manager': 'Shawn Martin', 'team': 'Platform', 'title': 'Engineer', 'location': {'city': 'Seattle', 'tz': 'PST', 'country': 'USA'}, 'rank': 1.0, 'city': 'Seattle', 'tz': 'PST', 'country': 'USA'}, 'Kendra Martin': {'person': True, 'type': 'person', 'name': 'Kendra Martin', 'hire_date': datetime.date(2023, 2, 6), 'status': 'Full Time', 'languages': ['JavaScript', 'Java'], 'manager': 'Bryce Green', 'team': 'Platform', 'title': 'Senior Engineer', 'location': {'city': 'Toronto', 'tz': 'EST', 'country': 'CAN'}, 'rank': 2.0, 'city': 'Toronto', 'tz': 'EST', 'country': 'CAN'}, 'Samantha Ramos': {'person': True, 'type': 'person', 'name': 'Samantha Ramos', 'hire_date': datetime.date(2021, 1, 13), 'status': 'Full Time', 'languages': ['Go'], 'manager': 'Bryce Green', 'team': 'Platform', 'title': 'Senior Engineer', 'location': {'city': 'Seattle', 'tz': 'PST', 'country': 'USA'}, 'rank': 2.0, 'city': 'Seattle', 'tz': 'PST', 'country': 'USA'}, 'Keith Lopez': {'person': True, 'type': 'person', 'name': 'Keith Lopez', 'hire_date': datetime.date(2021, 9, 11), 'status': 'Contract', 'languages': ['Typescript', 'JavaScript', 'Go', 'Java'], 'manager': 'Shawn Martin', 'team': 'Platform', 'title': 'Senior Engineer', 'location': {'city': 'Seattle', 'tz': 'PST', 'country': 'USA'}, 'rank': 2.0, 'city': 'Seattle', 'tz': 'PST', 'country': 'USA'}, 'Connie Garcia': {'person': True, 'type': 'person', 'name': 'Connie Garcia', 'hire_date': datetime.date(2023, 3, 13), 'status': 'Full Time', 'languages': ['Java', 'Python', 'Typescript', 'JavaScript', 'Scala'], 'manager': 'Shawn Martin', 'team': 'Platform', 'title': 'Senior Engineer', 'location': {'city': 'Seattle', 'tz': 'PST', 'country': 'USA'}, 'rank': 2.0, 'city': 'Seattle', 'tz': 'PST', 'country': 'USA'}, 'Michael Thompson': {'person': True, 'type': 'person', 'name': 'Michael Thompson', 'hire_date': datetime.date(2022, 4, 6), 'status': 'Contract', 'languages': ['Typescript'], 'manager': 'Bryce Green', 'team': 'Platform', 'title': 'Managing Engineer', 'location': {'city': 'Toronto', 'tz': 'EST', 'country': 'CAN'}, 'rank': 3.0, 'city': 'Toronto', 'tz': 'EST', 'country': 'CAN'}, 'Michael Morgan DDS': {'person': True, 'type': 'person', 'name': 'Michael Morgan DDS', 'hire_date': datetime.date(2022, 12, 29), 'status': 'Full Time', 'languages': ['Python', 'Typescript', 'JavaScript', 'Java'], 'manager': 'Shawn Martin', 'team': 'Platform', 'title': 'Managing Engineer', 'location': {'city': 'Toronto', 'tz': 'EST', 'country': 'CAN'}, 'rank': 3.0, 'city': 'Toronto', 'tz': 'EST', 'country': 'CAN'}, 'David Wallace': {'person': True, 'type': 'person', 'name': 'David Wallace', 'hire_date': datetime.date(2022, 11, 19), 'status': 'Full Time', 'languages': [], 'manager': 'Bryce Green', 'team': 'Platform', 'title': 'AVP', 'location': {'city': 'Seattle', 'tz': 'PST', 'country': 'USA'}, 'rank': 4.0, 'city': 'Seattle', 'tz': 'PST', 'country': 'USA'}, 'Nancy Moore': {'person': True, 'type': 'person', 'name': 'Nancy Moore', 'hire_date': datetime.date(2021, 9, 19), 'status': 'Full Time', 'languages': ['Erlang', 'JavaScript'], 'manager': 'Kylie Patel', 'team': 'Platform', 'title': 'AVP', 'location': {'city': 'Seattle', 'tz': 'PST', 'country': 'USA'}, 'rank': 4.0, 'city': 'Seattle', 'tz': 'PST', 'country': 'USA'}, 'Bryce Green': {'person': True, 'type': 'person', 'name': 'Bryce Green', 'hire_date': datetime.date(2022, 1, 7), 'status': 'Full Time', 'languages': ['Typescript', 'JavaScript'], 'manager': 'Kelsey Ramos', 'team': 'Platform', 'title': 'VP', 'location': {'city': 'Seattle', 'tz': 'PST', 'country': 'USA'}, 'rank': 5.0, 'city': 'Seattle', 'tz': 'PST', 'country': 'USA'}, 'Kylie Patel': {'person': True, 'type': 'person', 'name': 'Kylie Patel', 'hire_date': datetime.date(2022, 4, 11), 'status': 'Full Time', 'languages': ['Python', 'JavaScript', 'Java'], 'manager': 'Bryce Green', 'team': 'Platform', 'title': 'VP', 'location': {'city': 'Toronto', 'tz': 'EST', 'country': 'CAN'}, 'rank': 5.0, 'city': 'Toronto', 'tz': 'EST', 'country': 'CAN'}, 'Shawn Martin': {'person': True, 'type': 'person', 'name': 'Shawn Martin', 'hire_date': datetime.date(2022, 9, 5), 'status': 'Full Time', 'languages': ['JavaScript'], 'manager': 'Bryce Green', 'team': 'Platform', 'title': 'VP', 'location': {'city': 'Seattle', 'tz': 'PST', 'country': 'USA'}, 'rank': 5.0, 'city': 'Seattle', 'tz': 'PST', 'country': 'USA'}, 'Wesley Weiss': {'person': True, 'type': 'person', 'name': 'Wesley Weiss', 'hire_date': datetime.date(2020, 7, 7), 'status': 'Full Time', 'languages': ['Python', 'JavaScript'], 'manager': 'Kelsey Ramos', 'team': 'Product', 'title': 'Engineer', 'location': {'city': 'Seattle', 'tz': 'PST', 'country': 'USA'}, 'rank': 1.0, 'city': 'Seattle', 'tz': 'PST', 'country': 'USA'}, 'Stephanie Oconnor': {'person': True, 'type': 'person', 'name': 'Stephanie Oconnor', 'hire_date': datetime.date(2021, 3, 27), 'status': 'Full Time', 'languages': ['Typescript'], 'manager': 'James Myers', 'team': 'Product', 'title': 'Engineer', 'location': {'city': 'Toronto', 'tz': 'EST', 'country': 'CAN'}, 'rank': 1.0, 'city': 'Toronto', 'tz': 'EST', 'country': 'CAN'}, 'Kathy Arroyo': {'person': True, 'type': 'person', 'name': 'Kathy Arroyo', 'hire_date': datetime.date(2020, 12, 20), 'status': 'Contract', 'languages': ['JavaScript', 'Scala', 'Java'], 'manager': 'David Smith', 'team': 'Product', 'title': 'Engineer', 'location': {'city': 'Seattle', 'tz': 'PST', 'country': 'USA'}, 'rank': 1.0, 'city': 'Seattle', 'tz': 'PST', 'country': 'USA'}, 'Andrew Parker': {'person': True, 'type': 'person', 'name': 'Andrew Parker', 'hire_date': datetime.date(2023, 3, 8), 'status': 'Contract', 'languages': ['Python', 'Typescript', 'JavaScript', 'Java'], 'manager': 'David Smith', 'team': 'Product', 'title': 'Engineer', 'location': {'city': 'New York', 'tz': 'EST', 'country': 'USA'}, 'rank': 1.0, 'city': 'New York', 'tz': 'EST', 'country': 'USA'}, 'David Silva': {'person': True, 'type': 'person', 'name': 'David Silva', 'hire_date': datetime.date(2021, 5, 21), 'status': 'Full Time', 'languages': [], 'manager': 'Danielle Martinez', 'team': 'Product', 'title': 'Manager', 'location': {'city': 'New York', 'tz': 'EST', 'country': 'USA'}, 'rank': 2.0, 'city': 'New York', 'tz': 'EST', 'country': 'USA'}, 'Sandy Johnson': {'person': True, 'type': 'person', 'name': 'Sandy Johnson', 'hire_date': datetime.date(2022, 2, 3), 'status': 'Full Time', 'languages': ['JavaScript'], 'manager': 'James Myers', 'team': 'Product', 'title': 'Manager', 'location': {'city': 'Toronto', 'tz': 'EST', 'country': 'CAN'}, 'rank': 2.0, 'city': 'Toronto', 'tz': 'EST', 'country': 'CAN'}, 'Cody Howard': {'person': True, 'type': 'person', 'name': 'Cody Howard', 'hire_date': datetime.date(2020, 4, 23), 'status': 'Full Time', 'languages': [], 'manager': 'James Myers', 'team': 'Product', 'title': 'Manager', 'location': {'city': 'New York', 'tz': 'EST', 'country': 'USA'}, 'rank': 2.0, 'city': 'New York', 'tz': 'EST', 'country': 'USA'}, 'Samantha Hawkins': {'person': True, 'type': 'person', 'name': 'Samantha Hawkins', 'hire_date': datetime.date(2021, 11, 26), 'status': 'Contract', 'languages': ['Scala'], 'manager': 'James Myers', 'team': 'Product', 'title': 'Manager', 'location': {'city': 'Seattle', 'tz': 'PST', 'country': 'USA'}, 'rank': 2.0, 'city': 'Seattle', 'tz': 'PST', 'country': 'USA'}, 'Renee Parker': {'person': True, 'type': 'person', 'name': 'Renee Parker', 'hire_date': datetime.date(2020, 11, 14), 'status': 'Full Time', 'languages': [], 'manager': 'Kevin Castaneda', 'team': 'Product', 'title': 'Manager', 'location': {'city': 'New York', 'tz': 'EST', 'country': 'USA'}, 'rank': 2.0, 'city': 'New York', 'tz': 'EST', 'country': 'USA'}, 'Courtney Lin': {'person': True, 'type': 'person', 'name': 'Courtney Lin', 'hire_date': datetime.date(2021, 11, 10), 'status': 'Full Time', 'languages': [], 'manager': 'David Smith', 'team': 'Product', 'title': 'Manager', 'location': {'city': 'New York', 'tz': 'EST', 'country': 'USA'}, 'rank': 2.0, 'city': 'New York', 'tz': 'EST', 'country': 'USA'}, 'Kathleen Mason': {'person': True, 'type': 'person', 'name': 'Kathleen Mason', 'hire_date': datetime.date(2022, 7, 23), 'status': 'Full Time', 'languages': ['Python', 'Typescript', 'JavaScript', 'Scala'], 'manager': 'Nathan Johnson', 'team': 'Product', 'title': 'Product Owner', 'location': {'city': 'New York', 'tz': 'EST', 'country': 'USA'}, 'rank': 3.0, 'city': 'New York', 'tz': 'EST', 'country': 'USA'}, 'Guy Watson': {'person': True, 'type': 'person', 'name': 'Guy Watson', 'hire_date': datetime.date(2021, 4, 5), 'status': 'Full Time', 'languages': ['Python', 'Typescript', 'JavaScript', 'Java'], 'manager': 'James Myers', 'team': 'Product', 'title': 'Product Owner', 'location': {'city': 'Seattle', 'tz': 'PST', 'country': 'USA'}, 'rank': 3.0, 'city': 'Seattle', 'tz': 'PST', 'country': 'USA'}, 'James Hoffman': {'person': True, 'type': 'person', 'name': 'James Hoffman', 'hire_date': datetime.date(2022, 6, 7), 'status': 'Full Time', 'languages': [], 'manager': 'Julie Harris', 'team': 'Product', 'title': 'Product Owner', 'location': {'city': 'New York', 'tz': 'EST', 'country': 'USA'}, 'rank': 3.0, 'city': 'New York', 'tz': 'EST', 'country': 'USA'}, 'Sherri Pope': {'person': True, 'type': 'person', 'name': 'Sherri Pope', 'hire_date': datetime.date(2021, 1, 22), 'status': 'Part Time', 'languages': ['Python', 'JavaScript', 'Java'], 'manager': 'Ashley Johnson', 'team': 'Product', 'title': 'Product Owner', 'location': {'city': 'Seattle', 'tz': 'PST', 'country': 'USA'}, 'rank': 3.0, 'city': 'Seattle', 'tz': 'PST', 'country': 'USA'}, 'Samuel Owens': {'person': True, 'type': 'person', 'name': 'Samuel Owens', 'hire_date': datetime.date(2021, 2, 25), 'status': 'Full Time', 'languages': ['Python', 'JavaScript', 'Go'], 'manager': 'Nathan Johnson', 'team': 'Product', 'title': 'AVP', 'location': {'city': 'New York', 'tz': 'EST', 'country': 'USA'}, 'rank': 4.0, 'city': 'New York', 'tz': 'EST', 'country': 'USA'}, 'Christine Lee': {'person': True, 'type': 'person', 'name': 'Christine Lee', 'hire_date': datetime.date(2022, 8, 21), 'status': 'Full Time', 'languages': [], 'manager': 'James Myers', 'team': 'Product', 'title': 'AVP', 'location': {'city': 'Toronto', 'tz': 'EST', 'country': 'CAN'}, 'rank': 4.0, 'city': 'Toronto', 'tz': 'EST', 'country': 'CAN'}, 'Tonya Martinez': {'person': True, 'type': 'person', 'name': 'Tonya Martinez', 'hire_date': datetime.date(2022, 6, 1), 'status': 'Full Time', 'languages': ['Python', 'Go'], 'manager': 'Julie Harris', 'team': 'Product', 'title': 'AVP', 'location': {'city': 'Toronto', 'tz': 'EST', 'country': 'CAN'}, 'rank': 4.0, 'city': 'Toronto', 'tz': 'EST', 'country': 'CAN'}, 'Kurt Arias': {'person': True, 'type': 'person', 'name': 'Kurt Arias', 'hire_date': datetime.date(2021, 1, 9), 'status': 'Full Time', 'languages': ['Java'], 'manager': 'David Smith', 'team': 'Product', 'title': 'AVP', 'location': {'city': 'New York', 'tz': 'EST', 'country': 'USA'}, 'rank': 4.0, 'city': 'New York', 'tz': 'EST', 'country': 'USA'}, 'Emily Zamora': {'person': True, 'type': 'person', 'name': 'Emily Zamora', 'hire_date': datetime.date(2023, 1, 15), 'status': 'Full Time', 'languages': ['Python', 'Typescript', 'Java'], 'manager': 'David Smith', 'team': 'Product', 'title': 'AVP', 'location': {'city': 'Seattle', 'tz': 'PST', 'country': 'USA'}, 'rank': 4.0, 'city': 'Seattle', 'tz': 'PST', 'country': 'USA'}, 'Anne Bird': {'person': True, 'type': 'person', 'name': 'Anne Bird', 'hire_date': datetime.date(2021, 12, 26), 'status': 'Full Time', 'languages': ['Python', 'Scala', 'Java'], 'manager': 'Ashley Johnson', 'team': 'Product', 'title': 'AVP', 'location': {'city': 'New York', 'tz': 'EST', 'country': 'USA'}, 'rank': 4.0, 'city': 'New York', 'tz': 'EST', 'country': 'USA'}, 'Nicole Kemp': {'person': True, 'type': 'person', 'name': 'Nicole Kemp', 'hire_date': datetime.date(2020, 7, 2), 'status': 'Full Time', 'languages': ['JavaScript', 'Go', 'Java'], 'manager': 'Ashley Johnson', 'team': 'Product', 'title': 'AVP', 'location': {'city': 'Toronto', 'tz': 'EST', 'country': 'CAN'}, 'rank': 4.0, 'city': 'Toronto', 'tz': 'EST', 'country': 'CAN'}, 'Amanda Blake': {'person': True, 'type': 'person', 'name': 'Amanda Blake', 'hire_date': datetime.date(2021, 7, 27), 'status': 'Full Time', 'languages': ['Python'], 'manager': 'Kelsey Ramos', 'team': 'Product', 'title': 'VP', 'location': {'city': 'Seattle', 'tz': 'PST', 'country': 'USA'}, 'rank': 5.0, 'city': 'Seattle', 'tz': 'PST', 'country': 'USA'}, 'Danielle Martinez': {'person': True, 'type': 'person', 'name': 'Danielle Martinez', 'hire_date': datetime.date(2020, 9, 24), 'status': 'Contract', 'languages': ['Typescript', 'JavaScript', 'Go'], 'manager': 'Amanda Blake', 'team': 'Product', 'title': 'VP', 'location': {'city': 'New York', 'tz': 'EST', 'country': 'USA'}, 'rank': 5.0, 'city': 'New York', 'tz': 'EST', 'country': 'USA'}, 'Nathan Johnson': {'person': True, 'type': 'person', 'name': 'Nathan Johnson', 'hire_date': datetime.date(2020, 5, 9), 'status': 'Contract', 'languages': [], 'manager': 'Amanda Blake', 'team': 'Product', 'title': 'VP', 'location': {'city': 'New York', 'tz': 'EST', 'country': 'USA'}, 'rank': 5.0, 'city': 'New York', 'tz': 'EST', 'country': 'USA'}, 'James Myers': {'person': True, 'type': 'person', 'name': 'James Myers', 'hire_date': datetime.date(2022, 1, 6), 'status': 'Contract', 'languages': ['Python'], 'manager': 'Amanda Blake', 'team': 'Product', 'title': 'VP', 'location': {'city': 'Seattle', 'tz': 'PST', 'country': 'USA'}, 'rank': 5.0, 'city': 'Seattle', 'tz': 'PST', 'country': 'USA'}, 'Mr. Christopher Little': {'person': True, 'type': 'person', 'name': 'Mr. Christopher Little', 'hire_date': datetime.date(2021, 4, 23), 'status': 'Full Time', 'languages': ['Python', 'JavaScript', 'Java'], 'manager': 'Amanda Blake', 'team': 'Product', 'title': 'VP', 'location': {'city': 'Toronto', 'tz': 'EST', 'country': 'CAN'}, 'rank': 5.0, 'city': 'Toronto', 'tz': 'EST', 'country': 'CAN'}, 'Kevin Castaneda': {'person': True, 'type': 'person', 'name': 'Kevin Castaneda', 'hire_date': datetime.date(2022, 8, 20), 'status': 'Contract', 'languages': ['Python', 'Java'], 'manager': 'Amanda Blake', 'team': 'Product', 'title': 'VP', 'location': {'city': 'New York', 'tz': 'EST', 'country': 'USA'}, 'rank': 5.0, 'city': 'New York', 'tz': 'EST', 'country': 'USA'}, 'Julie Harris': {'person': True, 'type': 'person', 'name': 'Julie Harris', 'hire_date': datetime.date(2020, 12, 24), 'status': 'Contract', 'languages': ['Go'], 'manager': 'Amanda Blake', 'team': 'Product', 'title': 'VP', 'location': {'city': 'Seattle', 'tz': 'PST', 'country': 'USA'}, 'rank': 5.0, 'city': 'Seattle', 'tz': 'PST', 'country': 'USA'}, 'Michael Vasquez': {'person': True, 'type': 'person', 'name': 'Michael Vasquez', 'hire_date': datetime.date(2022, 7, 8), 'status': 'Full Time', 'languages': ['Python', 'Typescript', 'JavaScript', 'Java'], 'manager': 'Amanda Blake', 'team': 'Product', 'title': 'VP', 'location': {'city': 'Seattle', 'tz': 'PST', 'country': 'USA'}, 'rank': 5.0, 'city': 'Seattle', 'tz': 'PST', 'country': 'USA'}, 'David Smith': {'person': True, 'type': 'person', 'name': 'David Smith', 'hire_date': datetime.date(2020, 11, 6), 'status': 'Contract', 'languages': ['Python'], 'manager': 'Amanda Blake', 'team': 'Product', 'title': 'VP', 'location': {'city': 'Seattle', 'tz': 'PST', 'country': 'USA'}, 'rank': 5.0, 'city': 'Seattle', 'tz': 'PST', 'country': 'USA'}, 'Ashley Johnson': {'person': True, 'type': 'person', 'name': 'Ashley Johnson', 'hire_date': datetime.date(2022, 3, 19), 'status': 'Full Time', 'languages': ['Python', 'JavaScript', 'Go'], 'manager': 'Amanda Blake', 'team': 'Product', 'title': 'VP', 'location': {'city': 'Seattle', 'tz': 'PST', 'country': 'USA'}, 'rank': 5.0, 'city': 'Seattle', 'tz': 'PST', 'country': 'USA'}, 'Robert Holmes': {'person': True, 'type': 'person', 'name': 'Robert Holmes', 'hire_date': datetime.date(2023, 4, 11), 'status': 'Part Time', 'languages': ['Go'], 'manager': 'Teresa Jones', 'team': 'Sales', 'title': 'Associate', 'location': {'city': 'New York', 'tz': 'EST', 'country': 'USA'}, 'rank': 1.0, 'city': 'New York', 'tz': 'EST', 'country': 'USA'}, 'Deanna Harris': {'person': True, 'type': 'person', 'name': 'Deanna Harris', 'hire_date': datetime.date(2023, 4, 21), 'status': 'Full Time', 'languages': ['Python', 'Typescript', 'JavaScript'], 'manager': 'Teresa Jones', 'team': 'Sales', 'title': 'Associate', 'location': {'city': 'London', 'tz': 'UTC', 'country': 'GBR'}, 'rank': 1.0, 'city': 'London', 'tz': 'UTC', 'country': 'GBR'}, 'Zachary Hunter': {'person': True, 'type': 'person', 'name': 'Zachary Hunter', 'hire_date': datetime.date(2020, 12, 8), 'status': 'Part Time', 'languages': ['Java'], 'manager': 'Teresa Jones', 'team': 'Sales', 'title': 'Associate', 'location': {'city': 'London', 'tz': 'UTC', 'country': 'GBR'}, 'rank': 1.0, 'city': 'London', 'tz': 'UTC', 'country': 'GBR'}, 'Mrs. Diane Bass': {'person': True, 'type': 'person', 'name': 'Mrs. Diane Bass', 'hire_date': datetime.date(2022, 6, 10), 'status': 'Full Time', 'languages': ['Python', 'JavaScript', 'Java'], 'manager': 'Teresa Jones', 'team': 'Sales', 'title': 'Associate', 'location': {'city': 'New York', 'tz': 'EST', 'country': 'USA'}, 'rank': 1.0, 'city': 'New York', 'tz': 'EST', 'country': 'USA'}, 'Emily Church': {'person': True, 'type': 'person', 'name': 'Emily Church', 'hire_date': datetime.date(2022, 10, 16), 'status': 'Full Time', 'languages': [], 'manager': 'Samuel Reynolds', 'team': 'Sales', 'title': 'Associate', 'location': {'city': 'Toronto', 'tz': 'EST', 'country': 'CAN'}, 'rank': 1.0, 'city': 'Toronto', 'tz': 'EST', 'country': 'CAN'}, 'Jonathan Guerrero': {'person': True, 'type': 'person', 'name': 'Jonathan Guerrero', 'hire_date': datetime.date(2021, 4, 27), 'status': 'Contract', 'languages': ['Typescript', 'Java'], 'manager': 'David King', 'team': 'Sales', 'title': 'Associate', 'location': {'city': 'London', 'tz': 'UTC', 'country': 'GBR'}, 'rank': 1.0, 'city': 'London', 'tz': 'UTC', 'country': 'GBR'}, 'Andrew Summers': {'person': True, 'type': 'person', 'name': 'Andrew Summers', 'hire_date': datetime.date(2020, 8, 24), 'status': 'Full Time', 'languages': ['Typescript', 'Scala'], 'manager': 'David King', 'team': 'Sales', 'title': 'Associate', 'location': {'city': 'London', 'tz': 'UTC', 'country': 'GBR'}, 'rank': 1.0, 'city': 'London', 'tz': 'UTC', 'country': 'GBR'}, 'Ashley Adams': {'person': True, 'type': 'person', 'name': 'Ashley Adams', 'hire_date': datetime.date(2021, 11, 24), 'status': 'Full Time', 'languages': ['Python', 'Typescript', 'JavaScript', 'Java'], 'manager': 'Olivia Johnson', 'team': 'Sales', 'title': 'Associate', 'location': {'city': 'New York', 'tz': 'EST', 'country': 'USA'}, 'rank': 1.0, 'city': 'New York', 'tz': 'EST', 'country': 'USA'}, 'Teresa Jones': {'person': True, 'type': 'person', 'name': 'Teresa Jones', 'hire_date': datetime.date(2021, 11, 12), 'status': 'Full Time', 'languages': [], 'manager': 'Kelsey Ramos', 'team': 'Sales', 'title': 'VP', 'location': {'city': 'London', 'tz': 'UTC', 'country': 'GBR'}, 'rank': 2.0, 'city': 'London', 'tz': 'UTC', 'country': 'GBR'}, 'Paula Foster': {'person': True, 'type': 'person', 'name': 'Paula Foster', 'hire_date': datetime.date(2022, 8, 29), 'status': 'Full Time', 'languages': ['Python'], 'manager': 'Teresa Jones', 'team': 'Sales', 'title': 'VP', 'location': {'city': 'New York', 'tz': 'EST', 'country': 'USA'}, 'rank': 2.0, 'city': 'New York', 'tz': 'EST', 'country': 'USA'}, 'Laura Ross DDS': {'person': True, 'type': 'person', 'name': 'Laura Ross DDS', 'hire_date': datetime.date(2021, 9, 9), 'status': 'Full Time', 'languages': ['JavaScript', 'Scala'], 'manager': 'Teresa Jones', 'team': 'Sales', 'title': 'VP', 'location': {'city': 'London', 'tz': 'UTC', 'country': 'GBR'}, 'rank': 2.0, 'city': 'London', 'tz': 'UTC', 'country': 'GBR'}, 'Joseph Hill': {'person': True, 'type': 'person', 'name': 'Joseph Hill', 'hire_date': datetime.date(2020, 5, 19), 'status': 'Full Time', 'languages': ['Python'], 'manager': 'Teresa Jones', 'team': 'Sales', 'title': 'VP', 'location': {'city': 'New York', 'tz': 'EST', 'country': 'USA'}, 'rank': 2.0, 'city': 'New York', 'tz': 'EST', 'country': 'USA'}, 'Paul Williams': {'person': True, 'type': 'person', 'name': 'Paul Williams', 'hire_date': datetime.date(2020, 5, 22), 'status': 'Full Time', 'languages': ['JavaScript'], 'manager': 'Teresa Jones', 'team': 'Sales', 'title': 'VP', 'location': {'city': 'London', 'tz': 'UTC', 'country': 'GBR'}, 'rank': 2.0, 'city': 'London', 'tz': 'UTC', 'country': 'GBR'}, 'Samuel Reynolds': {'person': True, 'type': 'person', 'name': 'Samuel Reynolds', 'hire_date': datetime.date(2020, 12, 24), 'status': 'Contract', 'languages': ['Go', 'Java', 'Python', 'JavaScript', 'Scala'], 'manager': 'Teresa Jones', 'team': 'Sales', 'title': 'VP', 'location': {'city': 'London', 'tz': 'UTC', 'country': 'GBR'}, 'rank': 2.0, 'city': 'London', 'tz': 'UTC', 'country': 'GBR'}, 'Holly Price': {'person': True, 'type': 'person', 'name': 'Holly Price', 'hire_date': datetime.date(2022, 3, 26), 'status': 'Contract', 'languages': ['Python', 'JavaScript'], 'manager': 'Teresa Jones', 'team': 'Sales', 'title': 'VP', 'location': {'city': 'London', 'tz': 'UTC', 'country': 'GBR'}, 'rank': 2.0, 'city': 'London', 'tz': 'UTC', 'country': 'GBR'}, 'David King': {'person': True, 'type': 'person', 'name': 'David King', 'hire_date': datetime.date(2022, 5, 13), 'status': 'Full Time', 'languages': ['Go', 'Java', 'Python', 'JavaScript', 'Scala'], 'manager': 'Teresa Jones', 'team': 'Sales', 'title': 'VP', 'location': {'city': 'London', 'tz': 'UTC', 'country': 'GBR'}, 'rank': 2.0, 'city': 'London', 'tz': 'UTC', 'country': 'GBR'}, 'Alexandria Alvarado': {'person': True, 'type': 'person', 'name': 'Alexandria Alvarado', 'hire_date': datetime.date(2023, 3, 17), 'status': 'Full Time', 'languages': ['Typescript', 'Go'], 'manager': 'Teresa Jones', 'team': 'Sales', 'title': 'VP', 'location': {'city': 'London', 'tz': 'UTC', 'country': 'GBR'}, 'rank': 2.0, 'city': 'London', 'tz': 'UTC', 'country': 'GBR'}, 'Olivia Johnson': {'person': True, 'type': 'person', 'name': 'Olivia Johnson', 'hire_date': datetime.date(2021, 9, 28), 'status': 'Full Time', 'languages': [], 'manager': 'Teresa Jones', 'team': 'Sales', 'title': 'VP', 'location': {'city': 'Toronto', 'tz': 'EST', 'country': 'CAN'}, 'rank': 2.0, 'city': 'Toronto', 'tz': 'EST', 'country': 'CAN'}, 'Nicole Hernandez': {'person': True, 'type': 'person', 'name': 'Nicole Hernandez', 'hire_date': datetime.date(2022, 3, 21), 'status': 'Contract', 'languages': [], 'manager': 'Teresa Jones', 'team': 'Sales', 'title': 'VP', 'location': {'city': 'London', 'tz': 'UTC', 'country': 'GBR'}, 'rank': 2.0, 'city': 'London', 'tz': 'UTC', 'country': 'GBR'}, 'John Holland': {'person': True, 'type': 'person', 'name': 'John Holland', 'hire_date': datetime.date(2022, 10, 21), 'status': 'Full Time', 'languages': ['JavaScript'], 'manager': 'William Lee', 'team': 'Support', 'title': 'Analyst', 'location': {'city': 'Dublin', 'tz': 'UTC', 'country': 'IRL'}, 'rank': 1.0, 'city': 'Dublin', 'tz': 'UTC', 'country': 'IRL'}, 'Michelle Deleon': {'person': True, 'type': 'person', 'name': 'Michelle Deleon', 'hire_date': datetime.date(2021, 12, 26), 'status': 'Full Time', 'languages': [], 'manager': 'Kelsey Ramos', 'team': 'Support', 'title': 'Manager', 'location': {'city': 'Dublin', 'tz': 'UTC', 'country': 'IRL'}, 'rank': 2.0, 'city': 'Dublin', 'tz': 'UTC', 'country': 'IRL'}, 'Sean Michael': {'person': True, 'type': 'person', 'name': 'Sean Michael', 'hire_date': datetime.date(2022, 11, 13), 'status': 'Full Time', 'languages': ['JavaScript'], 'manager': 'Michelle Deleon', 'team': 'Support', 'title': 'Manager', 'location': {'city': 'Dublin', 'tz': 'UTC', 'country': 'IRL'}, 'rank': 2.0, 'city': 'Dublin', 'tz': 'UTC', 'country': 'IRL'}, 'Michael Vega': {'person': True, 'type': 'person', 'name': 'Michael Vega', 'hire_date': datetime.date(2023, 1, 15), 'status': 'Full Time', 'languages': ['Python', 'JavaScript', 'Scala'], 'manager': 'Michelle Deleon', 'team': 'Support', 'title': 'Manager', 'location': {'city': 'Dublin', 'tz': 'UTC', 'country': 'IRL'}, 'rank': 2.0, 'city': 'Dublin', 'tz': 'UTC', 'country': 'IRL'}, 'Joseph Murphy': {'person': True, 'type': 'person', 'name': 'Joseph Murphy', 'hire_date': datetime.date(2021, 9, 21), 'status': 'Full Time', 'languages': ['Python', 'Typescript', 'JavaScript'], 'manager': 'Michelle Deleon', 'team': 'Support', 'title': 'Manager', 'location': {'city': 'Dublin', 'tz': 'UTC', 'country': 'IRL'}, 'rank': 2.0, 'city': 'Dublin', 'tz': 'UTC', 'country': 'IRL'}, 'William Lee': {'person': True, 'type': 'person', 'name': 'William Lee', 'hire_date': datetime.date(2022, 5, 6), 'status': 'Full Time', 'languages': ['Python', 'Java'], 'manager': 'Michelle Deleon', 'team': 'Support', 'title': 'Manager', 'location': {'city': 'Dublin', 'tz': 'UTC', 'country': 'IRL'}, 'rank': 2.0, 'city': 'Dublin', 'tz': 'UTC', 'country': 'IRL'}, 'John Williams': {'person': True, 'type': 'person', 'name': 'John Williams', 'hire_date': datetime.date(2021, 6, 7), 'status': 'Full Time', 'languages': ['Python', 'Java'], 'manager': 'Michelle Deleon', 'team': 'Support', 'title': 'Manager', 'location': {'city': 'Dublin', 'tz': 'UTC', 'country': 'IRL'}, 'rank': 2.0, 'city': 'Dublin', 'tz': 'UTC', 'country': 'IRL'}, 'Ronnie Graham': {'person': True, 'type': 'person', 'name': 'Ronnie Graham', 'hire_date': datetime.date(2021, 10, 17), 'status': 'Full Time', 'languages': [], 'manager': 'Michelle Deleon', 'team': 'Support', 'title': 'Manager', 'location': {'city': 'Dublin', 'tz': 'UTC', 'country': 'IRL'}, 'rank': 2.0, 'city': 'Dublin', 'tz': 'UTC', 'country': 'IRL'}, 'Justin Cameron': {'person': True, 'type': 'person', 'name': 'Justin Cameron', 'hire_date': datetime.date(2020, 7, 5), 'status': 'Contract', 'languages': ['Typescript', 'JavaScript'], 'manager': 'Michelle Deleon', 'team': 'Support', 'title': 'Manager', 'location': {'city': 'Dublin', 'tz': 'UTC', 'country': 'IRL'}, 'rank': 2.0, 'city': 'Dublin', 'tz': 'UTC', 'country': 'IRL'}, 'Charles Williams': {'person': True, 'type': 'person', 'name': 'Charles Williams', 'hire_date': datetime.date(2020, 12, 18), 'status': 'Contract', 'languages': [], 'manager': 'Michelle Deleon', 'team': 'Support', 'title': 'Manager', 'location': {'city': 'Dublin', 'tz': 'UTC', 'country': 'IRL'}, 'rank': 2.0, 'city': 'Dublin', 'tz': 'UTC', 'country': 'IRL'}, 'Kelsey Ramos': {'person': True, 'type': 'person', 'name': 'Kelsey Ramos', 'hire_date': datetime.date(2022, 1, 31), 'status': 'Full Time', 'languages': ['JavaScript'], 'manager': 'Kelsey Ramos', 'team': 'CEO', 'title': 'CEO', 'location': {'city': 'Toronto', 'tz': 'EST', 'country': 'CAN'}, 'rank': 7.0, 'city': 'Toronto', 'tz': 'EST', 'country': 'CAN'}})"
      ]
     },
     "execution_count": 146,
     "metadata": {},
     "output_type": "execute_result"
    }
   ],
   "source": [
    "G = nx.Graph() # a simple undirected graph\n",
    "G.add_nodes_from(..., person=True, type=\"person\") # give them some tags so it's easy to identify the nodes later\n",
    "G.nodes(data=True) # we can look at the contents (which should be very familiar!)"
   ]
  },
  {
   "attachments": {},
   "cell_type": "markdown",
   "id": "bb8b31bf-8f76-4b64-8251-15f9cd1fbd3f",
   "metadata": {},
   "source": [
    "### Visualizing\n",
    "\n",
    "Graphs lends themselves well to visual representations. NetworkX also makes this easy to do by tapping into Python's workhorse plotting library, `matplotlib`. We will revisit this later with a more dynamic + interactive approach to visualizing, but for the moment this is the fastest way to get things on paper"
   ]
  },
  {
   "cell_type": "code",
   "execution_count": 148,
   "id": "7f9eafe1-d5d1-43b5-a2ca-1e945edf4487",
   "metadata": {
    "execution": {
     "iopub.execute_input": "2023-01-10T16:24:10.215601Z",
     "iopub.status.busy": "2023-01-10T16:24:10.215121Z",
     "iopub.status.idle": "2023-01-10T16:24:11.051765Z",
     "shell.execute_reply": "2023-01-10T16:24:11.050817Z",
     "shell.execute_reply.started": "2023-01-10T16:24:10.215570Z"
    },
    "tags": []
   },
   "outputs": [
    {
     "data": {
      "image/png": "[encoded data removed]",
      "text/plain": [
       "<Figure size 640x480 with 1 Axes>"
      ]
     },
     "metadata": {},
     "output_type": "display_data"
    }
   ],
   "source": [
    "import matplotlib.pyplot as plt\n",
    "nx.draw(G, with_labels=False)"
   ]
  },
  {
   "attachments": {},
   "cell_type": "markdown",
   "id": "f4119b00",
   "metadata": {},
   "source": [
    "Let's add a bit of color to this by mapping colors to the `person.team`. Pick any colorscale from `px.colors` (or make your own!). Generally the *qualitative* colors look nice, anything designed for *categorical* data "
   ]
  },
  {
   "cell_type": "code",
   "execution_count": 149,
   "id": "8e172563",
   "metadata": {},
   "outputs": [
    {
     "data": {
      "text/plain": [
       "{'Business': 'rgb(229, 134, 6)',\n",
       " 'DevOps': 'rgb(93, 105, 177)',\n",
       " 'DevX': 'rgb(82, 188, 163)',\n",
       " 'Internal Tools': 'rgb(153, 201, 69)',\n",
       " 'Platform': 'rgb(204, 97, 176)',\n",
       " 'Product': 'rgb(36, 121, 108)',\n",
       " 'Sales': 'rgb(218, 165, 27)',\n",
       " 'Support': 'rgb(47, 138, 196)',\n",
       " 'CEO': 'rgb(118, 78, 159)'}"
      ]
     },
     "execution_count": 149,
     "metadata": {},
     "output_type": "execute_result"
    }
   ],
   "source": [
    "colors: dict[str, str] = ...\n",
    "colors"
   ]
  },
  {
   "cell_type": "code",
   "execution_count": 150,
   "id": "e46f2526",
   "metadata": {},
   "outputs": [],
   "source": [
    "# here are some helpful helpers to translate colors\n",
    "def rgb_to_hex(r, g, b):\n",
    "    return f'#{r:02x}{g:02x}{b:02x}'\n",
    "def rgb_string_to_tuple(rgb:str) -> tuple[int,int,int]:\n",
    "    return tuple(int(c) for c in rgb.replace(\"rgb(\",\"\").replace(\")\",\"\").split(\",\"))\n"
   ]
  },
  {
   "attachments": {},
   "cell_type": "markdown",
   "id": "e3bf88ef",
   "metadata": {},
   "source": [
    "Now we can determine what the color should be for each node and pass that into the `nx.draw` call as a list of `node_color`. The easiest way to do this is to use `G.nodes(data=...)` for the attribute you want to extract, which will give you a map from each node to that attribute. `nx` allows you to iterate"
   ]
  },
  {
   "cell_type": "code",
   "execution_count": 151,
   "id": "ce833882",
   "metadata": {},
   "outputs": [
    {
     "data": {
      "image/png": "[encoded data removed]",
      "text/plain": [
       "<Figure size 640x480 with 1 Axes>"
      ]
     },
     "metadata": {},
     "output_type": "display_data"
    }
   ],
   "source": [
    "node_colors = [...]\n",
    "nx.draw(G, node_color=node_colors)"
   ]
  },
  {
   "attachments": {},
   "cell_type": "markdown",
   "id": "40904b83",
   "metadata": {},
   "source": [
    "If this doesn't make much sense yet, it's because we haven't connected any of the nodes together. Adding *edges* to the graph will give shape and meaning to the arrangement of nodes. We can do this similarly to how we added edges. Let's start by connecting nodes by the `manager` attribute.\n",
    "\n",
    "Be sure to only add edges that reference nodes that exist"
   ]
  },
  {
   "cell_type": "code",
   "execution_count": 152,
   "id": "f3b7a761",
   "metadata": {},
   "outputs": [],
   "source": [
    "G.add_edges_from(..., label=\"manager\", manager=True)"
   ]
  },
  {
   "cell_type": "markdown",
   "id": "1905d207",
   "metadata": {},
   "source": [
    "Now this should look a bit more sensible"
   ]
  },
  {
   "cell_type": "code",
   "execution_count": 153,
   "id": "32ff0651",
   "metadata": {},
   "outputs": [
    {
     "data": {
      "image/png": "[encoded data removed]",
      "text/plain": [
       "<Figure size 640x480 with 1 Axes>"
      ]
     },
     "metadata": {},
     "output_type": "display_data"
    }
   ],
   "source": [
    "nx.draw(G, node_color=node_colors)"
   ]
  },
  {
   "cell_type": "markdown",
   "id": "9c14089f",
   "metadata": {},
   "source": [
    "**What are 3 more tests we can do now to check this graph structure matches our statistical understanding of the tabular data?**\n",
    "\n",
    "1. ?\n",
    "2. ?\n",
    "3. ?\n"
   ]
  },
  {
   "attachments": {},
   "cell_type": "markdown",
   "id": "1ed3f2f9",
   "metadata": {},
   "source": [
    "#### Plotly"
   ]
  },
  {
   "attachments": {},
   "cell_type": "markdown",
   "id": "63c42ae8-b201-4ae1-ad9d-d0e8f0817fb3",
   "metadata": {},
   "source": [
    "To view more details of the plot, it's useful to switch to an interactive plotting library like `plotly`. It allows us to hover over data points and inspect their attributes, unlocking more dimensions of our data for exploration. Let's start to construct a function to plot an `nx.Graph` in the style of the grammar of graphics (like in the plotly API)"
   ]
  },
  {
   "cell_type": "code",
   "execution_count": 1,
   "id": "e1b55f08-5647-4290-86da-3197aa150b7d",
   "metadata": {
    "execution": {
     "iopub.execute_input": "2023-01-10T16:24:11.053653Z",
     "iopub.status.busy": "2023-01-10T16:24:11.053102Z",
     "iopub.status.idle": "2023-01-10T16:24:11.845945Z",
     "shell.execute_reply": "2023-01-10T16:24:11.844975Z",
     "shell.execute_reply.started": "2023-01-10T16:24:11.053625Z"
    },
    "tags": []
   },
   "outputs": [],
   "source": [
    "import pandas as pd\n",
    "import plotly.express as px"
   ]
  },
  {
   "cell_type": "markdown",
   "id": "f8d540be",
   "metadata": {},
   "source": [
    "A quick example using Plotly and extracting attribute positions from our graph. Let's pass a `pd.DataFrame` to plotly and tell it which columns to use to construct and style the plot "
   ]
  },
  {
   "cell_type": "code",
   "execution_count": 3,
   "id": "1899b3cb",
   "metadata": {},
   "outputs": [
    {
     "data": {
      "application/vnd.plotly.v1+json": {
       "config": {
        "plotlyServerURL": "https://plot.ly"
       },
       "data": [
        {
         "alignmentgroup": "True",
         "hovertemplate": "name=%{x}<br>age=%{y}<extra></extra>",
         "legendgroup": "Alice",
         "marker": {
          "color": "#636efa",
          "pattern": {
           "shape": ""
          }
         },
         "name": "Alice",
         "offsetgroup": "Alice",
         "orientation": "v",
         "showlegend": true,
         "textposition": "auto",
         "type": "bar",
         "x": [
          "Alice"
         ],
         "xaxis": "x",
         "y": [
          29
         ],
         "yaxis": "y"
        },
        {
         "alignmentgroup": "True",
         "hovertemplate": "name=%{x}<br>age=%{y}<extra></extra>",
         "legendgroup": "Bob",
         "marker": {
          "color": "#EF553B",
          "pattern": {
           "shape": ""
          }
         },
         "name": "Bob",
         "offsetgroup": "Bob",
         "orientation": "v",
         "showlegend": true,
         "textposition": "auto",
         "type": "bar",
         "x": [
          "Bob"
         ],
         "xaxis": "x",
         "y": [
          24
         ],
         "yaxis": "y"
        },
        {
         "alignmentgroup": "True",
         "hovertemplate": "name=%{x}<br>age=%{y}<extra></extra>",
         "legendgroup": "Eve",
         "marker": {
          "color": "#00cc96",
          "pattern": {
           "shape": ""
          }
         },
         "name": "Eve",
         "offsetgroup": "Eve",
         "orientation": "v",
         "showlegend": true,
         "textposition": "auto",
         "type": "bar",
         "x": [
          "Eve"
         ],
         "xaxis": "x",
         "y": [
          47
         ],
         "yaxis": "y"
        }
       ],
       "layout": {
        "barmode": "relative",
        "legend": {
         "title": {
          "text": "name"
         },
         "tracegroupgap": 0
        },
        "margin": {
         "t": 60
        },
        "template": {
         "data": {
          "bar": [
           {
            "error_x": {
             "color": "#2a3f5f"
            },
            "error_y": {
             "color": "#2a3f5f"
            },
            "marker": {
             "line": {
              "color": "#E5ECF6",
              "width": 0.5
             },
             "pattern": {
              "fillmode": "overlay",
              "size": 10,
              "solidity": 0.2
             }
            },
            "type": "bar"
           }
          ],
          "barpolar": [
           {
            "marker": {
             "line": {
              "color": "#E5ECF6",
              "width": 0.5
             },
             "pattern": {
              "fillmode": "overlay",
              "size": 10,
              "solidity": 0.2
             }
            },
            "type": "barpolar"
           }
          ],
          "carpet": [
           {
            "aaxis": {
             "endlinecolor": "#2a3f5f",
             "gridcolor": "white",
             "linecolor": "white",
             "minorgridcolor": "white",
             "startlinecolor": "#2a3f5f"
            },
            "baxis": {
             "endlinecolor": "#2a3f5f",
             "gridcolor": "white",
             "linecolor": "white",
             "minorgridcolor": "white",
             "startlinecolor": "#2a3f5f"
            },
            "type": "carpet"
           }
          ],
          "choropleth": [
           {
            "colorbar": {
             "outlinewidth": 0,
             "ticks": ""
            },
            "type": "choropleth"
           }
          ],
          "contour": [
           {
            "colorbar": {
             "outlinewidth": 0,
             "ticks": ""
            },
            "colorscale": [
             [
              0,
              "#0d0887"
             ],
             [
              0.1111111111111111,
              "#46039f"
             ],
             [
              0.2222222222222222,
              "#7201a8"
             ],
             [
              0.3333333333333333,
              "#9c179e"
             ],
             [
              0.4444444444444444,
              "#bd3786"
             ],
             [
              0.5555555555555556,
              "#d8576b"
             ],
             [
              0.6666666666666666,
              "#ed7953"
             ],
             [
              0.7777777777777778,
              "#fb9f3a"
             ],
             [
              0.8888888888888888,
              "#fdca26"
             ],
             [
              1,
              "#f0f921"
             ]
            ],
            "type": "contour"
           }
          ],
          "contourcarpet": [
           {
            "colorbar": {
             "outlinewidth": 0,
             "ticks": ""
            },
            "type": "contourcarpet"
           }
          ],
          "heatmap": [
           {
            "colorbar": {
             "outlinewidth": 0,
             "ticks": ""
            },
            "colorscale": [
             [
              0,
              "#0d0887"
             ],
             [
              0.1111111111111111,
              "#46039f"
             ],
             [
              0.2222222222222222,
              "#7201a8"
             ],
             [
              0.3333333333333333,
              "#9c179e"
             ],
             [
              0.4444444444444444,
              "#bd3786"
             ],
             [
              0.5555555555555556,
              "#d8576b"
             ],
             [
              0.6666666666666666,
              "#ed7953"
             ],
             [
              0.7777777777777778,
              "#fb9f3a"
             ],
             [
              0.8888888888888888,
              "#fdca26"
             ],
             [
              1,
              "#f0f921"
             ]
            ],
            "type": "heatmap"
           }
          ],
          "heatmapgl": [
           {
            "colorbar": {
             "outlinewidth": 0,
             "ticks": ""
            },
            "colorscale": [
             [
              0,
              "#0d0887"
             ],
             [
              0.1111111111111111,
              "#46039f"
             ],
             [
              0.2222222222222222,
              "#7201a8"
             ],
             [
              0.3333333333333333,
              "#9c179e"
             ],
             [
              0.4444444444444444,
              "#bd3786"
             ],
             [
              0.5555555555555556,
              "#d8576b"
             ],
             [
              0.6666666666666666,
              "#ed7953"
             ],
             [
              0.7777777777777778,
              "#fb9f3a"
             ],
             [
              0.8888888888888888,
              "#fdca26"
             ],
             [
              1,
              "#f0f921"
             ]
            ],
            "type": "heatmapgl"
           }
          ],
          "histogram": [
           {
            "marker": {
             "pattern": {
              "fillmode": "overlay",
              "size": 10,
              "solidity": 0.2
             }
            },
            "type": "histogram"
           }
          ],
          "histogram2d": [
           {
            "colorbar": {
             "outlinewidth": 0,
             "ticks": ""
            },
            "colorscale": [
             [
              0,
              "#0d0887"
             ],
             [
              0.1111111111111111,
              "#46039f"
             ],
             [
              0.2222222222222222,
              "#7201a8"
             ],
             [
              0.3333333333333333,
              "#9c179e"
             ],
             [
              0.4444444444444444,
              "#bd3786"
             ],
             [
              0.5555555555555556,
              "#d8576b"
             ],
             [
              0.6666666666666666,
              "#ed7953"
             ],
             [
              0.7777777777777778,
              "#fb9f3a"
             ],
             [
              0.8888888888888888,
              "#fdca26"
             ],
             [
              1,
              "#f0f921"
             ]
            ],
            "type": "histogram2d"
           }
          ],
          "histogram2dcontour": [
           {
            "colorbar": {
             "outlinewidth": 0,
             "ticks": ""
            },
            "colorscale": [
             [
              0,
              "#0d0887"
             ],
             [
              0.1111111111111111,
              "#46039f"
             ],
             [
              0.2222222222222222,
              "#7201a8"
             ],
             [
              0.3333333333333333,
              "#9c179e"
             ],
             [
              0.4444444444444444,
              "#bd3786"
             ],
             [
              0.5555555555555556,
              "#d8576b"
             ],
             [
              0.6666666666666666,
              "#ed7953"
             ],
             [
              0.7777777777777778,
              "#fb9f3a"
             ],
             [
              0.8888888888888888,
              "#fdca26"
             ],
             [
              1,
              "#f0f921"
             ]
            ],
            "type": "histogram2dcontour"
           }
          ],
          "mesh3d": [
           {
            "colorbar": {
             "outlinewidth": 0,
             "ticks": ""
            },
            "type": "mesh3d"
           }
          ],
          "parcoords": [
           {
            "line": {
             "colorbar": {
              "outlinewidth": 0,
              "ticks": ""
             }
            },
            "type": "parcoords"
           }
          ],
          "pie": [
           {
            "automargin": true,
            "type": "pie"
           }
          ],
          "scatter": [
           {
            "fillpattern": {
             "fillmode": "overlay",
             "size": 10,
             "solidity": 0.2
            },
            "type": "scatter"
           }
          ],
          "scatter3d": [
           {
            "line": {
             "colorbar": {
              "outlinewidth": 0,
              "ticks": ""
             }
            },
            "marker": {
             "colorbar": {
              "outlinewidth": 0,
              "ticks": ""
             }
            },
            "type": "scatter3d"
           }
          ],
          "scattercarpet": [
           {
            "marker": {
             "colorbar": {
              "outlinewidth": 0,
              "ticks": ""
             }
            },
            "type": "scattercarpet"
           }
          ],
          "scattergeo": [
           {
            "marker": {
             "colorbar": {
              "outlinewidth": 0,
              "ticks": ""
             }
            },
            "type": "scattergeo"
           }
          ],
          "scattergl": [
           {
            "marker": {
             "colorbar": {
              "outlinewidth": 0,
              "ticks": ""
             }
            },
            "type": "scattergl"
           }
          ],
          "scattermapbox": [
           {
            "marker": {
             "colorbar": {
              "outlinewidth": 0,
              "ticks": ""
             }
            },
            "type": "scattermapbox"
           }
          ],
          "scatterpolar": [
           {
            "marker": {
             "colorbar": {
              "outlinewidth": 0,
              "ticks": ""
             }
            },
            "type": "scatterpolar"
           }
          ],
          "scatterpolargl": [
           {
            "marker": {
             "colorbar": {
              "outlinewidth": 0,
              "ticks": ""
             }
            },
            "type": "scatterpolargl"
           }
          ],
          "scatterternary": [
           {
            "marker": {
             "colorbar": {
              "outlinewidth": 0,
              "ticks": ""
             }
            },
            "type": "scatterternary"
           }
          ],
          "surface": [
           {
            "colorbar": {
             "outlinewidth": 0,
             "ticks": ""
            },
            "colorscale": [
             [
              0,
              "#0d0887"
             ],
             [
              0.1111111111111111,
              "#46039f"
             ],
             [
              0.2222222222222222,
              "#7201a8"
             ],
             [
              0.3333333333333333,
              "#9c179e"
             ],
             [
              0.4444444444444444,
              "#bd3786"
             ],
             [
              0.5555555555555556,
              "#d8576b"
             ],
             [
              0.6666666666666666,
              "#ed7953"
             ],
             [
              0.7777777777777778,
              "#fb9f3a"
             ],
             [
              0.8888888888888888,
              "#fdca26"
             ],
             [
              1,
              "#f0f921"
             ]
            ],
            "type": "surface"
           }
          ],
          "table": [
           {
            "cells": {
             "fill": {
              "color": "#EBF0F8"
             },
             "line": {
              "color": "white"
             }
            },
            "header": {
             "fill": {
              "color": "#C8D4E3"
             },
             "line": {
              "color": "white"
             }
            },
            "type": "table"
           }
          ]
         },
         "layout": {
          "annotationdefaults": {
           "arrowcolor": "#2a3f5f",
           "arrowhead": 0,
           "arrowwidth": 1
          },
          "autotypenumbers": "strict",
          "coloraxis": {
           "colorbar": {
            "outlinewidth": 0,
            "ticks": ""
           }
          },
          "colorscale": {
           "diverging": [
            [
             0,
             "#8e0152"
            ],
            [
             0.1,
             "#c51b7d"
            ],
            [
             0.2,
             "#de77ae"
            ],
            [
             0.3,
             "#f1b6da"
            ],
            [
             0.4,
             "#fde0ef"
            ],
            [
             0.5,
             "#f7f7f7"
            ],
            [
             0.6,
             "#e6f5d0"
            ],
            [
             0.7,
             "#b8e186"
            ],
            [
             0.8,
             "#7fbc41"
            ],
            [
             0.9,
             "#4d9221"
            ],
            [
             1,
             "#276419"
            ]
           ],
           "sequential": [
            [
             0,
             "#0d0887"
            ],
            [
             0.1111111111111111,
             "#46039f"
            ],
            [
             0.2222222222222222,
             "#7201a8"
            ],
            [
             0.3333333333333333,
             "#9c179e"
            ],
            [
             0.4444444444444444,
             "#bd3786"
            ],
            [
             0.5555555555555556,
             "#d8576b"
            ],
            [
             0.6666666666666666,
             "#ed7953"
            ],
            [
             0.7777777777777778,
             "#fb9f3a"
            ],
            [
             0.8888888888888888,
             "#fdca26"
            ],
            [
             1,
             "#f0f921"
            ]
           ],
           "sequentialminus": [
            [
             0,
             "#0d0887"
            ],
            [
             0.1111111111111111,
             "#46039f"
            ],
            [
             0.2222222222222222,
             "#7201a8"
            ],
            [
             0.3333333333333333,
             "#9c179e"
            ],
            [
             0.4444444444444444,
             "#bd3786"
            ],
            [
             0.5555555555555556,
             "#d8576b"
            ],
            [
             0.6666666666666666,
             "#ed7953"
            ],
            [
             0.7777777777777778,
             "#fb9f3a"
            ],
            [
             0.8888888888888888,
             "#fdca26"
            ],
            [
             1,
             "#f0f921"
            ]
           ]
          },
          "colorway": [
           "#636efa",
           "#EF553B",
           "#00cc96",
           "#ab63fa",
           "#FFA15A",
           "#19d3f3",
           "#FF6692",
           "#B6E880",
           "#FF97FF",
           "#FECB52"
          ],
          "font": {
           "color": "#2a3f5f"
          },
          "geo": {
           "bgcolor": "white",
           "lakecolor": "white",
           "landcolor": "#E5ECF6",
           "showlakes": true,
           "showland": true,
           "subunitcolor": "white"
          },
          "hoverlabel": {
           "align": "left"
          },
          "hovermode": "closest",
          "mapbox": {
           "style": "light"
          },
          "paper_bgcolor": "white",
          "plot_bgcolor": "#E5ECF6",
          "polar": {
           "angularaxis": {
            "gridcolor": "white",
            "linecolor": "white",
            "ticks": ""
           },
           "bgcolor": "#E5ECF6",
           "radialaxis": {
            "gridcolor": "white",
            "linecolor": "white",
            "ticks": ""
           }
          },
          "scene": {
           "xaxis": {
            "backgroundcolor": "#E5ECF6",
            "gridcolor": "white",
            "gridwidth": 2,
            "linecolor": "white",
            "showbackground": true,
            "ticks": "",
            "zerolinecolor": "white"
           },
           "yaxis": {
            "backgroundcolor": "#E5ECF6",
            "gridcolor": "white",
            "gridwidth": 2,
            "linecolor": "white",
            "showbackground": true,
            "ticks": "",
            "zerolinecolor": "white"
           },
           "zaxis": {
            "backgroundcolor": "#E5ECF6",
            "gridcolor": "white",
            "gridwidth": 2,
            "linecolor": "white",
            "showbackground": true,
            "ticks": "",
            "zerolinecolor": "white"
           }
          },
          "shapedefaults": {
           "line": {
            "color": "#2a3f5f"
           }
          },
          "ternary": {
           "aaxis": {
            "gridcolor": "white",
            "linecolor": "white",
            "ticks": ""
           },
           "baxis": {
            "gridcolor": "white",
            "linecolor": "white",
            "ticks": ""
           },
           "bgcolor": "#E5ECF6",
           "caxis": {
            "gridcolor": "white",
            "linecolor": "white",
            "ticks": ""
           }
          },
          "title": {
           "x": 0.05
          },
          "xaxis": {
           "automargin": true,
           "gridcolor": "white",
           "linecolor": "white",
           "ticks": "",
           "title": {
            "standoff": 15
           },
           "zerolinecolor": "white",
           "zerolinewidth": 2
          },
          "yaxis": {
           "automargin": true,
           "gridcolor": "white",
           "linecolor": "white",
           "ticks": "",
           "title": {
            "standoff": 15
           },
           "zerolinecolor": "white",
           "zerolinewidth": 2
          }
         }
        },
        "xaxis": {
         "anchor": "y",
         "categoryarray": [
          "Alice",
          "Bob",
          "Eve"
         ],
         "categoryorder": "array",
         "domain": [
          0,
          1
         ],
         "title": {
          "text": "name"
         }
        },
        "yaxis": {
         "anchor": "x",
         "domain": [
          0,
          1
         ],
         "title": {
          "text": "age"
         }
        }
       }
      }
     },
     "metadata": {},
     "output_type": "display_data"
    }
   ],
   "source": [
    "little_data = pd.DataFrame({\"name\":[\"Alice\",\"Bob\",\"Eve\"], \"age\":[29,24,47]})\n",
    "px.bar(little_data, color=\"name\", x=\"name\", y=\"age\")"
   ]
  },
  {
   "cell_type": "markdown",
   "id": "d8c7fdfc",
   "metadata": {},
   "source": [
    "Now let's pull out the positions of nodes from our plot"
   ]
  },
  {
   "cell_type": "code",
   "execution_count": 13,
   "id": "8a584ce6",
   "metadata": {},
   "outputs": [
    {
     "data": {
      "text/plain": [
       "{'Me': array([-0.66016943,  0.787665  ]),\n",
       " 'You': array([0.77728772, 0.212335  ]),\n",
       " 'Them': array([-0.11711829, -1.        ])}"
      ]
     },
     "execution_count": 13,
     "metadata": {},
     "output_type": "execute_result"
    }
   ],
   "source": [
    "positions = nx.spring_layout(G)\n",
    "positions"
   ]
  },
  {
   "cell_type": "markdown",
   "id": "b38a9821",
   "metadata": {},
   "source": [
    "This should be everything we need to make a scatter plot of our data!"
   ]
  },
  {
   "cell_type": "code",
   "execution_count": 155,
   "id": "1321e788-fb20-4b9d-b26f-6d929df03870",
   "metadata": {
    "execution": {
     "iopub.execute_input": "2023-01-10T16:24:11.864634Z",
     "iopub.status.busy": "2023-01-10T16:24:11.849967Z",
     "iopub.status.idle": "2023-01-10T16:24:11.884647Z",
     "shell.execute_reply": "2023-01-10T16:24:11.883535Z",
     "shell.execute_reply.started": "2023-01-10T16:24:11.864563Z"
    },
    "tags": []
   },
   "outputs": [],
   "source": [
    "import plotly.graph_objects as go\n",
    "def px_plot_network_graph_nodes(G:nx.Graph, *, layout=None, **pxkwargs) -> go.Figure:\n",
    "    # generate the x/y coordinates to represent the graph\n",
    "    positions = (layout or nx.spring_layout(G))\n",
    "    # prepare data as DataFrame for plotly\n",
    "    df = pd.DataFrame(...)\n",
    "    # do any extra magic to deal with missing values or weird types\n",
    "    # ...\n",
    "     \n",
    "    # create figure, passing through the pxkwargs to define color, size, etc.\n",
    "    fig = px.scatter(df, x=\"x\", y=\"y\", hover_data=df.columns, **pxkwargs)\n",
    "    return fig\n"
   ]
  },
  {
   "cell_type": "markdown",
   "id": "ddbc6e90",
   "metadata": {},
   "source": [
    "Now that the nodes are plotting, let's add edges"
   ]
  },
  {
   "cell_type": "code",
   "execution_count": null,
   "id": "4d1cb691",
   "metadata": {},
   "outputs": [],
   "source": [
    "\n",
    "def px_plot_nx(G:nx.Graph, *, layout=nx.spring_layout, with_edges=False, **nodekwargs) -> go.Figure:\n",
    "    \"\"\"Draw a graph using ``plotly``\n",
    "\n",
    "    Kwargs are passed through to `px.scatter` and can be used to control the attributes that \n",
    "    map ``color``, ``size``, ``facet_row``, ... to attributes in the graph nodes\n",
    "    \n",
    "    Notes\n",
    "    -----\n",
    "    Rendering ``with_edges`` is expensive and should be avoided during exploratory plotting\n",
    "    \"\"\"\n",
    "    # Generate positions, edges \n",
    "    nodes = layout(G)\n",
    "    edges = [...]\n",
    "    # Plot nodes using our previous function\n",
    "    figure = px_plot_network_graph_nodes(G, layout=nodes, **nodekwargs)\n",
    "    if with_edges: # Add edges to nodes\n",
    "        figure.add_traces([\n",
    "            px.line(...).data[0] for edge in edges\n",
    "        ])\n",
    "        figure.data = figure.data[::-1] # shuffle edges behind nodes\n",
    "    return figure"
   ]
  },
  {
   "attachments": {},
   "cell_type": "markdown",
   "id": "fba3d98a",
   "metadata": {},
   "source": [
    "Choosing different attributes for `color`, `size`, `text` and `hover_name` are helpful to explore. Make sure you use `template=\"plotly_dark\"` if you're a dark-themer or you might burn out your eyeballs!\n",
    "\n",
    "Note: plotting `with_edges=True` is quite expensive, try toggling it off if you find it bothersome"
   ]
  },
  {
   "cell_type": "markdown",
   "id": "beef4f86",
   "metadata": {},
   "source": [
    "**Let's revisit our tests from above -- can we confirm now that people are in the right places?**"
   ]
  },
  {
   "attachments": {},
   "cell_type": "markdown",
   "id": "b6827b98",
   "metadata": {},
   "source": [
    "#### Pyvis"
   ]
  },
  {
   "attachments": {},
   "cell_type": "markdown",
   "id": "4ae3c044",
   "metadata": {},
   "source": [
    "We can also use `pyvis` for a more interactive graph:\n",
    "\n",
    "```python\n",
    "from pyvis.network import Network\n",
    "\n",
    "nt = Network('500px', '500px', notebook=True, cdn_resources=\"in_line\", bgcolor=\"black\")\n",
    "nt.from_nx(H)\n",
    "nt.show(\"nx.html\");\n",
    "```\n",
    "\n",
    "`pyvis` will prettify your graph for you if you include attributes:\n",
    "* group: is this part of a group? It will be coloured as such\n",
    "* title: hover text\n",
    "* label: displayed under the node\n",
    "\n",
    "Here's another helpful plotting function:"
   ]
  },
  {
   "cell_type": "code",
   "execution_count": null,
   "id": "a0fed384",
   "metadata": {},
   "outputs": [],
   "source": [
    "from pyvis.network import Network\n",
    "def nt_show(G: nx.Graph, color:str=None, title:str=None, label:str=None, legend:bool=True, **network_kwargs):\n",
    "    \"\"\"Draw a graph using ``pyvis``\n",
    "\n",
    "    Parameters\n",
    "    ----------\n",
    "    color: str\n",
    "        the name of the attribute to color nodes by\n",
    "    title:str\n",
    "        the name of the attribute to generate hover data titles\n",
    "    label:str\n",
    "        the name of attribute to print text labels\n",
    "    legend:bool\n",
    "        whether to include a janky legend\n",
    "    **network_kwargs\n",
    "        passed through to `pyvis.network.Network` and can be used to customize how the plot is rendered\n",
    "\n",
    "    \"\"\"\n",
    "    H = G.copy()\n",
    "    # set the graph plotting attributes based on the values of the provided attributes \n",
    "    if color:\n",
    "        nx.set_node_attributes(H, ..., \"group\")\n",
    "    if title: \n",
    "        nx.set_node_attributes(H, ..., \"title\")\n",
    "    if label:\n",
    "        nx.set_node_attributes(H, ..., \"label\")\n",
    "    if legend:\n",
    "        add_legend_nodes(H)        \n",
    "    default_kwargs = dict(notebook=True, cdn_resources=\"in_line\")\n",
    "    nt = Network(**default_kwargs|network_kwargs)\n",
    "    nt.from_nx(H)\n",
    "    return nt.show(\"nx.html\");\n",
    "\n",
    "\n",
    "def add_legend_nodes(G:nx.Graph):\n",
    "    # Add Legend Nodes\n",
    "    step = 100\n",
    "    x = -500 * 2\n",
    "    y = -500 * 2\n",
    "    groups = set(group for _, group in G.nodes(data=\"group\"))\n",
    "    legend_nodes = [\n",
    "        (\n",
    "            group, \n",
    "            {\n",
    "                'group': group, \n",
    "                'label': group,\n",
    "                'size': 50, \n",
    "                # 'fixed': True, # So that we can move the legend nodes around to arrange them better\n",
    "                'physics': False, \n",
    "                'x': f'{x}px', \n",
    "                'y': f'{y + legend_node*step}px',\n",
    "                'shape': 'box', \n",
    "                'widthConstraint': step * 2, \n",
    "                'font': {'size': 30}\n",
    "            }\n",
    "        )\n",
    "        for legend_node, group in enumerate(groups) if group\n",
    "    ]\n",
    "    G.add_nodes_from(legend_nodes)"
   ]
  },
  {
   "cell_type": "markdown",
   "id": "db413ea9",
   "metadata": {},
   "source": [
    "**Can we make a better legend?**"
   ]
  },
  {
   "cell_type": "code",
   "execution_count": null,
   "id": "76e9feca",
   "metadata": {},
   "outputs": [],
   "source": []
  },
  {
   "attachments": {},
   "cell_type": "markdown",
   "id": "e6b1dd13",
   "metadata": {},
   "source": [
    "**Visualize your graph and verify that:**\n",
    "\n",
    "* The reporting structure makes sense\n",
    "* The job titles are distributed as you'd expect\n",
    "* The locations make sense"
   ]
  },
  {
   "cell_type": "code",
   "execution_count": 130,
   "id": "07e22436",
   "metadata": {},
   "outputs": [
    {
     "data": {
      "application/vnd.plotly.v1+json": {
       "config": {
        "plotlyServerURL": "https://plot.ly"
       },
       "data": [
        {
         "hovertemplate": "x=%{x}<br>y=%{y}<extra></extra>",
         "legendgroup": "",
         "line": {
          "color": "grey",
          "dash": "solid"
         },
         "marker": {
          "symbol": "circle"
         },
         "mode": "lines",
         "name": "",
         "orientation": "v",
         "showlegend": false,
         "type": "scatter",
         "x": [
          0.02154341965310638,
          0.02154341965310638
         ],
         "xaxis": "x",
         "y": [
          0.03859667592781471,
          0.03859667592781471
         ],
         "yaxis": "y"
        },
        {
         "hovertemplate": "x=%{x}<br>y=%{y}<extra></extra>",
         "legendgroup": "",
         "line": {
          "color": "grey",
          "dash": "solid"
         },
         "marker": {
          "symbol": "circle"
         },
         "mode": "lines",
         "name": "",
         "orientation": "v",
         "showlegend": false,
         "type": "scatter",
         "x": [
          0.2938702726187548,
          0.40400329729492435
         ],
         "xaxis": "x",
         "y": [
          -0.24253721120761765,
          -0.24756945429324467
         ],
         "yaxis": "y"
        },
        {
         "hovertemplate": "x=%{x}<br>y=%{y}<extra></extra>",
         "legendgroup": "",
         "line": {
          "color": "grey",
          "dash": "solid"
         },
         "marker": {
          "symbol": "circle"
         },
         "mode": "lines",
         "name": "",
         "orientation": "v",
         "showlegend": false,
         "type": "scatter",
         "x": [
          0.2938702726187548,
          0.3750905543149955
         ],
         "xaxis": "x",
         "y": [
          -0.24253721120761765,
          -0.294786234223895
         ],
         "yaxis": "y"
        },
        {
         "hovertemplate": "x=%{x}<br>y=%{y}<extra></extra>",
         "legendgroup": "",
         "line": {
          "color": "grey",
          "dash": "solid"
         },
         "marker": {
          "symbol": "circle"
         },
         "mode": "lines",
         "name": "",
         "orientation": "v",
         "showlegend": false,
         "type": "scatter",
         "x": [
          0.2938702726187548,
          0.4668247173668308
         ],
         "xaxis": "x",
         "y": [
          -0.24253721120761765,
          -0.37227432721368364
         ],
         "yaxis": "y"
        },
        {
         "hovertemplate": "x=%{x}<br>y=%{y}<extra></extra>",
         "legendgroup": "",
         "line": {
          "color": "grey",
          "dash": "solid"
         },
         "marker": {
          "symbol": "circle"
         },
         "mode": "lines",
         "name": "",
         "orientation": "v",
         "showlegend": false,
         "type": "scatter",
         "x": [
          0.2938702726187548,
          0.39180603300848715
         ],
         "xaxis": "x",
         "y": [
          -0.24253721120761765,
          -0.3458884337457171
         ],
         "yaxis": "y"
        },
        {
         "hovertemplate": "x=%{x}<br>y=%{y}<extra></extra>",
         "legendgroup": "",
         "line": {
          "color": "grey",
          "dash": "solid"
         },
         "marker": {
          "symbol": "circle"
         },
         "mode": "lines",
         "name": "",
         "orientation": "v",
         "showlegend": false,
         "type": "scatter",
         "x": [
          0.2938702726187548,
          0.3391747509014339
         ],
         "xaxis": "x",
         "y": [
          -0.24253721120761765,
          -0.36419571366523007
         ],
         "yaxis": "y"
        },
        {
         "hovertemplate": "x=%{x}<br>y=%{y}<extra></extra>",
         "legendgroup": "",
         "line": {
          "color": "grey",
          "dash": "solid"
         },
         "marker": {
          "symbol": "circle"
         },
         "mode": "lines",
         "name": "",
         "orientation": "v",
         "showlegend": false,
         "type": "scatter",
         "x": [
          0.2938702726187548,
          0.39938500944810734
         ],
         "xaxis": "x",
         "y": [
          -0.24253721120761765,
          -0.44241537708170453
         ],
         "yaxis": "y"
        },
        {
         "hovertemplate": "x=%{x}<br>y=%{y}<extra></extra>",
         "legendgroup": "",
         "line": {
          "color": "grey",
          "dash": "solid"
         },
         "marker": {
          "symbol": "circle"
         },
         "mode": "lines",
         "name": "",
         "orientation": "v",
         "showlegend": false,
         "type": "scatter",
         "x": [
          0.2938702726187548,
          0.02154341965310638
         ],
         "xaxis": "x",
         "y": [
          -0.24253721120761765,
          0.03859667592781471
         ],
         "yaxis": "y"
        },
        {
         "hovertemplate": "x=%{x}<br>y=%{y}<extra></extra>",
         "legendgroup": "",
         "line": {
          "color": "grey",
          "dash": "solid"
         },
         "marker": {
          "symbol": "circle"
         },
         "mode": "lines",
         "name": "",
         "orientation": "v",
         "showlegend": false,
         "type": "scatter",
         "x": [
          0.5951419654023237,
          0.4668247173668308
         ],
         "xaxis": "x",
         "y": [
          -0.4678448718992556,
          -0.37227432721368364
         ],
         "yaxis": "y"
        },
        {
         "hovertemplate": "x=%{x}<br>y=%{y}<extra></extra>",
         "legendgroup": "",
         "line": {
          "color": "grey",
          "dash": "solid"
         },
         "marker": {
          "symbol": "circle"
         },
         "mode": "lines",
         "name": "",
         "orientation": "v",
         "showlegend": false,
         "type": "scatter",
         "x": [
          0.47492723356257566,
          0.39938500944810734
         ],
         "xaxis": "x",
         "y": [
          -0.5881813916626967,
          -0.44241537708170453
         ],
         "yaxis": "y"
        },
        {
         "hovertemplate": "x=%{x}<br>y=%{y}<extra></extra>",
         "legendgroup": "",
         "line": {
          "color": "grey",
          "dash": "solid"
         },
         "marker": {
          "symbol": "circle"
         },
         "mode": "lines",
         "name": "",
         "orientation": "v",
         "showlegend": false,
         "type": "scatter",
         "x": [
          0.2334768336163717,
          0.1691001417286808
         ],
         "xaxis": "x",
         "y": [
          0.6589869943342828,
          0.7212995882874726
         ],
         "yaxis": "y"
        },
        {
         "hovertemplate": "x=%{x}<br>y=%{y}<extra></extra>",
         "legendgroup": "",
         "line": {
          "color": "grey",
          "dash": "solid"
         },
         "marker": {
          "symbol": "circle"
         },
         "mode": "lines",
         "name": "",
         "orientation": "v",
         "showlegend": false,
         "type": "scatter",
         "x": [
          0.2334768336163717,
          0.13545637570405467
         ],
         "xaxis": "x",
         "y": [
          0.6589869943342828,
          0.6650126001290529
         ],
         "yaxis": "y"
        },
        {
         "hovertemplate": "x=%{x}<br>y=%{y}<extra></extra>",
         "legendgroup": "",
         "line": {
          "color": "grey",
          "dash": "solid"
         },
         "marker": {
          "symbol": "circle"
         },
         "mode": "lines",
         "name": "",
         "orientation": "v",
         "showlegend": false,
         "type": "scatter",
         "x": [
          0.2334768336163717,
          0.39595807876201683
         ],
         "xaxis": "x",
         "y": [
          0.6589869943342828,
          0.6873268128774023
         ],
         "yaxis": "y"
        },
        {
         "hovertemplate": "x=%{x}<br>y=%{y}<extra></extra>",
         "legendgroup": "",
         "line": {
          "color": "grey",
          "dash": "solid"
         },
         "marker": {
          "symbol": "circle"
         },
         "mode": "lines",
         "name": "",
         "orientation": "v",
         "showlegend": false,
         "type": "scatter",
         "x": [
          0.2334768336163717,
          0.325300385303248
         ],
         "xaxis": "x",
         "y": [
          0.6589869943342828,
          0.7543721333241491
         ],
         "yaxis": "y"
        },
        {
         "hovertemplate": "x=%{x}<br>y=%{y}<extra></extra>",
         "legendgroup": "",
         "line": {
          "color": "grey",
          "dash": "solid"
         },
         "marker": {
          "symbol": "circle"
         },
         "mode": "lines",
         "name": "",
         "orientation": "v",
         "showlegend": false,
         "type": "scatter",
         "x": [
          0.2334768336163717,
          0.22297708215302622
         ],
         "xaxis": "x",
         "y": [
          0.6589869943342828,
          0.8644649806673009
         ],
         "yaxis": "y"
        },
        {
         "hovertemplate": "x=%{x}<br>y=%{y}<extra></extra>",
         "legendgroup": "",
         "line": {
          "color": "grey",
          "dash": "solid"
         },
         "marker": {
          "symbol": "circle"
         },
         "mode": "lines",
         "name": "",
         "orientation": "v",
         "showlegend": false,
         "type": "scatter",
         "x": [
          0.2334768336163717,
          0.2723675444308404
         ],
         "xaxis": "x",
         "y": [
          0.6589869943342828,
          0.812980651602192
         ],
         "yaxis": "y"
        },
        {
         "hovertemplate": "x=%{x}<br>y=%{y}<extra></extra>",
         "legendgroup": "",
         "line": {
          "color": "grey",
          "dash": "solid"
         },
         "marker": {
          "symbol": "circle"
         },
         "mode": "lines",
         "name": "",
         "orientation": "v",
         "showlegend": false,
         "type": "scatter",
         "x": [
          0.2334768336163717,
          0.23517662712442425
         ],
         "xaxis": "x",
         "y": [
          0.6589869943342828,
          0.829158737116137
         ],
         "yaxis": "y"
        },
        {
         "hovertemplate": "x=%{x}<br>y=%{y}<extra></extra>",
         "legendgroup": "",
         "line": {
          "color": "grey",
          "dash": "solid"
         },
         "marker": {
          "symbol": "circle"
         },
         "mode": "lines",
         "name": "",
         "orientation": "v",
         "showlegend": false,
         "type": "scatter",
         "x": [
          0.2334768336163717,
          0.17662450927030893
         ],
         "xaxis": "x",
         "y": [
          0.6589869943342828,
          0.8389416274043786
         ],
         "yaxis": "y"
        },
        {
         "hovertemplate": "x=%{x}<br>y=%{y}<extra></extra>",
         "legendgroup": "",
         "line": {
          "color": "grey",
          "dash": "solid"
         },
         "marker": {
          "symbol": "circle"
         },
         "mode": "lines",
         "name": "",
         "orientation": "v",
         "showlegend": false,
         "type": "scatter",
         "x": [
          0.2334768336163717,
          0.19528452047721204
         ],
         "xaxis": "x",
         "y": [
          0.6589869943342828,
          0.7951894590248143
         ],
         "yaxis": "y"
        },
        {
         "hovertemplate": "x=%{x}<br>y=%{y}<extra></extra>",
         "legendgroup": "",
         "line": {
          "color": "grey",
          "dash": "solid"
         },
         "marker": {
          "symbol": "circle"
         },
         "mode": "lines",
         "name": "",
         "orientation": "v",
         "showlegend": false,
         "type": "scatter",
         "x": [
          0.2334768336163717,
          0.35125261521914475
         ],
         "xaxis": "x",
         "y": [
          0.6589869943342828,
          0.711425521564461
         ],
         "yaxis": "y"
        },
        {
         "hovertemplate": "x=%{x}<br>y=%{y}<extra></extra>",
         "legendgroup": "",
         "line": {
          "color": "grey",
          "dash": "solid"
         },
         "marker": {
          "symbol": "circle"
         },
         "mode": "lines",
         "name": "",
         "orientation": "v",
         "showlegend": false,
         "type": "scatter",
         "x": [
          0.2334768336163717,
          0.282117838314936
         ],
         "xaxis": "x",
         "y": [
          0.6589869943342828,
          0.7192028642594729
         ],
         "yaxis": "y"
        },
        {
         "hovertemplate": "x=%{x}<br>y=%{y}<extra></extra>",
         "legendgroup": "",
         "line": {
          "color": "grey",
          "dash": "solid"
         },
         "marker": {
          "symbol": "circle"
         },
         "mode": "lines",
         "name": "",
         "orientation": "v",
         "showlegend": false,
         "type": "scatter",
         "x": [
          0.2334768336163717,
          0.13833258885192884
         ],
         "xaxis": "x",
         "y": [
          0.6589869943342828,
          0.7669749190183459
         ],
         "yaxis": "y"
        },
        {
         "hovertemplate": "x=%{x}<br>y=%{y}<extra></extra>",
         "legendgroup": "",
         "line": {
          "color": "grey",
          "dash": "solid"
         },
         "marker": {
          "symbol": "circle"
         },
         "mode": "lines",
         "name": "",
         "orientation": "v",
         "showlegend": false,
         "type": "scatter",
         "x": [
          0.2334768336163717,
          0.23268976870147723
         ],
         "xaxis": "x",
         "y": [
          0.6589869943342828,
          0.7600603132005426
         ],
         "yaxis": "y"
        },
        {
         "hovertemplate": "x=%{x}<br>y=%{y}<extra></extra>",
         "legendgroup": "",
         "line": {
          "color": "grey",
          "dash": "solid"
         },
         "marker": {
          "symbol": "circle"
         },
         "mode": "lines",
         "name": "",
         "orientation": "v",
         "showlegend": false,
         "type": "scatter",
         "x": [
          0.2334768336163717,
          0.33238472469258534
         ],
         "xaxis": "x",
         "y": [
          0.6589869943342828,
          0.8359719857239734
         ],
         "yaxis": "y"
        },
        {
         "hovertemplate": "x=%{x}<br>y=%{y}<extra></extra>",
         "legendgroup": "",
         "line": {
          "color": "grey",
          "dash": "solid"
         },
         "marker": {
          "symbol": "circle"
         },
         "mode": "lines",
         "name": "",
         "orientation": "v",
         "showlegend": false,
         "type": "scatter",
         "x": [
          0.2334768336163717,
          0.1398755130829909
         ],
         "xaxis": "x",
         "y": [
          0.6589869943342828,
          0.8087345207563238
         ],
         "yaxis": "y"
        },
        {
         "hovertemplate": "x=%{x}<br>y=%{y}<extra></extra>",
         "legendgroup": "",
         "line": {
          "color": "grey",
          "dash": "solid"
         },
         "marker": {
          "symbol": "circle"
         },
         "mode": "lines",
         "name": "",
         "orientation": "v",
         "showlegend": false,
         "type": "scatter",
         "x": [
          0.2334768336163717,
          0.2880116867039557
         ],
         "xaxis": "x",
         "y": [
          0.6589869943342828,
          0.8566447446352222
         ],
         "yaxis": "y"
        },
        {
         "hovertemplate": "x=%{x}<br>y=%{y}<extra></extra>",
         "legendgroup": "",
         "line": {
          "color": "grey",
          "dash": "solid"
         },
         "marker": {
          "symbol": "circle"
         },
         "mode": "lines",
         "name": "",
         "orientation": "v",
         "showlegend": false,
         "type": "scatter",
         "x": [
          0.2334768336163717,
          0.30517688711815316
         ],
         "xaxis": "x",
         "y": [
          0.6589869943342828,
          0.619489003891163
         ],
         "yaxis": "y"
        },
        {
         "hovertemplate": "x=%{x}<br>y=%{y}<extra></extra>",
         "legendgroup": "",
         "line": {
          "color": "grey",
          "dash": "solid"
         },
         "marker": {
          "symbol": "circle"
         },
         "mode": "lines",
         "name": "",
         "orientation": "v",
         "showlegend": false,
         "type": "scatter",
         "x": [
          0.2334768336163717,
          0.3109193664725026
         ],
         "xaxis": "x",
         "y": [
          0.6589869943342828,
          0.7962840431056872
         ],
         "yaxis": "y"
        },
        {
         "hovertemplate": "x=%{x}<br>y=%{y}<extra></extra>",
         "legendgroup": "",
         "line": {
          "color": "grey",
          "dash": "solid"
         },
         "marker": {
          "symbol": "circle"
         },
         "mode": "lines",
         "name": "",
         "orientation": "v",
         "showlegend": false,
         "type": "scatter",
         "x": [
          0.2334768336163717,
          0.40171376455470564
         ],
         "xaxis": "x",
         "y": [
          0.6589869943342828,
          0.7373214436001505
         ],
         "yaxis": "y"
        },
        {
         "hovertemplate": "x=%{x}<br>y=%{y}<extra></extra>",
         "legendgroup": "",
         "line": {
          "color": "grey",
          "dash": "solid"
         },
         "marker": {
          "symbol": "circle"
         },
         "mode": "lines",
         "name": "",
         "orientation": "v",
         "showlegend": false,
         "type": "scatter",
         "x": [
          0.2334768336163717,
          0.38076974472103897
         ],
         "xaxis": "x",
         "y": [
          0.6589869943342828,
          0.7721384722498357
         ],
         "yaxis": "y"
        },
        {
         "hovertemplate": "x=%{x}<br>y=%{y}<extra></extra>",
         "legendgroup": "",
         "line": {
          "color": "grey",
          "dash": "solid"
         },
         "marker": {
          "symbol": "circle"
         },
         "mode": "lines",
         "name": "",
         "orientation": "v",
         "showlegend": false,
         "type": "scatter",
         "x": [
          0.2334768336163717,
          0.36625332091117696
         ],
         "xaxis": "x",
         "y": [
          0.6589869943342828,
          0.8085671423757078
         ],
         "yaxis": "y"
        },
        {
         "hovertemplate": "x=%{x}<br>y=%{y}<extra></extra>",
         "legendgroup": "",
         "line": {
          "color": "grey",
          "dash": "solid"
         },
         "marker": {
          "symbol": "circle"
         },
         "mode": "lines",
         "name": "",
         "orientation": "v",
         "showlegend": false,
         "type": "scatter",
         "x": [
          0.2334768336163717,
          0.3564098436988063
         ],
         "xaxis": "x",
         "y": [
          0.6589869943342828,
          0.6505123079576763
         ],
         "yaxis": "y"
        },
        {
         "hovertemplate": "x=%{x}<br>y=%{y}<extra></extra>",
         "legendgroup": "",
         "line": {
          "color": "grey",
          "dash": "solid"
         },
         "marker": {
          "symbol": "circle"
         },
         "mode": "lines",
         "name": "",
         "orientation": "v",
         "showlegend": false,
         "type": "scatter",
         "x": [
          0.2334768336163717,
          0.10889021471259792
         ],
         "xaxis": "x",
         "y": [
          0.6589869943342828,
          0.7301006976600085
         ],
         "yaxis": "y"
        },
        {
         "hovertemplate": "x=%{x}<br>y=%{y}<extra></extra>",
         "legendgroup": "",
         "line": {
          "color": "grey",
          "dash": "solid"
         },
         "marker": {
          "symbol": "circle"
         },
         "mode": "lines",
         "name": "",
         "orientation": "v",
         "showlegend": false,
         "type": "scatter",
         "x": [
          0.2334768336163717,
          0.02154341965310638
         ],
         "xaxis": "x",
         "y": [
          0.6589869943342828,
          0.03859667592781471
         ],
         "yaxis": "y"
        },
        {
         "hovertemplate": "x=%{x}<br>y=%{y}<extra></extra>",
         "legendgroup": "",
         "line": {
          "color": "grey",
          "dash": "solid"
         },
         "marker": {
          "symbol": "circle"
         },
         "mode": "lines",
         "name": "",
         "orientation": "v",
         "showlegend": false,
         "type": "scatter",
         "x": [
          -0.48920961177775074,
          -0.7247371407638229
         ],
         "xaxis": "x",
         "y": [
          -0.11326764578398872,
          -0.1282390010085854
         ],
         "yaxis": "y"
        },
        {
         "hovertemplate": "x=%{x}<br>y=%{y}<extra></extra>",
         "legendgroup": "",
         "line": {
          "color": "grey",
          "dash": "solid"
         },
         "marker": {
          "symbol": "circle"
         },
         "mode": "lines",
         "name": "",
         "orientation": "v",
         "showlegend": false,
         "type": "scatter",
         "x": [
          -0.48920961177775074,
          -0.6049097164560514
         ],
         "xaxis": "x",
         "y": [
          -0.11326764578398872,
          -0.3759080108557683
         ],
         "yaxis": "y"
        },
        {
         "hovertemplate": "x=%{x}<br>y=%{y}<extra></extra>",
         "legendgroup": "",
         "line": {
          "color": "grey",
          "dash": "solid"
         },
         "marker": {
          "symbol": "circle"
         },
         "mode": "lines",
         "name": "",
         "orientation": "v",
         "showlegend": false,
         "type": "scatter",
         "x": [
          -0.48920961177775074,
          0.02154341965310638
         ],
         "xaxis": "x",
         "y": [
          -0.11326764578398872,
          0.03859667592781471
         ],
         "yaxis": "y"
        },
        {
         "hovertemplate": "x=%{x}<br>y=%{y}<extra></extra>",
         "legendgroup": "",
         "line": {
          "color": "grey",
          "dash": "solid"
         },
         "marker": {
          "symbol": "circle"
         },
         "mode": "lines",
         "name": "",
         "orientation": "v",
         "showlegend": false,
         "type": "scatter",
         "x": [
          -0.6748722236229763,
          -0.6049097164560514
         ],
         "xaxis": "x",
         "y": [
          -0.49348130733109263,
          -0.3759080108557683
         ],
         "yaxis": "y"
        },
        {
         "hovertemplate": "x=%{x}<br>y=%{y}<extra></extra>",
         "legendgroup": "",
         "line": {
          "color": "grey",
          "dash": "solid"
         },
         "marker": {
          "symbol": "circle"
         },
         "mode": "lines",
         "name": "",
         "orientation": "v",
         "showlegend": false,
         "type": "scatter",
         "x": [
          -0.5922736656670693,
          -0.48920961177775074
         ],
         "xaxis": "x",
         "y": [
          -0.21611617213214632,
          -0.11326764578398872
         ],
         "yaxis": "y"
        },
        {
         "hovertemplate": "x=%{x}<br>y=%{y}<extra></extra>",
         "legendgroup": "",
         "line": {
          "color": "grey",
          "dash": "solid"
         },
         "marker": {
          "symbol": "circle"
         },
         "mode": "lines",
         "name": "",
         "orientation": "v",
         "showlegend": false,
         "type": "scatter",
         "x": [
          -0.6160254806389855,
          -0.48920961177775074
         ],
         "xaxis": "x",
         "y": [
          -0.07592806152028506,
          -0.11326764578398872
         ],
         "yaxis": "y"
        },
        {
         "hovertemplate": "x=%{x}<br>y=%{y}<extra></extra>",
         "legendgroup": "",
         "line": {
          "color": "grey",
          "dash": "solid"
         },
         "marker": {
          "symbol": "circle"
         },
         "mode": "lines",
         "name": "",
         "orientation": "v",
         "showlegend": false,
         "type": "scatter",
         "x": [
          -0.6520224970334982,
          -0.48920961177775074
         ],
         "xaxis": "x",
         "y": [
          -0.04759093261137548,
          -0.11326764578398872
         ],
         "yaxis": "y"
        },
        {
         "hovertemplate": "x=%{x}<br>y=%{y}<extra></extra>",
         "legendgroup": "",
         "line": {
          "color": "grey",
          "dash": "solid"
         },
         "marker": {
          "symbol": "circle"
         },
         "mode": "lines",
         "name": "",
         "orientation": "v",
         "showlegend": false,
         "type": "scatter",
         "x": [
          -0.642894814619572,
          -0.6049097164560514
         ],
         "xaxis": "x",
         "y": [
          -0.46191738298433216,
          -0.3759080108557683
         ],
         "yaxis": "y"
        },
        {
         "hovertemplate": "x=%{x}<br>y=%{y}<extra></extra>",
         "legendgroup": "",
         "line": {
          "color": "grey",
          "dash": "solid"
         },
         "marker": {
          "symbol": "circle"
         },
         "mode": "lines",
         "name": "",
         "orientation": "v",
         "showlegend": false,
         "type": "scatter",
         "x": [
          -0.5573491447570833,
          -0.48920961177775074
         ],
         "xaxis": "x",
         "y": [
          -0.17547784452556486,
          -0.11326764578398872
         ],
         "yaxis": "y"
        },
        {
         "hovertemplate": "x=%{x}<br>y=%{y}<extra></extra>",
         "legendgroup": "",
         "line": {
          "color": "grey",
          "dash": "solid"
         },
         "marker": {
          "symbol": "circle"
         },
         "mode": "lines",
         "name": "",
         "orientation": "v",
         "showlegend": false,
         "type": "scatter",
         "x": [
          -0.657929067079904,
          -0.48920961177775074
         ],
         "xaxis": "x",
         "y": [
          -0.10560273950452363,
          -0.11326764578398872
         ],
         "yaxis": "y"
        },
        {
         "hovertemplate": "x=%{x}<br>y=%{y}<extra></extra>",
         "legendgroup": "",
         "line": {
          "color": "grey",
          "dash": "solid"
         },
         "marker": {
          "symbol": "circle"
         },
         "mode": "lines",
         "name": "",
         "orientation": "v",
         "showlegend": false,
         "type": "scatter",
         "x": [
          -0.49535639356141054,
          -0.48920961177775074
         ],
         "xaxis": "x",
         "y": [
          -0.02391055065857383,
          -0.11326764578398872
         ],
         "yaxis": "y"
        },
        {
         "hovertemplate": "x=%{x}<br>y=%{y}<extra></extra>",
         "legendgroup": "",
         "line": {
          "color": "grey",
          "dash": "solid"
         },
         "marker": {
          "symbol": "circle"
         },
         "mode": "lines",
         "name": "",
         "orientation": "v",
         "showlegend": false,
         "type": "scatter",
         "x": [
          -0.6350723719436527,
          -0.48920961177775074
         ],
         "xaxis": "x",
         "y": [
          -0.14823440798634388,
          -0.11326764578398872
         ],
         "yaxis": "y"
        },
        {
         "hovertemplate": "x=%{x}<br>y=%{y}<extra></extra>",
         "legendgroup": "",
         "line": {
          "color": "grey",
          "dash": "solid"
         },
         "marker": {
          "symbol": "circle"
         },
         "mode": "lines",
         "name": "",
         "orientation": "v",
         "showlegend": false,
         "type": "scatter",
         "x": [
          -0.6109142604929322,
          -0.48920961177775074
         ],
         "xaxis": "x",
         "y": [
          -0.016284349746266552,
          -0.11326764578398872
         ],
         "yaxis": "y"
        },
        {
         "hovertemplate": "x=%{x}<br>y=%{y}<extra></extra>",
         "legendgroup": "",
         "line": {
          "color": "grey",
          "dash": "solid"
         },
         "marker": {
          "symbol": "circle"
         },
         "mode": "lines",
         "name": "",
         "orientation": "v",
         "showlegend": false,
         "type": "scatter",
         "x": [
          -0.5594099756402614,
          -0.48920961177775074
         ],
         "xaxis": "x",
         "y": [
          -0.05123559817591812,
          -0.11326764578398872
         ],
         "yaxis": "y"
        },
        {
         "hovertemplate": "x=%{x}<br>y=%{y}<extra></extra>",
         "legendgroup": "",
         "line": {
          "color": "grey",
          "dash": "solid"
         },
         "marker": {
          "symbol": "circle"
         },
         "mode": "lines",
         "name": "",
         "orientation": "v",
         "showlegend": false,
         "type": "scatter",
         "x": [
          -0.8845638043246663,
          -0.7247371407638229
         ],
         "xaxis": "x",
         "y": [
          -0.135494757283373,
          -0.1282390010085854
         ],
         "yaxis": "y"
        },
        {
         "hovertemplate": "x=%{x}<br>y=%{y}<extra></extra>",
         "legendgroup": "",
         "line": {
          "color": "grey",
          "dash": "solid"
         },
         "marker": {
          "symbol": "circle"
         },
         "mode": "lines",
         "name": "",
         "orientation": "v",
         "showlegend": false,
         "type": "scatter",
         "x": [
          -0.7428993421957368,
          -0.6049097164560514
         ],
         "xaxis": "x",
         "y": [
          -0.4310604745057232,
          -0.3759080108557683
         ],
         "yaxis": "y"
        },
        {
         "hovertemplate": "x=%{x}<br>y=%{y}<extra></extra>",
         "legendgroup": "",
         "line": {
          "color": "grey",
          "dash": "solid"
         },
         "marker": {
          "symbol": "circle"
         },
         "mode": "lines",
         "name": "",
         "orientation": "v",
         "showlegend": false,
         "type": "scatter",
         "x": [
          -0.5872656716783599,
          -0.6049097164560514
         ],
         "xaxis": "x",
         "y": [
          -0.4856061361964533,
          -0.3759080108557683
         ],
         "yaxis": "y"
        },
        {
         "hovertemplate": "x=%{x}<br>y=%{y}<extra></extra>",
         "legendgroup": "",
         "line": {
          "color": "grey",
          "dash": "solid"
         },
         "marker": {
          "symbol": "circle"
         },
         "mode": "lines",
         "name": "",
         "orientation": "v",
         "showlegend": false,
         "type": "scatter",
         "x": [
          -0.6355524177332191,
          -0.48920961177775074
         ],
         "xaxis": "x",
         "y": [
          -0.19003193833002502,
          -0.11326764578398872
         ],
         "yaxis": "y"
        },
        {
         "hovertemplate": "x=%{x}<br>y=%{y}<extra></extra>",
         "legendgroup": "",
         "line": {
          "color": "grey",
          "dash": "solid"
         },
         "marker": {
          "symbol": "circle"
         },
         "mode": "lines",
         "name": "",
         "orientation": "v",
         "showlegend": false,
         "type": "scatter",
         "x": [
          -0.4736771253817354,
          -0.48920961177775074
         ],
         "xaxis": "x",
         "y": [
          -0.202367885478415,
          -0.11326764578398872
         ],
         "yaxis": "y"
        },
        {
         "hovertemplate": "x=%{x}<br>y=%{y}<extra></extra>",
         "legendgroup": "",
         "line": {
          "color": "grey",
          "dash": "solid"
         },
         "marker": {
          "symbol": "circle"
         },
         "mode": "lines",
         "name": "",
         "orientation": "v",
         "showlegend": false,
         "type": "scatter",
         "x": [
          -0.5622106772188112,
          -0.48920961177775074
         ],
         "xaxis": "x",
         "y": [
          0.0034188902243851528,
          -0.11326764578398872
         ],
         "yaxis": "y"
        },
        {
         "hovertemplate": "x=%{x}<br>y=%{y}<extra></extra>",
         "legendgroup": "",
         "line": {
          "color": "grey",
          "dash": "solid"
         },
         "marker": {
          "symbol": "circle"
         },
         "mode": "lines",
         "name": "",
         "orientation": "v",
         "showlegend": false,
         "type": "scatter",
         "x": [
          0.05012246387482738,
          0.02154341965310638
         ],
         "xaxis": "x",
         "y": [
          0.11823141719894564,
          0.03859667592781471
         ],
         "yaxis": "y"
        },
        {
         "hovertemplate": "x=%{x}<br>y=%{y}<extra></extra>",
         "legendgroup": "",
         "line": {
          "color": "grey",
          "dash": "solid"
         },
         "marker": {
          "symbol": "circle"
         },
         "mode": "lines",
         "name": "",
         "orientation": "v",
         "showlegend": false,
         "type": "scatter",
         "x": [
          -0.6256754174898457,
          -0.6049097164560514
         ],
         "xaxis": "x",
         "y": [
          -0.5154121335119806,
          -0.3759080108557683
         ],
         "yaxis": "y"
        },
        {
         "hovertemplate": "x=%{x}<br>y=%{y}<extra></extra>",
         "legendgroup": "",
         "line": {
          "color": "grey",
          "dash": "solid"
         },
         "marker": {
          "symbol": "circle"
         },
         "mode": "lines",
         "name": "",
         "orientation": "v",
         "showlegend": false,
         "type": "scatter",
         "x": [
          -0.5875598033385451,
          -0.48920961177775074
         ],
         "xaxis": "x",
         "y": [
          -0.12240169965425458,
          -0.11326764578398872
         ],
         "yaxis": "y"
        },
        {
         "hovertemplate": "x=%{x}<br>y=%{y}<extra></extra>",
         "legendgroup": "",
         "line": {
          "color": "grey",
          "dash": "solid"
         },
         "marker": {
          "symbol": "circle"
         },
         "mode": "lines",
         "name": "",
         "orientation": "v",
         "showlegend": false,
         "type": "scatter",
         "x": [
          -0.5318148355974316,
          -0.48920961177775074
         ],
         "xaxis": "x",
         "y": [
          -0.22891380306333986,
          -0.11326764578398872
         ],
         "yaxis": "y"
        },
        {
         "hovertemplate": "x=%{x}<br>y=%{y}<extra></extra>",
         "legendgroup": "",
         "line": {
          "color": "grey",
          "dash": "solid"
         },
         "marker": {
          "symbol": "circle"
         },
         "mode": "lines",
         "name": "",
         "orientation": "v",
         "showlegend": false,
         "type": "scatter",
         "x": [
          -0.1661863636516834,
          -0.2346710446659668
         ],
         "xaxis": "x",
         "y": [
          0.41993322793748317,
          0.5518210818715206
         ],
         "yaxis": "y"
        },
        {
         "hovertemplate": "x=%{x}<br>y=%{y}<extra></extra>",
         "legendgroup": "",
         "line": {
          "color": "grey",
          "dash": "solid"
         },
         "marker": {
          "symbol": "circle"
         },
         "mode": "lines",
         "name": "",
         "orientation": "v",
         "showlegend": false,
         "type": "scatter",
         "x": [
          -0.1661863636516834,
          -0.34660973966456826
         ],
         "xaxis": "x",
         "y": [
          0.41993322793748317,
          0.7554165972935936
         ],
         "yaxis": "y"
        },
        {
         "hovertemplate": "x=%{x}<br>y=%{y}<extra></extra>",
         "legendgroup": "",
         "line": {
          "color": "grey",
          "dash": "solid"
         },
         "marker": {
          "symbol": "circle"
         },
         "mode": "lines",
         "name": "",
         "orientation": "v",
         "showlegend": false,
         "type": "scatter",
         "x": [
          -0.1661863636516834,
          0.02154341965310638
         ],
         "xaxis": "x",
         "y": [
          0.41993322793748317,
          0.03859667592781471
         ],
         "yaxis": "y"
        },
        {
         "hovertemplate": "x=%{x}<br>y=%{y}<extra></extra>",
         "legendgroup": "",
         "line": {
          "color": "grey",
          "dash": "solid"
         },
         "marker": {
          "symbol": "circle"
         },
         "mode": "lines",
         "name": "",
         "orientation": "v",
         "showlegend": false,
         "type": "scatter",
         "x": [
          -0.37564785367465064,
          -0.34660973966456826
         ],
         "xaxis": "x",
         "y": [
          0.9217670239788418,
          0.7554165972935936
         ],
         "yaxis": "y"
        },
        {
         "hovertemplate": "x=%{x}<br>y=%{y}<extra></extra>",
         "legendgroup": "",
         "line": {
          "color": "grey",
          "dash": "solid"
         },
         "marker": {
          "symbol": "circle"
         },
         "mode": "lines",
         "name": "",
         "orientation": "v",
         "showlegend": false,
         "type": "scatter",
         "x": [
          -0.37975587884127227,
          -0.34660973966456826
         ],
         "xaxis": "x",
         "y": [
          0.8726689112598539,
          0.7554165972935936
         ],
         "yaxis": "y"
        },
        {
         "hovertemplate": "x=%{x}<br>y=%{y}<extra></extra>",
         "legendgroup": "",
         "line": {
          "color": "grey",
          "dash": "solid"
         },
         "marker": {
          "symbol": "circle"
         },
         "mode": "lines",
         "name": "",
         "orientation": "v",
         "showlegend": false,
         "type": "scatter",
         "x": [
          -0.3269429257036466,
          -0.34660973966456826
         ],
         "xaxis": "x",
         "y": [
          0.8948310637819791,
          0.7554165972935936
         ],
         "yaxis": "y"
        },
        {
         "hovertemplate": "x=%{x}<br>y=%{y}<extra></extra>",
         "legendgroup": "",
         "line": {
          "color": "grey",
          "dash": "solid"
         },
         "marker": {
          "symbol": "circle"
         },
         "mode": "lines",
         "name": "",
         "orientation": "v",
         "showlegend": false,
         "type": "scatter",
         "x": [
          -0.42493960604964515,
          -0.34660973966456826
         ],
         "xaxis": "x",
         "y": [
          0.9031982168784515,
          0.7554165972935936
         ],
         "yaxis": "y"
        },
        {
         "hovertemplate": "x=%{x}<br>y=%{y}<extra></extra>",
         "legendgroup": "",
         "line": {
          "color": "grey",
          "dash": "solid"
         },
         "marker": {
          "symbol": "circle"
         },
         "mode": "lines",
         "name": "",
         "orientation": "v",
         "showlegend": false,
         "type": "scatter",
         "x": [
          -0.4800447483790763,
          -0.34660973966456826
         ],
         "xaxis": "x",
         "y": [
          0.8178997899795967,
          0.7554165972935936
         ],
         "yaxis": "y"
        },
        {
         "hovertemplate": "x=%{x}<br>y=%{y}<extra></extra>",
         "legendgroup": "",
         "line": {
          "color": "grey",
          "dash": "solid"
         },
         "marker": {
          "symbol": "circle"
         },
         "mode": "lines",
         "name": "",
         "orientation": "v",
         "showlegend": false,
         "type": "scatter",
         "x": [
          -0.1727540231224697,
          -0.1661863636516834
         ],
         "xaxis": "x",
         "y": [
          0.5138974629372998,
          0.41993322793748317
         ],
         "yaxis": "y"
        },
        {
         "hovertemplate": "x=%{x}<br>y=%{y}<extra></extra>",
         "legendgroup": "",
         "line": {
          "color": "grey",
          "dash": "solid"
         },
         "marker": {
          "symbol": "circle"
         },
         "mode": "lines",
         "name": "",
         "orientation": "v",
         "showlegend": false,
         "type": "scatter",
         "x": [
          -0.28616812477400455,
          -0.2346710446659668
         ],
         "xaxis": "x",
         "y": [
          0.6488133532048304,
          0.5518210818715206
         ],
         "yaxis": "y"
        },
        {
         "hovertemplate": "x=%{x}<br>y=%{y}<extra></extra>",
         "legendgroup": "",
         "line": {
          "color": "grey",
          "dash": "solid"
         },
         "marker": {
          "symbol": "circle"
         },
         "mode": "lines",
         "name": "",
         "orientation": "v",
         "showlegend": false,
         "type": "scatter",
         "x": [
          -0.4335175058240548,
          -0.34660973966456826
         ],
         "xaxis": "x",
         "y": [
          0.8482607189916154,
          0.7554165972935936
         ],
         "yaxis": "y"
        },
        {
         "hovertemplate": "x=%{x}<br>y=%{y}<extra></extra>",
         "legendgroup": "",
         "line": {
          "color": "grey",
          "dash": "solid"
         },
         "marker": {
          "symbol": "circle"
         },
         "mode": "lines",
         "name": "",
         "orientation": "v",
         "showlegend": false,
         "type": "scatter",
         "x": [
          -0.46922182202584645,
          -0.34660973966456826
         ],
         "xaxis": "x",
         "y": [
          0.8703503819165739,
          0.7554165972935936
         ],
         "yaxis": "y"
        },
        {
         "hovertemplate": "x=%{x}<br>y=%{y}<extra></extra>",
         "legendgroup": "",
         "line": {
          "color": "grey",
          "dash": "solid"
         },
         "marker": {
          "symbol": "circle"
         },
         "mode": "lines",
         "name": "",
         "orientation": "v",
         "showlegend": false,
         "type": "scatter",
         "x": [
          0.3353016595989065,
          0.4219819286894175
         ],
         "xaxis": "x",
         "y": [
          0.19067225490967318,
          0.1796278816135691
         ],
         "yaxis": "y"
        },
        {
         "hovertemplate": "x=%{x}<br>y=%{y}<extra></extra>",
         "legendgroup": "",
         "line": {
          "color": "grey",
          "dash": "solid"
         },
         "marker": {
          "symbol": "circle"
         },
         "mode": "lines",
         "name": "",
         "orientation": "v",
         "showlegend": false,
         "type": "scatter",
         "x": [
          0.3353016595989065,
          0.5171093018121277
         ],
         "xaxis": "x",
         "y": [
          0.19067225490967318,
          0.17744714566876338
         ],
         "yaxis": "y"
        },
        {
         "hovertemplate": "x=%{x}<br>y=%{y}<extra></extra>",
         "legendgroup": "",
         "line": {
          "color": "grey",
          "dash": "solid"
         },
         "marker": {
          "symbol": "circle"
         },
         "mode": "lines",
         "name": "",
         "orientation": "v",
         "showlegend": false,
         "type": "scatter",
         "x": [
          0.3353016595989065,
          0.5582654821611321
         ],
         "xaxis": "x",
         "y": [
          0.19067225490967318,
          0.37880946531890375
         ],
         "yaxis": "y"
        },
        {
         "hovertemplate": "x=%{x}<br>y=%{y}<extra></extra>",
         "legendgroup": "",
         "line": {
          "color": "grey",
          "dash": "solid"
         },
         "marker": {
          "symbol": "circle"
         },
         "mode": "lines",
         "name": "",
         "orientation": "v",
         "showlegend": false,
         "type": "scatter",
         "x": [
          0.3353016595989065,
          0.02154341965310638
         ],
         "xaxis": "x",
         "y": [
          0.19067225490967318,
          0.03859667592781471
         ],
         "yaxis": "y"
        },
        {
         "hovertemplate": "x=%{x}<br>y=%{y}<extra></extra>",
         "legendgroup": "",
         "line": {
          "color": "grey",
          "dash": "solid"
         },
         "marker": {
          "symbol": "circle"
         },
         "mode": "lines",
         "name": "",
         "orientation": "v",
         "showlegend": false,
         "type": "scatter",
         "x": [
          0.6508274174425112,
          0.5582654821611321
         ],
         "xaxis": "x",
         "y": [
          0.3752668078528502,
          0.37880946531890375
         ],
         "yaxis": "y"
        },
        {
         "hovertemplate": "x=%{x}<br>y=%{y}<extra></extra>",
         "legendgroup": "",
         "line": {
          "color": "grey",
          "dash": "solid"
         },
         "marker": {
          "symbol": "circle"
         },
         "mode": "lines",
         "name": "",
         "orientation": "v",
         "showlegend": false,
         "type": "scatter",
         "x": [
          0.6001965109124667,
          0.5582654821611321
         ],
         "xaxis": "x",
         "y": [
          0.3201860333734362,
          0.37880946531890375
         ],
         "yaxis": "y"
        },
        {
         "hovertemplate": "x=%{x}<br>y=%{y}<extra></extra>",
         "legendgroup": "",
         "line": {
          "color": "grey",
          "dash": "solid"
         },
         "marker": {
          "symbol": "circle"
         },
         "mode": "lines",
         "name": "",
         "orientation": "v",
         "showlegend": false,
         "type": "scatter",
         "x": [
          0.7039637615900437,
          0.5582654821611321
         ],
         "xaxis": "x",
         "y": [
          0.44708328699772126,
          0.37880946531890375
         ],
         "yaxis": "y"
        },
        {
         "hovertemplate": "x=%{x}<br>y=%{y}<extra></extra>",
         "legendgroup": "",
         "line": {
          "color": "grey",
          "dash": "solid"
         },
         "marker": {
          "symbol": "circle"
         },
         "mode": "lines",
         "name": "",
         "orientation": "v",
         "showlegend": false,
         "type": "scatter",
         "x": [
          0.7112881569805121,
          0.5582654821611321
         ],
         "xaxis": "x",
         "y": [
          0.3951821295300481,
          0.37880946531890375
         ],
         "yaxis": "y"
        },
        {
         "hovertemplate": "x=%{x}<br>y=%{y}<extra></extra>",
         "legendgroup": "",
         "line": {
          "color": "grey",
          "dash": "solid"
         },
         "marker": {
          "symbol": "circle"
         },
         "mode": "lines",
         "name": "",
         "orientation": "v",
         "showlegend": false,
         "type": "scatter",
         "x": [
          0.6063529462976708,
          0.5582654821611321
         ],
         "xaxis": "x",
         "y": [
          0.4855097192526738,
          0.37880946531890375
         ],
         "yaxis": "y"
        },
        {
         "hovertemplate": "x=%{x}<br>y=%{y}<extra></extra>",
         "legendgroup": "",
         "line": {
          "color": "grey",
          "dash": "solid"
         },
         "marker": {
          "symbol": "circle"
         },
         "mode": "lines",
         "name": "",
         "orientation": "v",
         "showlegend": false,
         "type": "scatter",
         "x": [
          0.5216925708992931,
          0.5582654821611321
         ],
         "xaxis": "x",
         "y": [
          0.339736810680224,
          0.37880946531890375
         ],
         "yaxis": "y"
        },
        {
         "hovertemplate": "x=%{x}<br>y=%{y}<extra></extra>",
         "legendgroup": "",
         "line": {
          "color": "grey",
          "dash": "solid"
         },
         "marker": {
          "symbol": "circle"
         },
         "mode": "lines",
         "name": "",
         "orientation": "v",
         "showlegend": false,
         "type": "scatter",
         "x": [
          0.53281283204236,
          0.5582654821611321
         ],
         "xaxis": "x",
         "y": [
          0.476827348971223,
          0.37880946531890375
         ],
         "yaxis": "y"
        },
        {
         "hovertemplate": "x=%{x}<br>y=%{y}<extra></extra>",
         "legendgroup": "",
         "line": {
          "color": "grey",
          "dash": "solid"
         },
         "marker": {
          "symbol": "circle"
         },
         "mode": "lines",
         "name": "",
         "orientation": "v",
         "showlegend": false,
         "type": "scatter",
         "x": [
          0.46579069869940387,
          0.5582654821611321
         ],
         "xaxis": "x",
         "y": [
          0.3875700524300328,
          0.37880946531890375
         ],
         "yaxis": "y"
        },
        {
         "hovertemplate": "x=%{x}<br>y=%{y}<extra></extra>",
         "legendgroup": "",
         "line": {
          "color": "grey",
          "dash": "solid"
         },
         "marker": {
          "symbol": "circle"
         },
         "mode": "lines",
         "name": "",
         "orientation": "v",
         "showlegend": false,
         "type": "scatter",
         "x": [
          0.659720638215432,
          0.5171093018121277
         ],
         "xaxis": "x",
         "y": [
          0.17072046531308277,
          0.17744714566876338
         ],
         "yaxis": "y"
        },
        {
         "hovertemplate": "x=%{x}<br>y=%{y}<extra></extra>",
         "legendgroup": "",
         "line": {
          "color": "grey",
          "dash": "solid"
         },
         "marker": {
          "symbol": "circle"
         },
         "mode": "lines",
         "name": "",
         "orientation": "v",
         "showlegend": false,
         "type": "scatter",
         "x": [
          0.6616401323324914,
          0.5582654821611321
         ],
         "xaxis": "x",
         "y": [
          0.47609782977484844,
          0.37880946531890375
         ],
         "yaxis": "y"
        },
        {
         "hovertemplate": "x=%{x}<br>y=%{y}<extra></extra>",
         "legendgroup": "",
         "line": {
          "color": "grey",
          "dash": "solid"
         },
         "marker": {
          "symbol": "circle"
         },
         "mode": "lines",
         "name": "",
         "orientation": "v",
         "showlegend": false,
         "type": "scatter",
         "x": [
          0.47407017807159163,
          0.5582654821611321
         ],
         "xaxis": "x",
         "y": [
          0.4446934412273397,
          0.37880946531890375
         ],
         "yaxis": "y"
        },
        {
         "hovertemplate": "x=%{x}<br>y=%{y}<extra></extra>",
         "legendgroup": "",
         "line": {
          "color": "grey",
          "dash": "solid"
         },
         "marker": {
          "symbol": "circle"
         },
         "mode": "lines",
         "name": "",
         "orientation": "v",
         "showlegend": false,
         "type": "scatter",
         "x": [
          -0.19614276739897182,
          -0.24145094546780752
         ],
         "xaxis": "x",
         "y": [
          -0.4591386471065106,
          -0.8382221022893459
         ],
         "yaxis": "y"
        },
        {
         "hovertemplate": "x=%{x}<br>y=%{y}<extra></extra>",
         "legendgroup": "",
         "line": {
          "color": "grey",
          "dash": "solid"
         },
         "marker": {
          "symbol": "circle"
         },
         "mode": "lines",
         "name": "",
         "orientation": "v",
         "showlegend": false,
         "type": "scatter",
         "x": [
          -0.19614276739897182,
          -0.5382783304697094
         ],
         "xaxis": "x",
         "y": [
          -0.4591386471065106,
          -0.7124349328651302
         ],
         "yaxis": "y"
        },
        {
         "hovertemplate": "x=%{x}<br>y=%{y}<extra></extra>",
         "legendgroup": "",
         "line": {
          "color": "grey",
          "dash": "solid"
         },
         "marker": {
          "symbol": "circle"
         },
         "mode": "lines",
         "name": "",
         "orientation": "v",
         "showlegend": false,
         "type": "scatter",
         "x": [
          -0.19614276739897182,
          0.03745676818706103
         ],
         "xaxis": "x",
         "y": [
          -0.4591386471065106,
          -0.4591375442783916
         ],
         "yaxis": "y"
        },
        {
         "hovertemplate": "x=%{x}<br>y=%{y}<extra></extra>",
         "legendgroup": "",
         "line": {
          "color": "grey",
          "dash": "solid"
         },
         "marker": {
          "symbol": "circle"
         },
         "mode": "lines",
         "name": "",
         "orientation": "v",
         "showlegend": false,
         "type": "scatter",
         "x": [
          -0.19614276739897182,
          0.02154341965310638
         ],
         "xaxis": "x",
         "y": [
          -0.4591386471065106,
          0.03859667592781471
         ],
         "yaxis": "y"
        },
        {
         "hovertemplate": "x=%{x}<br>y=%{y}<extra></extra>",
         "legendgroup": "",
         "line": {
          "color": "grey",
          "dash": "solid"
         },
         "marker": {
          "symbol": "circle"
         },
         "mode": "lines",
         "name": "",
         "orientation": "v",
         "showlegend": false,
         "type": "scatter",
         "x": [
          -0.22636183870805712,
          -0.24145094546780752
         ],
         "xaxis": "x",
         "y": [
          -0.999235319303167,
          -0.8382221022893459
         ],
         "yaxis": "y"
        },
        {
         "hovertemplate": "x=%{x}<br>y=%{y}<extra></extra>",
         "legendgroup": "",
         "line": {
          "color": "grey",
          "dash": "solid"
         },
         "marker": {
          "symbol": "circle"
         },
         "mode": "lines",
         "name": "",
         "orientation": "v",
         "showlegend": false,
         "type": "scatter",
         "x": [
          -0.2742550801139485,
          -0.24145094546780752
         ],
         "xaxis": "x",
         "y": [
          -1,
          -0.8382221022893459
         ],
         "yaxis": "y"
        },
        {
         "hovertemplate": "x=%{x}<br>y=%{y}<extra></extra>",
         "legendgroup": "",
         "line": {
          "color": "grey",
          "dash": "solid"
         },
         "marker": {
          "symbol": "circle"
         },
         "mode": "lines",
         "name": "",
         "orientation": "v",
         "showlegend": false,
         "type": "scatter",
         "x": [
          -0.26633889637290087,
          -0.24145094546780752
         ],
         "xaxis": "x",
         "y": [
          -0.9486629341691273,
          -0.8382221022893459
         ],
         "yaxis": "y"
        },
        {
         "hovertemplate": "x=%{x}<br>y=%{y}<extra></extra>",
         "legendgroup": "",
         "line": {
          "color": "grey",
          "dash": "solid"
         },
         "marker": {
          "symbol": "circle"
         },
         "mode": "lines",
         "name": "",
         "orientation": "v",
         "showlegend": false,
         "type": "scatter",
         "x": [
          -0.3176562260751893,
          -0.24145094546780752
         ],
         "xaxis": "x",
         "y": [
          -0.9771804686966674,
          -0.8382221022893459
         ],
         "yaxis": "y"
        },
        {
         "hovertemplate": "x=%{x}<br>y=%{y}<extra></extra>",
         "legendgroup": "",
         "line": {
          "color": "grey",
          "dash": "solid"
         },
         "marker": {
          "symbol": "circle"
         },
         "mode": "lines",
         "name": "",
         "orientation": "v",
         "showlegend": false,
         "type": "scatter",
         "x": [
          -0.20010273226508554,
          -0.24145094546780752
         ],
         "xaxis": "x",
         "y": [
          -0.9469186410383512,
          -0.8382221022893459
         ],
         "yaxis": "y"
        },
        {
         "hovertemplate": "x=%{x}<br>y=%{y}<extra></extra>",
         "legendgroup": "",
         "line": {
          "color": "grey",
          "dash": "solid"
         },
         "marker": {
          "symbol": "circle"
         },
         "mode": "lines",
         "name": "",
         "orientation": "v",
         "showlegend": false,
         "type": "scatter",
         "x": [
          -0.1747502959090054,
          -0.24145094546780752
         ],
         "xaxis": "x",
         "y": [
          -0.9816269278555052,
          -0.8382221022893459
         ],
         "yaxis": "y"
        },
        {
         "hovertemplate": "x=%{x}<br>y=%{y}<extra></extra>",
         "legendgroup": "",
         "line": {
          "color": "grey",
          "dash": "solid"
         },
         "marker": {
          "symbol": "circle"
         },
         "mode": "lines",
         "name": "",
         "orientation": "v",
         "showlegend": false,
         "type": "scatter",
         "x": [
          -0.3330637139748596,
          -0.24145094546780752
         ],
         "xaxis": "x",
         "y": [
          -0.9344166547959555,
          -0.8382221022893459
         ],
         "yaxis": "y"
        },
        {
         "hovertemplate": "x=%{x}<br>y=%{y}<extra></extra>",
         "legendgroup": "",
         "line": {
          "color": "grey",
          "dash": "solid"
         },
         "marker": {
          "symbol": "circle"
         },
         "mode": "lines",
         "name": "",
         "orientation": "v",
         "showlegend": false,
         "type": "scatter",
         "x": [
          -0.69200658988589,
          -0.5382783304697094
         ],
         "xaxis": "x",
         "y": [
          -0.7493421107031196,
          -0.7124349328651302
         ],
         "yaxis": "y"
        },
        {
         "hovertemplate": "x=%{x}<br>y=%{y}<extra></extra>",
         "legendgroup": "",
         "line": {
          "color": "grey",
          "dash": "solid"
         },
         "marker": {
          "symbol": "circle"
         },
         "mode": "lines",
         "name": "",
         "orientation": "v",
         "showlegend": false,
         "type": "scatter",
         "x": [
          -0.5657176857102177,
          -0.5382783304697094
         ],
         "xaxis": "x",
         "y": [
          -0.863962271464483,
          -0.7124349328651302
         ],
         "yaxis": "y"
        },
        {
         "hovertemplate": "x=%{x}<br>y=%{y}<extra></extra>",
         "legendgroup": "",
         "line": {
          "color": "grey",
          "dash": "solid"
         },
         "marker": {
          "symbol": "circle"
         },
         "mode": "lines",
         "name": "",
         "orientation": "v",
         "showlegend": false,
         "type": "scatter",
         "x": [
          -0.6817335992590261,
          -0.5382783304697094
         ],
         "xaxis": "x",
         "y": [
          -0.7100176393097004,
          -0.7124349328651302
         ],
         "yaxis": "y"
        },
        {
         "hovertemplate": "x=%{x}<br>y=%{y}<extra></extra>",
         "legendgroup": "",
         "line": {
          "color": "grey",
          "dash": "solid"
         },
         "marker": {
          "symbol": "circle"
         },
         "mode": "lines",
         "name": "",
         "orientation": "v",
         "showlegend": false,
         "type": "scatter",
         "x": [
          -0.6674734964547877,
          -0.5382783304697094
         ],
         "xaxis": "x",
         "y": [
          -0.826678238938725,
          -0.7124349328651302
         ],
         "yaxis": "y"
        },
        {
         "hovertemplate": "x=%{x}<br>y=%{y}<extra></extra>",
         "legendgroup": "",
         "line": {
          "color": "grey",
          "dash": "solid"
         },
         "marker": {
          "symbol": "circle"
         },
         "mode": "lines",
         "name": "",
         "orientation": "v",
         "showlegend": false,
         "type": "scatter",
         "x": [
          -0.6306232876956268,
          -0.5382783304697094
         ],
         "xaxis": "x",
         "y": [
          -0.8572000060416809,
          -0.7124349328651302
         ],
         "yaxis": "y"
        },
        {
         "hovertemplate": "x=%{x}<br>y=%{y}<extra></extra>",
         "legendgroup": "",
         "line": {
          "color": "grey",
          "dash": "solid"
         },
         "marker": {
          "symbol": "circle"
         },
         "mode": "lines",
         "name": "",
         "orientation": "v",
         "showlegend": false,
         "type": "scatter",
         "x": [
          -0.5907667947264291,
          -0.5382783304697094
         ],
         "xaxis": "x",
         "y": [
          -0.8291361607636577,
          -0.7124349328651302
         ],
         "yaxis": "y"
        },
        {
         "hovertemplate": "x=%{x}<br>y=%{y}<extra></extra>",
         "legendgroup": "",
         "line": {
          "color": "grey",
          "dash": "solid"
         },
         "marker": {
          "symbol": "circle"
         },
         "mode": "lines",
         "name": "",
         "orientation": "v",
         "showlegend": false,
         "type": "scatter",
         "x": [
          -0.6339796000752751,
          -0.5382783304697094
         ],
         "xaxis": "x",
         "y": [
          -0.7861585946243984,
          -0.7124349328651302
         ],
         "yaxis": "y"
        },
        {
         "hovertemplate": "x=%{x}<br>y=%{y}<extra></extra>",
         "legendgroup": "",
         "line": {
          "color": "grey",
          "dash": "solid"
         },
         "marker": {
          "symbol": "circle"
         },
         "mode": "lines",
         "name": "",
         "orientation": "v",
         "showlegend": false,
         "type": "scatter",
         "x": [
          -0.6951110839192957,
          -0.5382783304697094
         ],
         "xaxis": "x",
         "y": [
          -0.7887122932620027,
          -0.7124349328651302
         ],
         "yaxis": "y"
        },
        {
         "hovertemplate": "x=%{x}<br>y=%{y}<extra></extra>",
         "legendgroup": "",
         "line": {
          "color": "grey",
          "dash": "solid"
         },
         "marker": {
          "symbol": "circle"
         },
         "mode": "lines",
         "name": "",
         "orientation": "v",
         "showlegend": false,
         "type": "scatter",
         "x": [
          0.09542507964247826,
          0.03745676818706103
         ],
         "xaxis": "x",
         "y": [
          -0.5767550444964081,
          -0.4591375442783916
         ],
         "yaxis": "y"
        },
        {
         "hovertemplate": "x=%{x}<br>y=%{y}<extra></extra>",
         "legendgroup": "",
         "line": {
          "color": "grey",
          "dash": "solid"
         },
         "marker": {
          "symbol": "circle"
         },
         "mode": "lines",
         "name": "",
         "orientation": "v",
         "showlegend": false,
         "type": "scatter",
         "x": [
          0.06570029453296161,
          0.03745676818706103
         ],
         "xaxis": "x",
         "y": [
          -0.37653525601570603,
          -0.4591375442783916
         ],
         "yaxis": "y"
        },
        {
         "hovertemplate": "x=%{x}<br>y=%{y}<extra></extra>",
         "legendgroup": "",
         "line": {
          "color": "grey",
          "dash": "solid"
         },
         "marker": {
          "symbol": "circle"
         },
         "mode": "lines",
         "name": "",
         "orientation": "v",
         "showlegend": false,
         "type": "scatter",
         "x": [
          0.1163818194794995,
          0.03745676818706103
         ],
         "xaxis": "x",
         "y": [
          -0.47041013862059944,
          -0.4591375442783916
         ],
         "yaxis": "y"
        },
        {
         "hovertemplate": "x=%{x}<br>y=%{y}<extra></extra>",
         "legendgroup": "",
         "line": {
          "color": "grey",
          "dash": "solid"
         },
         "marker": {
          "symbol": "circle"
         },
         "mode": "lines",
         "name": "",
         "orientation": "v",
         "showlegend": false,
         "type": "scatter",
         "x": [
          0.14819776633423445,
          0.03745676818706103
         ],
         "xaxis": "x",
         "y": [
          -0.5109786793984069,
          -0.4591375442783916
         ],
         "yaxis": "y"
        },
        {
         "hovertemplate": "x=%{x}<br>y=%{y}<extra></extra>",
         "legendgroup": "",
         "line": {
          "color": "grey",
          "dash": "solid"
         },
         "marker": {
          "symbol": "circle"
         },
         "mode": "lines",
         "name": "",
         "orientation": "v",
         "showlegend": false,
         "type": "scatter",
         "x": [
          0.15419155435411436,
          0.03745676818706103
         ],
         "xaxis": "x",
         "y": [
          -0.4393290741948384,
          -0.4591375442783916
         ],
         "yaxis": "y"
        },
        {
         "hovertemplate": "x=%{x}<br>y=%{y}<extra></extra>",
         "legendgroup": "",
         "line": {
          "color": "grey",
          "dash": "solid"
         },
         "marker": {
          "symbol": "circle"
         },
         "mode": "lines",
         "name": "",
         "orientation": "v",
         "showlegend": false,
         "type": "scatter",
         "x": [
          0.11946639461879711,
          0.03745676818706103
         ],
         "xaxis": "x",
         "y": [
          -0.38044941390560205,
          -0.4591375442783916
         ],
         "yaxis": "y"
        },
        {
         "hovertemplate": "x=%{x}<br>y=%{y}<extra></extra>",
         "legendgroup": "",
         "line": {
          "color": "grey",
          "dash": "solid"
         },
         "marker": {
          "symbol": "circle"
         },
         "mode": "lines",
         "name": "",
         "orientation": "v",
         "showlegend": false,
         "type": "scatter",
         "x": [
          -0.2478492384540272,
          -0.19614276739897182
         ],
         "xaxis": "x",
         "y": [
          -0.5701832341659763,
          -0.4591386471065106
         ],
         "yaxis": "y"
        },
        {
         "hovertemplate": "x=%{x}<br>y=%{y}<extra></extra>",
         "legendgroup": "",
         "line": {
          "color": "grey",
          "dash": "solid"
         },
         "marker": {
          "symbol": "circle"
         },
         "mode": "lines",
         "name": "",
         "orientation": "v",
         "showlegend": false,
         "type": "scatter",
         "x": [
          -0.32647376543380646,
          -0.44772327767933656
         ],
         "xaxis": "x",
         "y": [
          0.28556134077132456,
          0.3727006973405025
         ],
         "yaxis": "y"
        },
        {
         "hovertemplate": "x=%{x}<br>y=%{y}<extra></extra>",
         "legendgroup": "",
         "line": {
          "color": "grey",
          "dash": "solid"
         },
         "marker": {
          "symbol": "circle"
         },
         "mode": "lines",
         "name": "",
         "orientation": "v",
         "showlegend": false,
         "type": "scatter",
         "x": [
          -0.32647376543380646,
          -0.40118805823314896
         ],
         "xaxis": "x",
         "y": [
          0.28556134077132456,
          0.40294406243276865
         ],
         "yaxis": "y"
        },
        {
         "hovertemplate": "x=%{x}<br>y=%{y}<extra></extra>",
         "legendgroup": "",
         "line": {
          "color": "grey",
          "dash": "solid"
         },
         "marker": {
          "symbol": "circle"
         },
         "mode": "lines",
         "name": "",
         "orientation": "v",
         "showlegend": false,
         "type": "scatter",
         "x": [
          -0.32647376543380646,
          -0.5703208040367115
         ],
         "xaxis": "x",
         "y": [
          0.28556134077132456,
          0.45278587978696533
         ],
         "yaxis": "y"
        },
        {
         "hovertemplate": "x=%{x}<br>y=%{y}<extra></extra>",
         "legendgroup": "",
         "line": {
          "color": "grey",
          "dash": "solid"
         },
         "marker": {
          "symbol": "circle"
         },
         "mode": "lines",
         "name": "",
         "orientation": "v",
         "showlegend": false,
         "type": "scatter",
         "x": [
          -0.32647376543380646,
          0.02154341965310638
         ],
         "xaxis": "x",
         "y": [
          0.28556134077132456,
          0.03859667592781471
         ],
         "yaxis": "y"
        },
        {
         "hovertemplate": "x=%{x}<br>y=%{y}<extra></extra>",
         "legendgroup": "",
         "line": {
          "color": "grey",
          "dash": "solid"
         },
         "marker": {
          "symbol": "circle"
         },
         "mode": "lines",
         "name": "",
         "orientation": "v",
         "showlegend": false,
         "type": "scatter",
         "x": [
          -0.4063014747342403,
          -0.32647376543380646
         ],
         "xaxis": "x",
         "y": [
          0.3383614829248541,
          0.28556134077132456
         ],
         "yaxis": "y"
        },
        {
         "hovertemplate": "x=%{x}<br>y=%{y}<extra></extra>",
         "legendgroup": "",
         "line": {
          "color": "grey",
          "dash": "solid"
         },
         "marker": {
          "symbol": "circle"
         },
         "mode": "lines",
         "name": "",
         "orientation": "v",
         "showlegend": false,
         "type": "scatter",
         "x": [
          -0.34925482001880226,
          -0.32647376543380646
         ],
         "xaxis": "x",
         "y": [
          0.39055617535944864,
          0.28556134077132456
         ],
         "yaxis": "y"
        },
        {
         "hovertemplate": "x=%{x}<br>y=%{y}<extra></extra>",
         "legendgroup": "",
         "line": {
          "color": "grey",
          "dash": "solid"
         },
         "marker": {
          "symbol": "circle"
         },
         "mode": "lines",
         "name": "",
         "orientation": "v",
         "showlegend": false,
         "type": "scatter",
         "x": [
          -0.43838104731084465,
          -0.32647376543380646
         ],
         "xaxis": "x",
         "y": [
          0.2762350796714665,
          0.28556134077132456
         ],
         "yaxis": "y"
        },
        {
         "hovertemplate": "x=%{x}<br>y=%{y}<extra></extra>",
         "legendgroup": "",
         "line": {
          "color": "grey",
          "dash": "solid"
         },
         "marker": {
          "symbol": "circle"
         },
         "mode": "lines",
         "name": "",
         "orientation": "v",
         "showlegend": false,
         "type": "scatter",
         "x": [
          -0.07689481023401226,
          0.02154341965310638
         ],
         "xaxis": "x",
         "y": [
          0.05237544945597163,
          0.03859667592781471
         ],
         "yaxis": "y"
        },
        {
         "hovertemplate": "x=%{x}<br>y=%{y}<extra></extra>",
         "legendgroup": "",
         "line": {
          "color": "grey",
          "dash": "solid"
         },
         "marker": {
          "symbol": "circle"
         },
         "mode": "lines",
         "name": "",
         "orientation": "v",
         "showlegend": false,
         "type": "scatter",
         "x": [
          -0.6708986771635964,
          -0.5703208040367115
         ],
         "xaxis": "x",
         "y": [
          0.5691338585090632,
          0.45278587978696533
         ],
         "yaxis": "y"
        },
        {
         "hovertemplate": "x=%{x}<br>y=%{y}<extra></extra>",
         "legendgroup": "",
         "line": {
          "color": "grey",
          "dash": "solid"
         },
         "marker": {
          "symbol": "circle"
         },
         "mode": "lines",
         "name": "",
         "orientation": "v",
         "showlegend": false,
         "type": "scatter",
         "x": [
          -0.7168658240013271,
          -0.5703208040367115
         ],
         "xaxis": "x",
         "y": [
          0.4928235764578553,
          0.45278587978696533
         ],
         "yaxis": "y"
        },
        {
         "hovertemplate": "x=%{x}<br>y=%{y}<extra></extra>",
         "legendgroup": "",
         "line": {
          "color": "grey",
          "dash": "solid"
         },
         "marker": {
          "symbol": "circle"
         },
         "mode": "lines",
         "name": "",
         "orientation": "v",
         "showlegend": false,
         "type": "scatter",
         "x": [
          -0.7041859364483877,
          -0.5703208040367115
         ],
         "xaxis": "x",
         "y": [
          0.537539593045254,
          0.45278587978696533
         ],
         "yaxis": "y"
        },
        {
         "hovertemplate": "x=%{x}<br>y=%{y}<extra></extra>",
         "legendgroup": "",
         "line": {
          "color": "grey",
          "dash": "solid"
         },
         "marker": {
          "symbol": "circle"
         },
         "mode": "lines",
         "name": "",
         "orientation": "v",
         "showlegend": false,
         "type": "scatter",
         "x": [
          -0.46866091579311137,
          -0.32647376543380646
         ],
         "xaxis": "x",
         "y": [
          0.3204118193169208,
          0.28556134077132456
         ],
         "yaxis": "y"
        },
        {
         "hovertemplate": "x=%{x}<br>y=%{y}<extra></extra>",
         "legendgroup": "",
         "line": {
          "color": "grey",
          "dash": "solid"
         },
         "marker": {
          "symbol": "circle"
         },
         "mode": "lines",
         "name": "",
         "orientation": "v",
         "showlegend": false,
         "type": "scatter",
         "x": [
          -0.14319226229137832,
          -0.07689481023401226
         ],
         "xaxis": "x",
         "y": [
          0.01248831268348642,
          0.05237544945597163
         ],
         "yaxis": "y"
        },
        {
         "hovertemplate": "x=%{x}<br>y=%{y}<extra></extra>",
         "legendgroup": "",
         "line": {
          "color": "grey",
          "dash": "solid"
         },
         "marker": {
          "symbol": "circle"
         },
         "mode": "lines",
         "name": "",
         "orientation": "v",
         "showlegend": false,
         "type": "scatter",
         "x": [
          -0.13449509695478531,
          -0.07689481023401226
         ],
         "xaxis": "x",
         "y": [
          0.10602970145305766,
          0.05237544945597163
         ],
         "yaxis": "y"
        },
        {
         "hovertemplate": "x=%{x}<br>y=%{y}<extra></extra>",
         "legendgroup": "",
         "line": {
          "color": "grey",
          "dash": "solid"
         },
         "marker": {
          "symbol": "circle"
         },
         "mode": "lines",
         "name": "",
         "orientation": "v",
         "showlegend": false,
         "type": "scatter",
         "x": [
          -0.00034228055072478173,
          0.046695191171902406
         ],
         "xaxis": "x",
         "y": [
          -0.29696026636179046,
          -0.5668730494697307
         ],
         "yaxis": "y"
        },
        {
         "hovertemplate": "x=%{x}<br>y=%{y}<extra></extra>",
         "legendgroup": "",
         "line": {
          "color": "grey",
          "dash": "solid"
         },
         "marker": {
          "symbol": "circle"
         },
         "mode": "lines",
         "name": "",
         "orientation": "v",
         "showlegend": false,
         "type": "scatter",
         "x": [
          -0.00034228055072478173,
          -0.0785382308113446
         ],
         "xaxis": "x",
         "y": [
          -0.29696026636179046,
          -0.3841543953907544
         ],
         "yaxis": "y"
        },
        {
         "hovertemplate": "x=%{x}<br>y=%{y}<extra></extra>",
         "legendgroup": "",
         "line": {
          "color": "grey",
          "dash": "solid"
         },
         "marker": {
          "symbol": "circle"
         },
         "mode": "lines",
         "name": "",
         "orientation": "v",
         "showlegend": false,
         "type": "scatter",
         "x": [
          -0.00034228055072478173,
          0.02154341965310638
         ],
         "xaxis": "x",
         "y": [
          -0.29696026636179046,
          0.03859667592781471
         ],
         "yaxis": "y"
        },
        {
         "hovertemplate": "x=%{x}<br>y=%{y}<extra></extra>",
         "legendgroup": "",
         "line": {
          "color": "grey",
          "dash": "solid"
         },
         "marker": {
          "symbol": "circle"
         },
         "mode": "lines",
         "name": "",
         "orientation": "v",
         "showlegend": false,
         "type": "scatter",
         "x": [
          0.060889504407550046,
          0.046695191171902406
         ],
         "xaxis": "x",
         "y": [
          -0.7246268543112655,
          -0.5668730494697307
         ],
         "yaxis": "y"
        },
        {
         "hovertemplate": "x=%{x}<br>y=%{y}<extra></extra>",
         "legendgroup": "",
         "line": {
          "color": "grey",
          "dash": "solid"
         },
         "marker": {
          "symbol": "circle"
         },
         "mode": "lines",
         "name": "",
         "orientation": "v",
         "showlegend": false,
         "type": "scatter",
         "x": [
          -0.018073091870867905,
          -0.00034228055072478173
         ],
         "xaxis": "x",
         "y": [
          -0.38475057480921865,
          -0.29696026636179046
         ],
         "yaxis": "y"
        },
        {
         "hovertemplate": "x=%{x}<br>y=%{y}<extra></extra>",
         "legendgroup": "",
         "line": {
          "color": "grey",
          "dash": "solid"
         },
         "marker": {
          "symbol": "circle"
         },
         "mode": "lines",
         "name": "",
         "orientation": "v",
         "showlegend": false,
         "type": "scatter",
         "x": [
          0.5171007537369532,
          0.6585829197285591
         ],
         "xaxis": "x",
         "y": [
          -0.21441698079761806,
          -0.25621302921273403
         ],
         "yaxis": "y"
        },
        {
         "hovertemplate": "x=%{x}<br>y=%{y}<extra></extra>",
         "legendgroup": "",
         "line": {
          "color": "grey",
          "dash": "solid"
         },
         "marker": {
          "symbol": "circle"
         },
         "mode": "lines",
         "name": "",
         "orientation": "v",
         "showlegend": false,
         "type": "scatter",
         "x": [
          0.5171007537369532,
          0.6390458283087947
         ],
         "xaxis": "x",
         "y": [
          -0.21441698079761806,
          -0.15137463435347218
         ],
         "yaxis": "y"
        },
        {
         "hovertemplate": "x=%{x}<br>y=%{y}<extra></extra>",
         "legendgroup": "",
         "line": {
          "color": "grey",
          "dash": "solid"
         },
         "marker": {
          "symbol": "circle"
         },
         "mode": "lines",
         "name": "",
         "orientation": "v",
         "showlegend": false,
         "type": "scatter",
         "x": [
          0.5171007537369532,
          0.7784427753163974
         ],
         "xaxis": "x",
         "y": [
          -0.21441698079761806,
          -0.24463680560626966
         ],
         "yaxis": "y"
        },
        {
         "hovertemplate": "x=%{x}<br>y=%{y}<extra></extra>",
         "legendgroup": "",
         "line": {
          "color": "grey",
          "dash": "solid"
         },
         "marker": {
          "symbol": "circle"
         },
         "mode": "lines",
         "name": "",
         "orientation": "v",
         "showlegend": false,
         "type": "scatter",
         "x": [
          0.5171007537369532,
          0.6435721634619396
         ],
         "xaxis": "x",
         "y": [
          -0.21441698079761806,
          -0.3658056365862044
         ],
         "yaxis": "y"
        },
        {
         "hovertemplate": "x=%{x}<br>y=%{y}<extra></extra>",
         "legendgroup": "",
         "line": {
          "color": "grey",
          "dash": "solid"
         },
         "marker": {
          "symbol": "circle"
         },
         "mode": "lines",
         "name": "",
         "orientation": "v",
         "showlegend": false,
         "type": "scatter",
         "x": [
          0.5171007537369532,
          0.6212236425329655
         ],
         "xaxis": "x",
         "y": [
          -0.21441698079761806,
          -0.288377669913657
         ],
         "yaxis": "y"
        },
        {
         "hovertemplate": "x=%{x}<br>y=%{y}<extra></extra>",
         "legendgroup": "",
         "line": {
          "color": "grey",
          "dash": "solid"
         },
         "marker": {
          "symbol": "circle"
         },
         "mode": "lines",
         "name": "",
         "orientation": "v",
         "showlegend": false,
         "type": "scatter",
         "x": [
          0.5171007537369532,
          0.7657049067280375
         ],
         "xaxis": "x",
         "y": [
          -0.21441698079761806,
          -0.48380654047963
         ],
         "yaxis": "y"
        },
        {
         "hovertemplate": "x=%{x}<br>y=%{y}<extra></extra>",
         "legendgroup": "",
         "line": {
          "color": "grey",
          "dash": "solid"
         },
         "marker": {
          "symbol": "circle"
         },
         "mode": "lines",
         "name": "",
         "orientation": "v",
         "showlegend": false,
         "type": "scatter",
         "x": [
          0.5171007537369532,
          0.02154341965310638
         ],
         "xaxis": "x",
         "y": [
          -0.21441698079761806,
          0.03859667592781471
         ],
         "yaxis": "y"
        },
        {
         "hovertemplate": "x=%{x}<br>y=%{y}<extra></extra>",
         "legendgroup": "",
         "line": {
          "color": "grey",
          "dash": "solid"
         },
         "marker": {
          "symbol": "circle"
         },
         "mode": "lines",
         "name": "",
         "orientation": "v",
         "showlegend": false,
         "type": "scatter",
         "x": [
          0.11099780867891172,
          0.046695191171902406
         ],
         "xaxis": "x",
         "y": [
          -0.7149169825780307,
          -0.5668730494697307
         ],
         "yaxis": "y"
        },
        {
         "hovertemplate": "x=%{x}<br>y=%{y}<extra></extra>",
         "legendgroup": "",
         "line": {
          "color": "grey",
          "dash": "solid"
         },
         "marker": {
          "symbol": "circle"
         },
         "mode": "lines",
         "name": "",
         "orientation": "v",
         "showlegend": false,
         "type": "scatter",
         "x": [
          0.7137065031866221,
          0.6435721634619396
         ],
         "xaxis": "x",
         "y": [
          -0.4853555933678276,
          -0.3658056365862044
         ],
         "yaxis": "y"
        },
        {
         "hovertemplate": "x=%{x}<br>y=%{y}<extra></extra>",
         "legendgroup": "",
         "line": {
          "color": "grey",
          "dash": "solid"
         },
         "marker": {
          "symbol": "circle"
         },
         "mode": "lines",
         "name": "",
         "orientation": "v",
         "showlegend": false,
         "type": "scatter",
         "x": [
          0.9283779751834075,
          0.7784427753163974
         ],
         "xaxis": "x",
         "y": [
          -0.23494241511075187,
          -0.24463680560626966
         ],
         "yaxis": "y"
        },
        {
         "hovertemplate": "x=%{x}<br>y=%{y}<extra></extra>",
         "legendgroup": "",
         "line": {
          "color": "grey",
          "dash": "solid"
         },
         "marker": {
          "symbol": "circle"
         },
         "mode": "lines",
         "name": "",
         "orientation": "v",
         "showlegend": false,
         "type": "scatter",
         "x": [
          0.9258936750876703,
          0.7784427753163974
         ],
         "xaxis": "x",
         "y": [
          -0.2875220170366119,
          -0.24463680560626966
         ],
         "yaxis": "y"
        },
        {
         "hovertemplate": "x=%{x}<br>y=%{y}<extra></extra>",
         "legendgroup": "",
         "line": {
          "color": "grey",
          "dash": "solid"
         },
         "marker": {
          "symbol": "circle"
         },
         "mode": "lines",
         "name": "",
         "orientation": "v",
         "showlegend": false,
         "type": "scatter",
         "x": [
          0.8732482842776773,
          0.7657049067280375
         ],
         "xaxis": "x",
         "y": [
          -0.5926686811735169,
          -0.48380654047963
         ],
         "yaxis": "y"
        },
        {
         "hovertemplate": "x=%{x}<br>y=%{y}<extra></extra>",
         "legendgroup": "",
         "line": {
          "color": "grey",
          "dash": "solid"
         },
         "marker": {
          "symbol": "circle"
         },
         "mode": "lines",
         "name": "",
         "orientation": "v",
         "showlegend": false,
         "type": "scatter",
         "x": [
          0.913815763937291,
          0.7657049067280375
         ],
         "xaxis": "x",
         "y": [
          -0.5232759990880547,
          -0.48380654047963
         ],
         "yaxis": "y"
        },
        {
         "hovertemplate": "x=%{x}<br>y=%{y}<extra></extra>",
         "legendgroup": "",
         "line": {
          "color": "grey",
          "dash": "solid"
         },
         "marker": {
          "symbol": "circle"
         },
         "mode": "lines",
         "name": "",
         "orientation": "v",
         "showlegend": false,
         "type": "scatter",
         "x": [
          0.8486590992807156,
          0.7657049067280375
         ],
         "xaxis": "x",
         "y": [
          -0.6271583271720099,
          -0.48380654047963
         ],
         "yaxis": "y"
        },
        {
         "hovertemplate": "x=%{x}<br>y=%{y}<extra></extra>",
         "legendgroup": "",
         "line": {
          "color": "grey",
          "dash": "solid"
         },
         "marker": {
          "symbol": "circle"
         },
         "mode": "lines",
         "name": "",
         "orientation": "v",
         "showlegend": false,
         "type": "scatter",
         "x": [
          0.8052587016896158,
          0.7657049067280375
         ],
         "xaxis": "x",
         "y": [
          -0.6277686061967197,
          -0.48380654047963
         ],
         "yaxis": "y"
        },
        {
         "hovertemplate": "x=%{x}<br>y=%{y}<extra></extra>",
         "legendgroup": "",
         "line": {
          "color": "grey",
          "dash": "solid"
         },
         "marker": {
          "symbol": "circle"
         },
         "mode": "lines",
         "name": "",
         "orientation": "v",
         "showlegend": false,
         "type": "scatter",
         "x": [
          0.6236921225853221,
          0.5171007537369532
         ],
         "xaxis": "x",
         "y": [
          -0.20374603458509158,
          -0.21441698079761806
         ],
         "yaxis": "y"
        },
        {
         "hovertemplate": "x=%{x}<br>y=%{y}<extra></extra>",
         "legendgroup": "",
         "line": {
          "color": "grey",
          "dash": "solid"
         },
         "marker": {
          "symbol": "circle"
         },
         "mode": "lines",
         "name": "",
         "orientation": "v",
         "showlegend": false,
         "type": "scatter",
         "x": [
          0.103720423473183,
          0.02154341965310638
         ],
         "xaxis": "x",
         "y": [
          0.04812604107922524,
          0.03859667592781471
         ],
         "yaxis": "y"
        },
        {
         "hovertemplate": "x=%{x}<br>y=%{y}<extra></extra>",
         "legendgroup": "",
         "line": {
          "color": "grey",
          "dash": "solid"
         },
         "marker": {
          "symbol": "circle"
         },
         "mode": "lines",
         "name": "",
         "orientation": "v",
         "showlegend": false,
         "type": "scatter",
         "x": [
          -0.03045843355478438,
          -0.00034228055072478173
         ],
         "xaxis": "x",
         "y": [
          -0.4368086517097308,
          -0.29696026636179046
         ],
         "yaxis": "y"
        },
        {
         "hovertemplate": "x=%{x}<br>y=%{y}<extra></extra>",
         "legendgroup": "",
         "line": {
          "color": "grey",
          "dash": "solid"
         },
         "marker": {
          "symbol": "circle"
         },
         "mode": "lines",
         "name": "",
         "orientation": "v",
         "showlegend": false,
         "type": "scatter",
         "x": [
          -0.08513410877302444,
          -0.00034228055072478173
         ],
         "xaxis": "x",
         "y": [
          -0.3132255727514528,
          -0.29696026636179046
         ],
         "yaxis": "y"
        },
        {
         "hovertemplate": "x=%{x}<br>y=%{y}<extra></extra>",
         "legendgroup": "",
         "line": {
          "color": "grey",
          "dash": "solid"
         },
         "marker": {
          "symbol": "circle"
         },
         "mode": "lines",
         "name": "",
         "orientation": "v",
         "showlegend": false,
         "type": "scatter",
         "x": [
          0.9033896569981527,
          0.7657049067280375
         ],
         "xaxis": "x",
         "y": [
          -0.5684273217515532,
          -0.48380654047963
         ],
         "yaxis": "y"
        },
        {
         "hovertemplate": "x=%{x}<br>y=%{y}<extra></extra>",
         "legendgroup": "",
         "line": {
          "color": "grey",
          "dash": "solid"
         },
         "marker": {
          "symbol": "circle"
         },
         "mode": "lines",
         "name": "",
         "orientation": "v",
         "showlegend": false,
         "type": "scatter",
         "x": [
          0.6734389277818221,
          0.5171007537369532
         ],
         "xaxis": "x",
         "y": [
          -0.20295930539255386,
          -0.21441698079761806
         ],
         "yaxis": "y"
        },
        {
         "customdata": [
          [
           "Zachary Ibarra",
           10,
           true,
           "person",
           "Zachary Ibarra",
           "2021-01-27",
           "Contract",
           [
            "Python",
            "Typescript",
            "Java"
           ],
           "Lauren Webb",
           "DevOps",
           "Engineer",
           {
            "city": "Dublin",
            "country": "IRL",
            "tz": "UTC"
           },
           1,
           "Dublin",
           "UTC",
           "IRL"
          ],
          [
           "Jessica Robertson",
           10,
           true,
           "person",
           "Jessica Robertson",
           "2021-01-20",
           "Contract",
           [
            "Java"
           ],
           "Lauren Webb",
           "DevOps",
           "Engineer",
           {
            "city": "Dublin",
            "country": "IRL",
            "tz": "UTC"
           },
           1,
           "Dublin",
           "UTC",
           "IRL"
          ],
          [
           "Kyle Ross",
           10,
           true,
           "person",
           "Kyle Ross",
           "2023-02-27",
           "Full Time",
           [
            "Python",
            "Typescript",
            "Scala"
           ],
           "Crystal Ayers",
           "DevOps",
           "Engineer",
           {
            "city": "Dublin",
            "country": "IRL",
            "tz": "UTC"
           },
           1,
           "Dublin",
           "UTC",
           "IRL"
          ],
          [
           "Donna Baird",
           10,
           true,
           "person",
           "Donna Baird",
           "2022-07-20",
           "Contract",
           [],
           "Heather Rojas",
           "DevOps",
           "Engineer",
           {
            "city": "Dublin",
            "country": "IRL",
            "tz": "UTC"
           },
           1,
           "Dublin",
           "UTC",
           "IRL"
          ],
          [
           "Austin Alexander",
           10,
           true,
           "person",
           "Austin Alexander",
           "2022-03-06",
           "Full Time",
           [],
           "Heather Rojas",
           "DevOps",
           "Engineer",
           {
            "city": "Dublin",
            "country": "IRL",
            "tz": "UTC"
           },
           1,
           "Dublin",
           "UTC",
           "IRL"
          ],
          [
           "Pamela Austin",
           10,
           true,
           "person",
           "Pamela Austin",
           "2022-02-07",
           "Contract",
           [],
           "Heather Rojas",
           "DevOps",
           "Engineer",
           {
            "city": "Dublin",
            "country": "IRL",
            "tz": "UTC"
           },
           1,
           "Dublin",
           "UTC",
           "IRL"
          ],
          [
           "Lauren Webb",
           10,
           true,
           "person",
           "Lauren Webb",
           "2021-03-24",
           "Part Time",
           [
            "Go"
           ],
           "Jordan Harper",
           "DevOps",
           "Senior Engineer",
           {
            "city": "Dublin",
            "country": "IRL",
            "tz": "UTC"
           },
           2,
           "Dublin",
           "UTC",
           "IRL"
          ],
          [
           "Todd Olson",
           10,
           true,
           "person",
           "Todd Olson",
           "2022-08-05",
           "Full Time",
           [],
           "Crystal Ayers",
           "DevOps",
           "Senior Engineer",
           {
            "city": "Dublin",
            "country": "IRL",
            "tz": "UTC"
           },
           2,
           "Dublin",
           "UTC",
           "IRL"
          ],
          [
           "Katrina Crosby",
           10,
           true,
           "person",
           "Katrina Crosby",
           "2022-04-26",
           "Full Time",
           [
            "Java"
           ],
           "Crystal Ayers",
           "DevOps",
           "Senior Engineer",
           {
            "city": "Dublin",
            "country": "IRL",
            "tz": "UTC"
           },
           2,
           "Dublin",
           "UTC",
           "IRL"
          ],
          [
           "Jerome Lutz",
           10,
           true,
           "person",
           "Jerome Lutz",
           "2020-10-25",
           "Contract",
           [],
           "Crystal Ayers",
           "DevOps",
           "Senior Engineer",
           {
            "city": "Dublin",
            "country": "IRL",
            "tz": "UTC"
           },
           2,
           "Dublin",
           "UTC",
           "IRL"
          ],
          [
           "Crystal Ayers",
           10,
           true,
           "person",
           "Crystal Ayers",
           "2021-12-25",
           "Full Time",
           [
            "Python",
            "JavaScript"
           ],
           "Jordan Harper",
           "DevOps",
           "Manager",
           {
            "city": "Dublin",
            "country": "IRL",
            "tz": "UTC"
           },
           3,
           "Dublin",
           "UTC",
           "IRL"
          ],
          [
           "Heather Rojas",
           10,
           true,
           "person",
           "Heather Rojas",
           "2021-10-13",
           "Full Time",
           [
            "JavaScript",
            "Java"
           ],
           "Crystal Ayers",
           "DevOps",
           "Manager",
           {
            "city": "Dublin",
            "country": "IRL",
            "tz": "UTC"
           },
           3,
           "Dublin",
           "UTC",
           "IRL"
          ],
          [
           "Michael Mayo",
           10,
           true,
           "person",
           "Michael Mayo",
           "2022-05-29",
           "Full Time",
           [
            "Typescript",
            "Java"
           ],
           "Crystal Ayers",
           "DevOps",
           "Manager",
           {
            "city": "Dublin",
            "country": "IRL",
            "tz": "UTC"
           },
           3,
           "Dublin",
           "UTC",
           "IRL"
          ],
          [
           "Shelby Robinson",
           10,
           true,
           "person",
           "Shelby Robinson",
           "2022-05-27",
           "Part Time",
           [
            "Python",
            "JavaScript",
            "Scala"
           ],
           "Crystal Ayers",
           "DevOps",
           "Manager",
           {
            "city": "Dublin",
            "country": "IRL",
            "tz": "UTC"
           },
           3,
           "Dublin",
           "UTC",
           "IRL"
          ],
          [
           "Shane Nguyen",
           10,
           true,
           "person",
           "Shane Nguyen",
           "2022-11-26",
           "Part Time",
           [
            "Python",
            "Typescript",
            "JavaScript",
            "Java"
           ],
           "Richard Alvarez",
           "Support",
           "Analyst",
           {
            "city": "Dublin",
            "country": "IRL",
            "tz": "UTC"
           },
           1,
           "Dublin",
           "UTC",
           "IRL"
          ],
          [
           "Aaron Myers",
           10,
           true,
           "person",
           "Aaron Myers",
           "2023-01-23",
           "Full Time",
           [
            "Typescript",
            "JavaScript",
            "Java"
           ],
           "Lisa Boyer",
           "Support",
           "Analyst",
           {
            "city": "Dublin",
            "country": "IRL",
            "tz": "UTC"
           },
           1,
           "Dublin",
           "UTC",
           "IRL"
          ],
          [
           "Virginia Avila",
           10,
           true,
           "person",
           "Virginia Avila",
           "2021-05-09",
           "Full Time",
           [
            "Python",
            "Typescript",
            "JavaScript",
            "Scala"
           ],
           "Jordan Harper",
           "Support",
           "Manager",
           {
            "city": "Dublin",
            "country": "IRL",
            "tz": "UTC"
           },
           2,
           "Dublin",
           "UTC",
           "IRL"
          ],
          [
           "Richard Alvarez",
           10,
           true,
           "person",
           "Richard Alvarez",
           "2021-05-12",
           "Contract",
           [],
           "Virginia Avila",
           "Support",
           "Manager",
           {
            "city": "Dublin",
            "country": "IRL",
            "tz": "UTC"
           },
           2,
           "Dublin",
           "UTC",
           "IRL"
          ],
          [
           "Sarah Bennett",
           10,
           true,
           "person",
           "Sarah Bennett",
           "2022-05-16",
           "Contract",
           [],
           "Virginia Avila",
           "Support",
           "Manager",
           {
            "city": "Dublin",
            "country": "IRL",
            "tz": "UTC"
           },
           2,
           "Dublin",
           "UTC",
           "IRL"
          ],
          [
           "Holly Mcdonald",
           10,
           true,
           "person",
           "Holly Mcdonald",
           "2022-05-29",
           "Full Time",
           [
            "Typescript"
           ],
           "Virginia Avila",
           "Support",
           "Manager",
           {
            "city": "Dublin",
            "country": "IRL",
            "tz": "UTC"
           },
           2,
           "Dublin",
           "UTC",
           "IRL"
          ],
          [
           "Lisa Boyer",
           10,
           true,
           "person",
           "Lisa Boyer",
           "2021-02-09",
           "Full Time",
           [
            "Python",
            "Typescript",
            "Java"
           ],
           "Virginia Avila",
           "Support",
           "Manager",
           {
            "city": "Dublin",
            "country": "IRL",
            "tz": "UTC"
           },
           2,
           "Dublin",
           "UTC",
           "IRL"
          ],
          [
           "Curtis Brown",
           10,
           true,
           "person",
           "Curtis Brown",
           "2022-11-27",
           "Full Time",
           [
            "Python",
            "JavaScript",
            "Scala",
            "Java"
           ],
           "Virginia Avila",
           "Support",
           "Manager",
           {
            "city": "Dublin",
            "country": "IRL",
            "tz": "UTC"
           },
           2,
           "Dublin",
           "UTC",
           "IRL"
          ],
          [
           "Brianna Brown",
           10,
           true,
           "person",
           "Brianna Brown",
           "2023-01-26",
           "Contract",
           [],
           "Virginia Avila",
           "Support",
           "Manager",
           {
            "city": "Dublin",
            "country": "IRL",
            "tz": "UTC"
           },
           2,
           "Dublin",
           "UTC",
           "IRL"
          ]
         ],
         "hovertemplate": "<b>%{hovertext}</b><br><br>country=%{customdata[15]}<br>x=%{x}<br>y=%{y}<br>rank=%{customdata[12]}<br>label=%{customdata[0]}<br>size=%{customdata[1]}<br>person=%{customdata[2]}<br>type=%{customdata[3]}<br>name=%{customdata[4]}<br>hire_date=%{customdata[5]}<br>status=%{customdata[6]}<br>languages=%{customdata[7]}<br>manager=%{customdata[8]}<br>team=%{customdata[9]}<br>title=%{customdata[10]}<br>location=%{customdata[11]}<br>city=%{customdata[13]}<br>tz=%{customdata[14]}<extra></extra>",
         "hovertext": [
          "Zachary Ibarra",
          "Jessica Robertson",
          "Kyle Ross",
          "Donna Baird",
          "Austin Alexander",
          "Pamela Austin",
          "Lauren Webb",
          "Todd Olson",
          "Katrina Crosby",
          "Jerome Lutz",
          "Crystal Ayers",
          "Heather Rojas",
          "Michael Mayo",
          "Shelby Robinson",
          "Shane Nguyen",
          "Aaron Myers",
          "Virginia Avila",
          "Richard Alvarez",
          "Sarah Bennett",
          "Holly Mcdonald",
          "Lisa Boyer",
          "Curtis Brown",
          "Brianna Brown"
         ],
         "legendgroup": "IRL",
         "marker": {
          "color": "#ab63fa",
          "size": [
           1,
           1,
           1,
           1,
           1,
           1,
           2,
           2,
           2,
           2,
           3,
           3,
           3,
           3,
           1,
           1,
           2,
           2,
           2,
           2,
           2,
           2,
           2
          ],
          "sizemode": "area",
          "sizeref": 0.0175,
          "symbol": "circle"
         },
         "mode": "markers",
         "name": "IRL",
         "orientation": "v",
         "showlegend": true,
         "type": "scatter",
         "x": [
          -0.13449509695478531,
          -0.14319226229137832,
          -0.46866091579311137,
          -0.7041859364483877,
          -0.7168658240013271,
          -0.6708986771635964,
          -0.07689481023401226,
          -0.43838104731084465,
          -0.34925482001880226,
          -0.4063014747342403,
          -0.32647376543380646,
          -0.5703208040367115,
          -0.40118805823314896,
          -0.44772327767933656,
          0.47492723356257566,
          0.5951419654023237,
          0.2938702726187548,
          0.39938500944810734,
          0.3391747509014339,
          0.39180603300848715,
          0.4668247173668308,
          0.3750905543149955,
          0.40400329729492435
         ],
         "xaxis": "x",
         "y": [
          0.10602970145305766,
          0.01248831268348642,
          0.3204118193169208,
          0.537539593045254,
          0.4928235764578553,
          0.5691338585090632,
          0.05237544945597163,
          0.2762350796714665,
          0.39055617535944864,
          0.3383614829248541,
          0.28556134077132456,
          0.45278587978696533,
          0.40294406243276865,
          0.3727006973405025,
          -0.5881813916626967,
          -0.4678448718992556,
          -0.24253721120761765,
          -0.44241537708170453,
          -0.36419571366523007,
          -0.3458884337457171,
          -0.37227432721368364,
          -0.294786234223895,
          -0.24756945429324467
         ],
         "yaxis": "y"
        },
        {
         "customdata": [
          [
           "Lisa Hoover",
           10,
           true,
           "person",
           "Lisa Hoover",
           "2021-11-06",
           "Contract",
           [],
           "Steven Edwards",
           "Business",
           "Associate",
           {
            "city": "Toronto",
            "country": "CAN",
            "tz": "EST"
           },
           2,
           "Toronto",
           "EST",
           "CAN"
          ],
          [
           "Mason Chase",
           10,
           true,
           "person",
           "Mason Chase",
           "2021-09-20",
           "Full Time",
           [
            "Java",
            "Python",
            "Typescript",
            "JavaScript",
            "Scala"
           ],
           "Christopher Griffin",
           "Business",
           "Vice President",
           {
            "city": "Toronto",
            "country": "CAN",
            "tz": "EST"
           },
           3,
           "Toronto",
           "EST",
           "CAN"
          ],
          [
           "Adam Jackson",
           10,
           true,
           "person",
           "Adam Jackson",
           "2021-01-02",
           "Part Time",
           [],
           "Lauren Berry",
           "Business",
           "Director",
           {
            "city": "Toronto",
            "country": "CAN",
            "tz": "EST"
           },
           4,
           "Toronto",
           "EST",
           "CAN"
          ],
          [
           "Hannah Young",
           10,
           true,
           "person",
           "Hannah Young",
           "2022-10-12",
           "Full Time",
           [
            "Java",
            "Python",
            "Typescript",
            "JavaScript",
            "Scala"
           ],
           "Dustin Cantrell",
           "Internal Tools",
           "Engineer",
           {
            "city": "Toronto",
            "country": "CAN",
            "tz": "EST"
           },
           1,
           "Toronto",
           "EST",
           "CAN"
          ],
          [
           "Cynthia Brown",
           10,
           true,
           "person",
           "Cynthia Brown",
           "2023-03-11",
           "Full Time",
           [
            "JavaScript"
           ],
           "Dustin Cantrell",
           "Internal Tools",
           "Senior Engineer",
           {
            "city": "Toronto",
            "country": "CAN",
            "tz": "EST"
           },
           2,
           "Toronto",
           "EST",
           "CAN"
          ],
          [
           "Vicki Lambert",
           10,
           true,
           "person",
           "Vicki Lambert",
           "2021-11-25",
           "Full Time",
           [
            "JavaScript",
            "Go",
            "Scala"
           ],
           "Dustin Cantrell",
           "Internal Tools",
           "Senior Engineer",
           {
            "city": "Toronto",
            "country": "CAN",
            "tz": "EST"
           },
           2,
           "Toronto",
           "EST",
           "CAN"
          ],
          [
           "Carrie Cunningham",
           10,
           true,
           "person",
           "Carrie Cunningham",
           "2020-10-11",
           "Full Time",
           [
            "JavaScript"
           ],
           "Dustin Cantrell",
           "Internal Tools",
           "Manager",
           {
            "city": "Toronto",
            "country": "CAN",
            "tz": "EST"
           },
           3,
           "Toronto",
           "EST",
           "CAN"
          ],
          [
           "Dr. Melissa Hernandez",
           10,
           true,
           "person",
           "Dr. Melissa Hernandez",
           "2020-06-28",
           "Contract",
           [
            "JavaScript"
           ],
           "Jordan Harper",
           "Internal Tools",
           "VP",
           {
            "city": "Toronto",
            "country": "CAN",
            "tz": "EST"
           },
           5,
           "Toronto",
           "EST",
           "CAN"
          ],
          [
           "Sonya Marshall",
           10,
           true,
           "person",
           "Sonya Marshall",
           "2021-08-04",
           "Contract",
           [
            "Python",
            "Erlang",
            "JavaScript"
           ],
           "Dr. Melissa Hernandez",
           "Internal Tools",
           "VP",
           {
            "city": "Toronto",
            "country": "CAN",
            "tz": "EST"
           },
           5,
           "Toronto",
           "EST",
           "CAN"
          ],
          [
           "Susan Beasley",
           10,
           true,
           "person",
           "Susan Beasley",
           "2020-07-03",
           "Full Time",
           [
            "Erlang",
            "Typescript",
            "JavaScript",
            "Go"
           ],
           "Eric Davis",
           "Platform",
           "Senior Engineer",
           {
            "city": "Toronto",
            "country": "CAN",
            "tz": "EST"
           },
           2,
           "Toronto",
           "EST",
           "CAN"
          ],
          [
           "Sarah Robertson",
           10,
           true,
           "person",
           "Sarah Robertson",
           "2021-07-26",
           "Full Time",
           [
            "Java"
           ],
           "Andrew Peterson",
           "Platform",
           "Senior Engineer",
           {
            "city": "Toronto",
            "country": "CAN",
            "tz": "EST"
           },
           2,
           "Toronto",
           "EST",
           "CAN"
          ],
          [
           "Belinda Davis",
           10,
           true,
           "person",
           "Belinda Davis",
           "2021-07-08",
           "Contract",
           [
            "Typescript",
            "JavaScript",
            "Scala",
            "Java"
           ],
           "Colleen Williamson",
           "Platform",
           "Managing Engineer",
           {
            "city": "Toronto",
            "country": "CAN",
            "tz": "EST"
           },
           3,
           "Toronto",
           "EST",
           "CAN"
          ],
          [
           "Mary Wright",
           10,
           true,
           "person",
           "Mary Wright",
           "2023-02-25",
           "Part Time",
           [
            "JavaScript"
           ],
           "Eric Davis",
           "Platform",
           "Managing Engineer",
           {
            "city": "Toronto",
            "country": "CAN",
            "tz": "EST"
           },
           3,
           "Toronto",
           "EST",
           "CAN"
          ],
          [
           "Mike Watkins",
           10,
           true,
           "person",
           "Mike Watkins",
           "2021-06-30",
           "Contract",
           [
            "Python",
            "Typescript",
            "Java"
           ],
           "Eric Davis",
           "Platform",
           "AVP",
           {
            "city": "Toronto",
            "country": "CAN",
            "tz": "EST"
           },
           4,
           "Toronto",
           "EST",
           "CAN"
          ],
          [
           "Matthew Robinson",
           10,
           true,
           "person",
           "Matthew Robinson",
           "2023-01-31",
           "Full Time",
           [
            "Python",
            "Typescript",
            "Java"
           ],
           "Eric Davis",
           "Platform",
           "AVP",
           {
            "city": "Toronto",
            "country": "CAN",
            "tz": "EST"
           },
           4,
           "Toronto",
           "EST",
           "CAN"
          ],
          [
           "Colleen Williamson",
           10,
           true,
           "person",
           "Colleen Williamson",
           "2021-08-09",
           "Full Time",
           [
            "Scala"
           ],
           "Jordan Harper",
           "Platform",
           "VP",
           {
            "city": "Toronto",
            "country": "CAN",
            "tz": "EST"
           },
           5,
           "Toronto",
           "EST",
           "CAN"
          ],
          [
           "Yvonne Delacruz",
           10,
           true,
           "person",
           "Yvonne Delacruz",
           "2021-05-12",
           "Full Time",
           [
            "JavaScript",
            "Java"
           ],
           "Michelle Marshall",
           "Product",
           "Engineer",
           {
            "city": "Toronto",
            "country": "CAN",
            "tz": "EST"
           },
           1,
           "Toronto",
           "EST",
           "CAN"
          ],
          [
           "Chelsea Navarro",
           10,
           true,
           "person",
           "Chelsea Navarro",
           "2020-09-01",
           "Contract",
           [
            "Python",
            "JavaScript",
            "Java"
           ],
           "Heidi Mullins",
           "Product",
           "Manager",
           {
            "city": "Toronto",
            "country": "CAN",
            "tz": "EST"
           },
           2,
           "Toronto",
           "EST",
           "CAN"
          ],
          [
           "Nicholas Hughes",
           10,
           true,
           "person",
           "Nicholas Hughes",
           "2022-04-15",
           "Full Time",
           [
            "JavaScript"
           ],
           "Michelle Marshall",
           "Product",
           "Product Owner",
           {
            "city": "Toronto",
            "country": "CAN",
            "tz": "EST"
           },
           3,
           "Toronto",
           "EST",
           "CAN"
          ],
          [
           "Jennifer Hamilton",
           10,
           true,
           "person",
           "Jennifer Hamilton",
           "2021-10-17",
           "Full Time",
           [
            "Python",
            "JavaScript",
            "Scala",
            "Java"
           ],
           "Michelle Marshall",
           "Product",
           "Product Owner",
           {
            "city": "Toronto",
            "country": "CAN",
            "tz": "EST"
           },
           3,
           "Toronto",
           "EST",
           "CAN"
          ],
          [
           "Elizabeth Friedman",
           10,
           true,
           "person",
           "Elizabeth Friedman",
           "2021-09-02",
           "Full Time",
           [
            "Python"
           ],
           "Michelle Marshall",
           "Product",
           "Product Owner",
           {
            "city": "Toronto",
            "country": "CAN",
            "tz": "EST"
           },
           3,
           "Toronto",
           "EST",
           "CAN"
          ],
          [
           "Michelle Marshall",
           10,
           true,
           "person",
           "Michelle Marshall",
           "2022-01-16",
           "Full Time",
           [
            "Typescript"
           ],
           "Jordan Harper",
           "Product",
           "VP",
           {
            "city": "Toronto",
            "country": "CAN",
            "tz": "EST"
           },
           5,
           "Toronto",
           "EST",
           "CAN"
          ],
          [
           "Timothy Schultz",
           10,
           true,
           "person",
           "Timothy Schultz",
           "2020-11-17",
           "Contract",
           [
            "Java"
           ],
           "Andrew Pruitt",
           "Sales",
           "Associate",
           {
            "city": "Toronto",
            "country": "CAN",
            "tz": "EST"
           },
           1,
           "Toronto",
           "EST",
           "CAN"
          ],
          [
           "Carl Adams",
           10,
           true,
           "person",
           "Carl Adams",
           "2023-04-02",
           "Contract",
           [
            "Scala"
           ],
           "Andrew Pruitt",
           "Sales",
           "Associate",
           {
            "city": "Toronto",
            "country": "CAN",
            "tz": "EST"
           },
           1,
           "Toronto",
           "EST",
           "CAN"
          ],
          [
           "Michael Adams",
           10,
           true,
           "person",
           "Michael Adams",
           "2022-04-08",
           "Contract",
           [],
           "Andrew Pruitt",
           "Sales",
           "Associate",
           {
            "city": "Toronto",
            "country": "CAN",
            "tz": "EST"
           },
           1,
           "Toronto",
           "EST",
           "CAN"
          ],
          [
           "Linda Cortez",
           10,
           true,
           "person",
           "Linda Cortez",
           "2020-07-04",
           "Full Time",
           [],
           "Andrew Pruitt",
           "Sales",
           "Associate",
           {
            "city": "Toronto",
            "country": "CAN",
            "tz": "EST"
           },
           1,
           "Toronto",
           "EST",
           "CAN"
          ]
         ],
         "hovertemplate": "<b>%{hovertext}</b><br><br>country=%{customdata[15]}<br>x=%{x}<br>y=%{y}<br>rank=%{customdata[12]}<br>label=%{customdata[0]}<br>size=%{customdata[1]}<br>person=%{customdata[2]}<br>type=%{customdata[3]}<br>name=%{customdata[4]}<br>hire_date=%{customdata[5]}<br>status=%{customdata[6]}<br>languages=%{customdata[7]}<br>manager=%{customdata[8]}<br>team=%{customdata[9]}<br>title=%{customdata[10]}<br>location=%{customdata[11]}<br>city=%{customdata[13]}<br>tz=%{customdata[14]}<extra></extra>",
         "hovertext": [
          "Lisa Hoover",
          "Mason Chase",
          "Adam Jackson",
          "Hannah Young",
          "Cynthia Brown",
          "Vicki Lambert",
          "Carrie Cunningham",
          "Dr. Melissa Hernandez",
          "Sonya Marshall",
          "Susan Beasley",
          "Sarah Robertson",
          "Belinda Davis",
          "Mary Wright",
          "Mike Watkins",
          "Matthew Robinson",
          "Colleen Williamson",
          "Yvonne Delacruz",
          "Chelsea Navarro",
          "Nicholas Hughes",
          "Jennifer Hamilton",
          "Elizabeth Friedman",
          "Michelle Marshall",
          "Timothy Schultz",
          "Carl Adams",
          "Michael Adams",
          "Linda Cortez"
         ],
         "legendgroup": "CAN",
         "marker": {
          "color": "#00cc96",
          "size": [
           2,
           3,
           4,
           1,
           2,
           2,
           3,
           5,
           5,
           2,
           2,
           3,
           3,
           4,
           4,
           5,
           1,
           2,
           3,
           3,
           3,
           5,
           1,
           1,
           1,
           1
          ],
          "sizemode": "area",
          "sizeref": 0.0175,
          "symbol": "circle"
         },
         "mode": "markers",
         "name": "CAN",
         "orientation": "v",
         "showlegend": true,
         "type": "scatter",
         "x": [
          0.9283779751834075,
          0.7137065031866221,
          0.6212236425329655,
          0.47407017807159163,
          0.46579069869940387,
          0.6063529462976708,
          0.6001965109124667,
          0.3353016595989065,
          0.5171093018121277,
          -0.4335175058240548,
          -0.28616812477400455,
          -0.1727540231224697,
          -0.4800447483790763,
          -0.3269429257036466,
          -0.37975587884127227,
          -0.1661863636516834,
          -0.5875598033385451,
          -0.5872656716783599,
          -0.6109142604929322,
          -0.6350723719436527,
          -0.657929067079904,
          -0.48920961177775074,
          0.10889021471259792,
          0.40171376455470564,
          0.1398755130829909,
          0.39595807876201683
         ],
         "xaxis": "x",
         "y": [
          -0.23494241511075187,
          -0.4853555933678276,
          -0.288377669913657,
          0.4446934412273397,
          0.3875700524300328,
          0.4855097192526738,
          0.3201860333734362,
          0.19067225490967318,
          0.17744714566876338,
          0.8482607189916154,
          0.6488133532048304,
          0.5138974629372998,
          0.8178997899795967,
          0.8948310637819791,
          0.8726689112598539,
          0.41993322793748317,
          -0.12240169965425458,
          -0.4856061361964533,
          -0.016284349746266552,
          -0.14823440798634388,
          -0.10560273950452363,
          -0.11326764578398872,
          0.7301006976600085,
          0.7373214436001505,
          0.8087345207563238,
          0.6873268128774023
         ],
         "yaxis": "y"
        },
        {
         "customdata": [
          [
           "Robert Dorsey",
           10,
           true,
           "person",
           "Robert Dorsey",
           "2020-06-19",
           "Full Time",
           [
            "Python",
            "Typescript",
            "JavaScript",
            "Java"
           ],
           "Cathy Johnson",
           "Business",
           "Analyst",
           {
            "city": "New York",
            "country": "USA",
            "tz": "EST"
           },
           1,
           "New York",
           "EST",
           "USA"
          ],
          [
           "Katelyn Cross",
           10,
           true,
           "person",
           "Katelyn Cross",
           "2022-10-29",
           "Full Time",
           [],
           "Lauren Berry",
           "Business",
           "Associate",
           {
            "city": "New York",
            "country": "USA",
            "tz": "EST"
           },
           2,
           "New York",
           "EST",
           "USA"
          ],
          [
           "Krista Brooks",
           10,
           true,
           "person",
           "Krista Brooks",
           "2022-01-23",
           "Full Time",
           [],
           "Cathy Johnson",
           "Business",
           "Associate",
           {
            "city": "New York",
            "country": "USA",
            "tz": "EST"
           },
           2,
           "New York",
           "EST",
           "USA"
          ],
          [
           "Theresa Parker",
           10,
           true,
           "person",
           "Theresa Parker",
           "2020-09-02",
           "Contract",
           [],
           "Cathy Johnson",
           "Business",
           "Associate",
           {
            "city": "New York",
            "country": "USA",
            "tz": "EST"
           },
           2,
           "New York",
           "EST",
           "USA"
          ],
          [
           "Meagan Dyer",
           10,
           true,
           "person",
           "Meagan Dyer",
           "2020-07-28",
           "Contract",
           [
            "JavaScript"
           ],
           "Austin Wang",
           "Business",
           "Vice President",
           {
            "city": "New York",
            "country": "USA",
            "tz": "EST"
           },
           3,
           "New York",
           "EST",
           "USA"
          ],
          [
           "Lauren Berry",
           10,
           true,
           "person",
           "Lauren Berry",
           "2023-01-16",
           "Full Time",
           [],
           "Jordan Harper",
           "Business",
           "Director",
           {
            "city": "New York",
            "country": "USA",
            "tz": "EST"
           },
           4,
           "New York",
           "EST",
           "USA"
          ],
          [
           "Cathy Johnson",
           10,
           true,
           "person",
           "Cathy Johnson",
           "2023-01-16",
           "Contract",
           [
            "Typescript"
           ],
           "Lauren Berry",
           "Business",
           "Director",
           {
            "city": "New York",
            "country": "USA",
            "tz": "EST"
           },
           4,
           "New York",
           "EST",
           "USA"
          ],
          [
           "Christopher Griffin",
           10,
           true,
           "person",
           "Christopher Griffin",
           "2022-07-26",
           "Contract",
           [
            "JavaScript",
            "Go",
            "Java"
           ],
           "Lauren Berry",
           "Business",
           "Director",
           {
            "city": "New York",
            "country": "USA",
            "tz": "EST"
           },
           4,
           "New York",
           "EST",
           "USA"
          ],
          [
           "Christopher Smith",
           10,
           true,
           "person",
           "Christopher Smith",
           "2021-01-29",
           "Full Time",
           [
            "JavaScript",
            "Java"
           ],
           "Lauren Berry",
           "Business",
           "Director",
           {
            "city": "New York",
            "country": "USA",
            "tz": "EST"
           },
           4,
           "New York",
           "EST",
           "USA"
          ],
          [
           "Julia Chen",
           10,
           true,
           "person",
           "Julia Chen",
           "2021-02-28",
           "Full Time",
           [],
           "Austin Wang",
           "Business",
           "Director",
           {
            "city": "New York",
            "country": "USA",
            "tz": "EST"
           },
           4,
           "New York",
           "EST",
           "USA"
          ],
          [
           "Jordan Owens",
           10,
           true,
           "person",
           "Jordan Owens",
           "2022-08-13",
           "Contract",
           [
            "JavaScript"
           ],
           "Jordan Harper",
           "Business",
           "Managing Director",
           {
            "city": "New York",
            "country": "USA",
            "tz": "EST"
           },
           5,
           "New York",
           "EST",
           "USA"
          ],
          [
           "Terry Morrison",
           10,
           true,
           "person",
           "Terry Morrison",
           "2022-05-09",
           "Full Time",
           [
            "Typescript"
           ],
           "Jordan Owens",
           "Business",
           "Managing Director",
           {
            "city": "New York",
            "country": "USA",
            "tz": "EST"
           },
           5,
           "New York",
           "EST",
           "USA"
          ],
          [
           "Austin Wang",
           10,
           true,
           "person",
           "Austin Wang",
           "2020-12-30",
           "Full Time",
           [],
           "Jordan Owens",
           "Business",
           "Managing Director",
           {
            "city": "New York",
            "country": "USA",
            "tz": "EST"
           },
           5,
           "New York",
           "EST",
           "USA"
          ],
          [
           "Nicholas Campbell",
           10,
           true,
           "person",
           "Nicholas Campbell",
           "2020-12-07",
           "Full Time",
           [
            "Python",
            "JavaScript"
           ],
           "Jose Williams",
           "DevX",
           "Engineer",
           {
            "city": "Fort Lauderdale",
            "country": "USA",
            "tz": "EST"
           },
           5,
           "Fort Lauderdale",
           "EST",
           "USA"
          ],
          [
           "David Sullivan",
           10,
           true,
           "person",
           "David Sullivan",
           "2020-06-23",
           "Full Time",
           [
            "Go"
           ],
           "Christopher Taylor",
           "DevX",
           "Engineer",
           {
            "city": "Fort Lauderdale",
            "country": "USA",
            "tz": "EST"
           },
           5,
           "Fort Lauderdale",
           "EST",
           "USA"
          ],
          [
           "Derek White",
           10,
           true,
           "person",
           "Derek White",
           "2021-03-06",
           "Contract",
           [],
           "Christopher Taylor",
           "DevX",
           "Engineer",
           {
            "city": "Fort Lauderdale",
            "country": "USA",
            "tz": "EST"
           },
           5,
           "Fort Lauderdale",
           "EST",
           "USA"
          ],
          [
           "Mark Munoz",
           10,
           true,
           "person",
           "Mark Munoz",
           "2022-12-06",
           "Part Time",
           [
            "Java"
           ],
           "Christopher Taylor",
           "DevX",
           "Engineer",
           {
            "city": "Fort Lauderdale",
            "country": "USA",
            "tz": "EST"
           },
           5,
           "Fort Lauderdale",
           "EST",
           "USA"
          ],
          [
           "Kenneth Bryant",
           10,
           true,
           "person",
           "Kenneth Bryant",
           "2020-10-30",
           "Full Time",
           [
            "Python",
            "Typescript"
           ],
           "Christopher Taylor",
           "DevX",
           "Engineer",
           {
            "city": "Fort Lauderdale",
            "country": "USA",
            "tz": "EST"
           },
           5,
           "Fort Lauderdale",
           "EST",
           "USA"
          ],
          [
           "Jessica Edwards",
           10,
           true,
           "person",
           "Jessica Edwards",
           "2021-11-25",
           "Contract",
           [
            "Python",
            "JavaScript"
           ],
           "Christopher Taylor",
           "DevX",
           "Engineer",
           {
            "city": "Fort Lauderdale",
            "country": "USA",
            "tz": "EST"
           },
           5,
           "Fort Lauderdale",
           "EST",
           "USA"
          ],
          [
           "Kelly Huff",
           10,
           true,
           "person",
           "Kelly Huff",
           "2020-09-17",
           "Contract",
           [
            "Python",
            "Typescript",
            "JavaScript",
            "Java"
           ],
           "Christopher Taylor",
           "DevX",
           "Engineer",
           {
            "city": "Fort Lauderdale",
            "country": "USA",
            "tz": "EST"
           },
           5,
           "Fort Lauderdale",
           "EST",
           "USA"
          ],
          [
           "James Elliott",
           10,
           true,
           "person",
           "James Elliott",
           "2021-07-31",
           "Full Time",
           [
            "Python",
            "Go"
           ],
           "Kaitlin Little",
           "DevX",
           "Engineer",
           {
            "city": "Fort Lauderdale",
            "country": "USA",
            "tz": "EST"
           },
           5,
           "Fort Lauderdale",
           "EST",
           "USA"
          ],
          [
           "Marissa Martinez",
           10,
           true,
           "person",
           "Marissa Martinez",
           "2022-06-07",
           "Contract",
           [
            "Python",
            "Typescript",
            "JavaScript",
            "Go"
           ],
           "Kaitlin Little",
           "DevX",
           "Engineer",
           {
            "city": "Fort Lauderdale",
            "country": "USA",
            "tz": "EST"
           },
           5,
           "Fort Lauderdale",
           "EST",
           "USA"
          ],
          [
           "James Moore",
           10,
           true,
           "person",
           "James Moore",
           "2020-08-20",
           "Full Time",
           [
            "Python",
            "Typescript"
           ],
           "Kaitlin Little",
           "DevX",
           "Engineer",
           {
            "city": "Fort Lauderdale",
            "country": "USA",
            "tz": "EST"
           },
           5,
           "Fort Lauderdale",
           "EST",
           "USA"
          ],
          [
           "Marissa Johnson",
           10,
           true,
           "person",
           "Marissa Johnson",
           "2021-05-16",
           "Full Time",
           [
            "Python"
           ],
           "Kaitlin Little",
           "DevX",
           "Engineer",
           {
            "city": "Fort Lauderdale",
            "country": "USA",
            "tz": "EST"
           },
           5,
           "Fort Lauderdale",
           "EST",
           "USA"
          ],
          [
           "Bonnie Nash",
           10,
           true,
           "person",
           "Bonnie Nash",
           "2021-06-22",
           "Full Time",
           [
            "Typescript",
            "JavaScript",
            "Scala"
           ],
           "Kaitlin Little",
           "DevX",
           "Engineer",
           {
            "city": "Fort Lauderdale",
            "country": "USA",
            "tz": "EST"
           },
           5,
           "Fort Lauderdale",
           "EST",
           "USA"
          ],
          [
           "Cody Holland",
           10,
           true,
           "person",
           "Cody Holland",
           "2021-01-29",
           "Full Time",
           [
            "Scala"
           ],
           "Kaitlin Little",
           "DevX",
           "Engineer",
           {
            "city": "Fort Lauderdale",
            "country": "USA",
            "tz": "EST"
           },
           5,
           "Fort Lauderdale",
           "EST",
           "USA"
          ],
          [
           "Mark Crawford",
           10,
           true,
           "person",
           "Mark Crawford",
           "2020-11-01",
           "Contract",
           [
            "Typescript",
            "JavaScript"
           ],
           "Kaitlin Little",
           "DevX",
           "Engineer",
           {
            "city": "Fort Lauderdale",
            "country": "USA",
            "tz": "EST"
           },
           5,
           "Fort Lauderdale",
           "EST",
           "USA"
          ],
          [
           "Carolyn Roth",
           10,
           true,
           "person",
           "Carolyn Roth",
           "2020-12-29",
           "Contract",
           [
            "JavaScript"
           ],
           "Kaitlin Little",
           "DevX",
           "Engineer",
           {
            "city": "Fort Lauderdale",
            "country": "USA",
            "tz": "EST"
           },
           5,
           "Fort Lauderdale",
           "EST",
           "USA"
          ],
          [
           "Jake Barber",
           10,
           true,
           "person",
           "Jake Barber",
           "2021-08-29",
           "Full Time",
           [
            "Python"
           ],
           "Todd Peterson",
           "DevX",
           "Engineer",
           {
            "city": "Fort Lauderdale",
            "country": "USA",
            "tz": "EST"
           },
           5,
           "Fort Lauderdale",
           "EST",
           "USA"
          ],
          [
           "Samantha Jordan",
           10,
           true,
           "person",
           "Samantha Jordan",
           "2021-03-13",
           "Full Time",
           [],
           "Todd Peterson",
           "DevX",
           "Engineer",
           {
            "city": "Fort Lauderdale",
            "country": "USA",
            "tz": "EST"
           },
           5,
           "Fort Lauderdale",
           "EST",
           "USA"
          ],
          [
           "Christina Graves",
           10,
           true,
           "person",
           "Christina Graves",
           "2023-02-05",
           "Full Time",
           [
            "Typescript",
            "JavaScript",
            "Scala",
            "Java"
           ],
           "Todd Peterson",
           "DevX",
           "Engineer",
           {
            "city": "Fort Lauderdale",
            "country": "USA",
            "tz": "EST"
           },
           5,
           "Fort Lauderdale",
           "EST",
           "USA"
          ],
          [
           "Sarah Little",
           10,
           true,
           "person",
           "Sarah Little",
           "2022-05-22",
           "Full Time",
           [
            "Go"
           ],
           "Todd Peterson",
           "DevX",
           "Engineer",
           {
            "city": "Fort Lauderdale",
            "country": "USA",
            "tz": "EST"
           },
           5,
           "Fort Lauderdale",
           "EST",
           "USA"
          ],
          [
           "Lisa Robbins",
           10,
           true,
           "person",
           "Lisa Robbins",
           "2022-06-01",
           "Full Time",
           [
            "Erlang"
           ],
           "Todd Peterson",
           "DevX",
           "Engineer",
           {
            "city": "Fort Lauderdale",
            "country": "USA",
            "tz": "EST"
           },
           5,
           "Fort Lauderdale",
           "EST",
           "USA"
          ],
          [
           "Mary Gonzalez",
           10,
           true,
           "person",
           "Mary Gonzalez",
           "2022-09-30",
           "Full Time",
           [
            "Python",
            "Java"
           ],
           "Todd Peterson",
           "DevX",
           "Engineer",
           {
            "city": "Fort Lauderdale",
            "country": "USA",
            "tz": "EST"
           },
           5,
           "Fort Lauderdale",
           "EST",
           "USA"
          ],
          [
           "Vickie Barrett",
           10,
           true,
           "person",
           "Vickie Barrett",
           "2021-11-22",
           "Full Time",
           [
            "Typescript"
           ],
           "Todd Peterson",
           "DevX",
           "Engineer",
           {
            "city": "Fort Lauderdale",
            "country": "USA",
            "tz": "EST"
           },
           5,
           "Fort Lauderdale",
           "EST",
           "USA"
          ],
          [
           "Jose Williams",
           10,
           true,
           "person",
           "Jose Williams",
           "2023-02-14",
           "Full Time",
           [
            "Python"
           ],
           "Jordan Harper",
           "DevX",
           "AVP",
           {
            "city": "Fort Lauderdale",
            "country": "USA",
            "tz": "EST"
           },
           6,
           "Fort Lauderdale",
           "EST",
           "USA"
          ],
          [
           "Christopher Taylor",
           10,
           true,
           "person",
           "Christopher Taylor",
           "2022-11-11",
           "Full Time",
           [
            "Python"
           ],
           "Jose Williams",
           "DevX",
           "AVP",
           {
            "city": "Fort Lauderdale",
            "country": "USA",
            "tz": "EST"
           },
           6,
           "Fort Lauderdale",
           "EST",
           "USA"
          ],
          [
           "Kaitlin Little",
           10,
           true,
           "person",
           "Kaitlin Little",
           "2022-07-23",
           "Full Time",
           [
            "JavaScript"
           ],
           "Jose Williams",
           "DevX",
           "AVP",
           {
            "city": "Fort Lauderdale",
            "country": "USA",
            "tz": "EST"
           },
           6,
           "Fort Lauderdale",
           "EST",
           "USA"
          ],
          [
           "Todd Peterson",
           10,
           true,
           "person",
           "Todd Peterson",
           "2021-01-19",
           "Contract",
           [],
           "Jose Williams",
           "DevX",
           "AVP",
           {
            "city": "Fort Lauderdale",
            "country": "USA",
            "tz": "EST"
           },
           6,
           "Fort Lauderdale",
           "EST",
           "USA"
          ],
          [
           "Sandra Buckley",
           10,
           true,
           "person",
           "Sandra Buckley",
           "2022-08-01",
           "Full Time",
           [
            "JavaScript",
            "Java"
           ],
           "Dustin Cantrell",
           "Internal Tools",
           "Engineer",
           {
            "city": "Seattle",
            "country": "USA",
            "tz": "PST"
           },
           1,
           "Seattle",
           "PST",
           "USA"
          ],
          [
           "Gregory Colon",
           10,
           true,
           "person",
           "Gregory Colon",
           "2020-08-18",
           "Full Time",
           [
            "Scala"
           ],
           "Sonya Marshall",
           "Internal Tools",
           "Engineer",
           {
            "city": "Seattle",
            "country": "USA",
            "tz": "PST"
           },
           1,
           "Seattle",
           "PST",
           "USA"
          ],
          [
           "Eric Clark",
           10,
           true,
           "person",
           "Eric Clark",
           "2021-06-16",
           "Full Time",
           [
            "Python",
            "JavaScript"
           ],
           "Dustin Cantrell",
           "Internal Tools",
           "Senior Engineer",
           {
            "city": "Seattle",
            "country": "USA",
            "tz": "PST"
           },
           2,
           "Seattle",
           "PST",
           "USA"
          ],
          [
           "Brent Harris",
           10,
           true,
           "person",
           "Brent Harris",
           "2022-04-30",
           "Contract",
           [
            "Scala"
           ],
           "Dustin Cantrell",
           "Internal Tools",
           "Senior Engineer",
           {
            "city": "Seattle",
            "country": "USA",
            "tz": "PST"
           },
           2,
           "Seattle",
           "PST",
           "USA"
          ],
          [
           "Kristen Cohen",
           10,
           true,
           "person",
           "Kristen Cohen",
           "2020-12-28",
           "Contract",
           [
            "Typescript"
           ],
           "Dustin Cantrell",
           "Internal Tools",
           "Senior Engineer",
           {
            "city": "Seattle",
            "country": "USA",
            "tz": "PST"
           },
           2,
           "Seattle",
           "PST",
           "USA"
          ],
          [
           "Bruce Torres",
           10,
           true,
           "person",
           "Bruce Torres",
           "2022-08-23",
           "Full Time",
           [
            "JavaScript"
           ],
           "Dustin Cantrell",
           "Internal Tools",
           "Manager",
           {
            "city": "Seattle",
            "country": "USA",
            "tz": "PST"
           },
           3,
           "Seattle",
           "PST",
           "USA"
          ],
          [
           "Brittney Watkins",
           10,
           true,
           "person",
           "Brittney Watkins",
           "2022-08-06",
           "Full Time",
           [
            "Erlang",
            "JavaScript"
           ],
           "Dustin Cantrell",
           "Internal Tools",
           "AVP",
           {
            "city": "Seattle",
            "country": "USA",
            "tz": "PST"
           },
           4,
           "Seattle",
           "PST",
           "USA"
          ],
          [
           "Dustin Cantrell",
           10,
           true,
           "person",
           "Dustin Cantrell",
           "2020-05-04",
           "Full Time",
           [],
           "Dr. Melissa Hernandez",
           "Internal Tools",
           "VP",
           {
            "city": "Seattle",
            "country": "USA",
            "tz": "PST"
           },
           5,
           "Seattle",
           "PST",
           "USA"
          ],
          [
           "Ashley Fleming",
           10,
           true,
           "person",
           "Ashley Fleming",
           "2023-03-07",
           "Full Time",
           [
            "Go"
           ],
           "Dr. Melissa Hernandez",
           "Internal Tools",
           "VP",
           {
            "city": "Seattle",
            "country": "USA",
            "tz": "PST"
           },
           5,
           "Seattle",
           "PST",
           "USA"
          ],
          [
           "Debbie Sweeney",
           10,
           true,
           "person",
           "Debbie Sweeney",
           "2020-11-18",
           "Full Time",
           [
            "Python",
            "Typescript",
            "Go",
            "Java"
           ],
           "Eric Davis",
           "Platform",
           "Engineer",
           {
            "city": "Seattle",
            "country": "USA",
            "tz": "PST"
           },
           1,
           "Seattle",
           "PST",
           "USA"
          ],
          [
           "Robert Rodriguez",
           10,
           true,
           "person",
           "Robert Rodriguez",
           "2022-01-19",
           "Full Time",
           [],
           "Eric Davis",
           "Platform",
           "Managing Engineer",
           {
            "city": "Seattle",
            "country": "USA",
            "tz": "PST"
           },
           3,
           "Seattle",
           "PST",
           "USA"
          ],
          [
           "Brandon Martinez",
           10,
           true,
           "person",
           "Brandon Martinez",
           "2020-09-06",
           "Full Time",
           [
            "JavaScript"
           ],
           "Eric Davis",
           "Platform",
           "AVP",
           {
            "city": "Seattle",
            "country": "USA",
            "tz": "PST"
           },
           4,
           "Seattle",
           "PST",
           "USA"
          ],
          [
           "Eric Davis",
           10,
           true,
           "person",
           "Eric Davis",
           "2021-03-03",
           "Full Time",
           [
            "Java"
           ],
           "Colleen Williamson",
           "Platform",
           "VP",
           {
            "city": "Seattle",
            "country": "USA",
            "tz": "PST"
           },
           5,
           "Seattle",
           "PST",
           "USA"
          ],
          [
           "Andrew Peterson",
           10,
           true,
           "person",
           "Andrew Peterson",
           "2021-03-16",
           "Full Time",
           [
            "Go",
            "Java"
           ],
           "Colleen Williamson",
           "Platform",
           "VP",
           {
            "city": "Seattle",
            "country": "USA",
            "tz": "PST"
           },
           5,
           "Seattle",
           "PST",
           "USA"
          ],
          [
           "Rebecca Perry",
           10,
           true,
           "person",
           "Rebecca Perry",
           "2022-10-20",
           "Full Time",
           [
            "Typescript",
            "Go"
           ],
           "Michelle Marshall",
           "Product",
           "Engineer",
           {
            "city": "Seattle",
            "country": "USA",
            "tz": "PST"
           },
           1,
           "Seattle",
           "PST",
           "USA"
          ],
          [
           "Katie Huff",
           10,
           true,
           "person",
           "Katie Huff",
           "2020-05-03",
           "Full Time",
           [
            "Python",
            "Java"
           ],
           "Heidi Mullins",
           "Product",
           "Engineer",
           {
            "city": "Seattle",
            "country": "USA",
            "tz": "PST"
           },
           1,
           "Seattle",
           "PST",
           "USA"
          ],
          [
           "Raymond Hess",
           10,
           true,
           "person",
           "Raymond Hess",
           "2021-06-27",
           "Part Time",
           [
            "Python",
            "Typescript",
            "Go",
            "Java"
           ],
           "Jordan Harper",
           "Product",
           "Manager",
           {
            "city": "New York",
            "country": "USA",
            "tz": "EST"
           },
           2,
           "New York",
           "EST",
           "USA"
          ],
          [
           "Antonio Flynn",
           10,
           true,
           "person",
           "Antonio Flynn",
           "2022-04-04",
           "Full Time",
           [
            "Python",
            "JavaScript",
            "Java"
           ],
           "Michelle Marshall",
           "Product",
           "Manager",
           {
            "city": "New York",
            "country": "USA",
            "tz": "EST"
           },
           2,
           "New York",
           "EST",
           "USA"
          ],
          [
           "Jessica Cruz",
           10,
           true,
           "person",
           "Jessica Cruz",
           "2021-07-15",
           "Contract",
           [
            "Erlang",
            "Java"
           ],
           "Michelle Marshall",
           "Product",
           "Manager",
           {
            "city": "New York",
            "country": "USA",
            "tz": "EST"
           },
           2,
           "New York",
           "EST",
           "USA"
          ],
          [
           "Michael Hansen",
           10,
           true,
           "person",
           "Michael Hansen",
           "2021-01-29",
           "Contract",
           [],
           "Michelle Marshall",
           "Product",
           "Manager",
           {
            "city": "New York",
            "country": "USA",
            "tz": "EST"
           },
           2,
           "New York",
           "EST",
           "USA"
          ],
          [
           "Holly Flores",
           10,
           true,
           "person",
           "Holly Flores",
           "2020-11-18",
           "Full Time",
           [
            "Python",
            "Typescript",
            "Java"
           ],
           "Heidi Mullins",
           "Product",
           "Manager",
           {
            "city": "New York",
            "country": "USA",
            "tz": "EST"
           },
           2,
           "New York",
           "EST",
           "USA"
          ],
          [
           "Melissa Webb",
           10,
           true,
           "person",
           "Melissa Webb",
           "2020-05-12",
           "Full Time",
           [],
           "Tyler Figueroa",
           "Product",
           "Manager",
           {
            "city": "Seattle",
            "country": "USA",
            "tz": "PST"
           },
           2,
           "Seattle",
           "PST",
           "USA"
          ],
          [
           "James Vasquez",
           10,
           true,
           "person",
           "James Vasquez",
           "2020-09-20",
           "Full Time",
           [],
           "Michelle Marshall",
           "Product",
           "Product Owner",
           {
            "city": "Seattle",
            "country": "USA",
            "tz": "PST"
           },
           3,
           "Seattle",
           "PST",
           "USA"
          ],
          [
           "Jessica Lewis",
           10,
           true,
           "person",
           "Jessica Lewis",
           "2020-05-15",
           "Part Time",
           [
            "Python",
            "Go",
            "Java"
           ],
           "Michelle Marshall",
           "Product",
           "Product Owner",
           {
            "city": "Seattle",
            "country": "USA",
            "tz": "PST"
           },
           3,
           "Seattle",
           "PST",
           "USA"
          ],
          [
           "Michelle Johnson",
           10,
           true,
           "person",
           "Michelle Johnson",
           "2022-03-16",
           "Full Time",
           [
            "JavaScript"
           ],
           "Michelle Marshall",
           "Product",
           "Product Owner",
           {
            "city": "New York",
            "country": "USA",
            "tz": "EST"
           },
           3,
           "New York",
           "EST",
           "USA"
          ],
          [
           "Lucas Burns",
           10,
           true,
           "person",
           "Lucas Burns",
           "2023-03-06",
           "Contract",
           [
            "Python",
            "Typescript",
            "JavaScript"
           ],
           "Heidi Mullins",
           "Product",
           "Product Owner",
           {
            "city": "New York",
            "country": "USA",
            "tz": "EST"
           },
           3,
           "New York",
           "EST",
           "USA"
          ],
          [
           "Robert Houston",
           10,
           true,
           "person",
           "Robert Houston",
           "2021-09-30",
           "Full Time",
           [
            "Python",
            "Typescript"
           ],
           "Michelle Marshall",
           "Product",
           "AVP",
           {
            "city": "Seattle",
            "country": "USA",
            "tz": "PST"
           },
           4,
           "Seattle",
           "PST",
           "USA"
          ],
          [
           "Elizabeth Ross",
           10,
           true,
           "person",
           "Elizabeth Ross",
           "2022-05-01",
           "Full Time",
           [
            "JavaScript"
           ],
           "Michelle Marshall",
           "Product",
           "AVP",
           {
            "city": "New York",
            "country": "USA",
            "tz": "EST"
           },
           4,
           "New York",
           "EST",
           "USA"
          ],
          [
           "Miss Sarah Bradshaw",
           10,
           true,
           "person",
           "Miss Sarah Bradshaw",
           "2021-07-14",
           "Full Time",
           [
            "JavaScript",
            "Java"
           ],
           "Michelle Marshall",
           "Product",
           "AVP",
           {
            "city": "New York",
            "country": "USA",
            "tz": "EST"
           },
           4,
           "New York",
           "EST",
           "USA"
          ],
          [
           "Sara Hill",
           10,
           true,
           "person",
           "Sara Hill",
           "2022-12-10",
           "Full Time",
           [
            "Python",
            "Go",
            "Scala",
            "Java"
           ],
           "Heidi Mullins",
           "Product",
           "AVP",
           {
            "city": "New York",
            "country": "USA",
            "tz": "EST"
           },
           4,
           "New York",
           "EST",
           "USA"
          ],
          [
           "Heidi Mullins",
           10,
           true,
           "person",
           "Heidi Mullins",
           "2020-10-21",
           "Full Time",
           [
            "Typescript",
            "JavaScript",
            "Java"
           ],
           "Michelle Marshall",
           "Product",
           "VP",
           {
            "city": "Seattle",
            "country": "USA",
            "tz": "PST"
           },
           5,
           "Seattle",
           "PST",
           "USA"
          ],
          [
           "Tyler Figueroa",
           10,
           true,
           "person",
           "Tyler Figueroa",
           "2021-12-12",
           "Contract",
           [],
           "Michelle Marshall",
           "Product",
           "VP",
           {
            "city": "Seattle",
            "country": "USA",
            "tz": "PST"
           },
           5,
           "Seattle",
           "PST",
           "USA"
          ],
          [
           "Samantha Williams",
           10,
           true,
           "person",
           "Samantha Williams",
           "2020-06-17",
           "Full Time",
           [
            "JavaScript",
            "Java"
           ],
           "Andrew Pruitt",
           "Sales",
           "Associate",
           {
            "city": "New York",
            "country": "USA",
            "tz": "EST"
           },
           1,
           "New York",
           "EST",
           "USA"
          ],
          [
           "James Adams",
           10,
           true,
           "person",
           "James Adams",
           "2021-10-01",
           "Full Time",
           [
            "Java"
           ],
           "Andrew Pruitt",
           "Sales",
           "Associate",
           {
            "city": "New York",
            "country": "USA",
            "tz": "EST"
           },
           1,
           "New York",
           "EST",
           "USA"
          ],
          [
           "Mr. David Walters",
           10,
           true,
           "person",
           "Mr. David Walters",
           "2023-01-01",
           "Full Time",
           [],
           "Andrew Pruitt",
           "Sales",
           "Associate",
           {
            "city": "New York",
            "country": "USA",
            "tz": "EST"
           },
           1,
           "New York",
           "EST",
           "USA"
          ],
          [
           "Kenneth Mcguire",
           10,
           true,
           "person",
           "Kenneth Mcguire",
           "2020-06-23",
           "Full Time",
           [
            "Python",
            "Scala"
           ],
           "Andrew Pruitt",
           "Sales",
           "Associate",
           {
            "city": "New York",
            "country": "USA",
            "tz": "EST"
           },
           1,
           "New York",
           "EST",
           "USA"
          ],
          [
           "Mario Meyers",
           10,
           true,
           "person",
           "Mario Meyers",
           "2020-08-09",
           "Full Time",
           [],
           "Andrew Pruitt",
           "Sales",
           "Associate",
           {
            "city": "New York",
            "country": "USA",
            "tz": "EST"
           },
           1,
           "New York",
           "EST",
           "USA"
          ],
          [
           "Jordan Harper",
           10,
           true,
           "person",
           "Jordan Harper",
           "2022-07-20",
           "Full Time",
           [
            "Scala",
            "Java"
           ],
           "Jordan Harper",
           "CEO",
           "CEO",
           {
            "city": "Fort Lauderdale",
            "country": "USA",
            "tz": "EST"
           },
           7,
           "Fort Lauderdale",
           "EST",
           "USA"
          ]
         ],
         "hovertemplate": "<b>%{hovertext}</b><br><br>country=%{customdata[15]}<br>x=%{x}<br>y=%{y}<br>rank=%{customdata[12]}<br>label=%{customdata[0]}<br>size=%{customdata[1]}<br>person=%{customdata[2]}<br>type=%{customdata[3]}<br>name=%{customdata[4]}<br>hire_date=%{customdata[5]}<br>status=%{customdata[6]}<br>languages=%{customdata[7]}<br>manager=%{customdata[8]}<br>team=%{customdata[9]}<br>title=%{customdata[10]}<br>location=%{customdata[11]}<br>city=%{customdata[13]}<br>tz=%{customdata[14]}<extra></extra>",
         "hovertext": [
          "Robert Dorsey",
          "Katelyn Cross",
          "Krista Brooks",
          "Theresa Parker",
          "Meagan Dyer",
          "Lauren Berry",
          "Cathy Johnson",
          "Christopher Griffin",
          "Christopher Smith",
          "Julia Chen",
          "Jordan Owens",
          "Terry Morrison",
          "Austin Wang",
          "Nicholas Campbell",
          "David Sullivan",
          "Derek White",
          "Mark Munoz",
          "Kenneth Bryant",
          "Jessica Edwards",
          "Kelly Huff",
          "James Elliott",
          "Marissa Martinez",
          "James Moore",
          "Marissa Johnson",
          "Bonnie Nash",
          "Cody Holland",
          "Mark Crawford",
          "Carolyn Roth",
          "Jake Barber",
          "Samantha Jordan",
          "Christina Graves",
          "Sarah Little",
          "Lisa Robbins",
          "Mary Gonzalez",
          "Vickie Barrett",
          "Jose Williams",
          "Christopher Taylor",
          "Kaitlin Little",
          "Todd Peterson",
          "Sandra Buckley",
          "Gregory Colon",
          "Eric Clark",
          "Brent Harris",
          "Kristen Cohen",
          "Bruce Torres",
          "Brittney Watkins",
          "Dustin Cantrell",
          "Ashley Fleming",
          "Debbie Sweeney",
          "Robert Rodriguez",
          "Brandon Martinez",
          "Eric Davis",
          "Andrew Peterson",
          "Rebecca Perry",
          "Katie Huff",
          "Raymond Hess",
          "Antonio Flynn",
          "Jessica Cruz",
          "Michael Hansen",
          "Holly Flores",
          "Melissa Webb",
          "James Vasquez",
          "Jessica Lewis",
          "Michelle Johnson",
          "Lucas Burns",
          "Robert Houston",
          "Elizabeth Ross",
          "Miss Sarah Bradshaw",
          "Sara Hill",
          "Heidi Mullins",
          "Tyler Figueroa",
          "Samantha Williams",
          "James Adams",
          "Mr. David Walters",
          "Kenneth Mcguire",
          "Mario Meyers",
          "Jordan Harper"
         ],
         "legendgroup": "USA",
         "marker": {
          "color": "#EF553B",
          "size": [
           1,
           2,
           2,
           2,
           3,
           4,
           4,
           4,
           4,
           4,
           5,
           5,
           5,
           5,
           5,
           5,
           5,
           5,
           5,
           5,
           5,
           5,
           5,
           5,
           5,
           5,
           5,
           5,
           5,
           5,
           5,
           5,
           5,
           5,
           5,
           6,
           6,
           6,
           6,
           1,
           1,
           2,
           2,
           2,
           3,
           4,
           5,
           5,
           1,
           3,
           4,
           5,
           5,
           1,
           1,
           2,
           2,
           2,
           2,
           2,
           2,
           3,
           3,
           3,
           3,
           4,
           4,
           4,
           4,
           5,
           5,
           1,
           1,
           1,
           1,
           1,
           7
          ],
          "sizemode": "area",
          "sizeref": 0.0175,
          "symbol": "circle"
         },
         "mode": "markers",
         "name": "USA",
         "orientation": "v",
         "showlegend": true,
         "type": "scatter",
         "x": [
          0.9033896569981527,
          0.6236921225853221,
          0.8486590992807156,
          0.913815763937291,
          0.11099780867891172,
          0.5171007537369532,
          0.7657049067280375,
          0.6435721634619396,
          0.6390458283087947,
          0.060889504407550046,
          -0.00034228055072478173,
          -0.0785382308113446,
          0.046695191171902406,
          -0.2478492384540272,
          0.11946639461879711,
          0.15419155435411436,
          0.14819776633423445,
          0.1163818194794995,
          0.06570029453296161,
          0.09542507964247826,
          -0.6951110839192957,
          -0.6339796000752751,
          -0.5907667947264291,
          -0.6306232876956268,
          -0.6674734964547877,
          -0.6817335992590261,
          -0.5657176857102177,
          -0.69200658988589,
          -0.3330637139748596,
          -0.1747502959090054,
          -0.20010273226508554,
          -0.3176562260751893,
          -0.26633889637290087,
          -0.2742550801139485,
          -0.22636183870805712,
          -0.19614276739897182,
          0.03745676818706103,
          -0.5382783304697094,
          -0.24145094546780752,
          0.6616401323324914,
          0.659720638215432,
          0.53281283204236,
          0.5216925708992931,
          0.7112881569805121,
          0.7039637615900437,
          0.6508274174425112,
          0.5582654821611321,
          0.4219819286894175,
          -0.46922182202584645,
          -0.42493960604964515,
          -0.37564785367465064,
          -0.34660973966456826,
          -0.2346710446659668,
          -0.5318148355974316,
          -0.6256754174898457,
          0.05012246387482738,
          -0.5622106772188112,
          -0.4736771253817354,
          -0.6355524177332191,
          -0.7428993421957368,
          -0.8845638043246663,
          -0.5594099756402614,
          -0.49535639356141054,
          -0.5573491447570833,
          -0.642894814619572,
          -0.6520224970334982,
          -0.6160254806389855,
          -0.5922736656670693,
          -0.6748722236229763,
          -0.6049097164560514,
          -0.7247371407638229,
          0.36625332091117696,
          0.2880116867039557,
          0.13833258885192884,
          0.282117838314936,
          0.13545637570405467,
          0.02154341965310638
         ],
         "xaxis": "x",
         "y": [
          -0.5684273217515532,
          -0.20374603458509158,
          -0.6271583271720099,
          -0.5232759990880547,
          -0.7149169825780307,
          -0.21441698079761806,
          -0.48380654047963,
          -0.3658056365862044,
          -0.15137463435347218,
          -0.7246268543112655,
          -0.29696026636179046,
          -0.3841543953907544,
          -0.5668730494697307,
          -0.5701832341659763,
          -0.38044941390560205,
          -0.4393290741948384,
          -0.5109786793984069,
          -0.47041013862059944,
          -0.37653525601570603,
          -0.5767550444964081,
          -0.7887122932620027,
          -0.7861585946243984,
          -0.8291361607636577,
          -0.8572000060416809,
          -0.826678238938725,
          -0.7100176393097004,
          -0.863962271464483,
          -0.7493421107031196,
          -0.9344166547959555,
          -0.9816269278555052,
          -0.9469186410383512,
          -0.9771804686966674,
          -0.9486629341691273,
          -1,
          -0.999235319303167,
          -0.4591386471065106,
          -0.4591375442783916,
          -0.7124349328651302,
          -0.8382221022893459,
          0.47609782977484844,
          0.17072046531308277,
          0.476827348971223,
          0.339736810680224,
          0.3951821295300481,
          0.44708328699772126,
          0.3752668078528502,
          0.37880946531890375,
          0.1796278816135691,
          0.8703503819165739,
          0.9031982168784515,
          0.9217670239788418,
          0.7554165972935936,
          0.5518210818715206,
          -0.22891380306333986,
          -0.5154121335119806,
          0.11823141719894564,
          0.0034188902243851528,
          -0.202367885478415,
          -0.19003193833002502,
          -0.4310604745057232,
          -0.135494757283373,
          -0.05123559817591812,
          -0.02391055065857383,
          -0.17547784452556486,
          -0.46191738298433216,
          -0.04759093261137548,
          -0.07592806152028506,
          -0.21611617213214632,
          -0.49348130733109263,
          -0.3759080108557683,
          -0.1282390010085854,
          0.8085671423757078,
          0.8566447446352222,
          0.7669749190183459,
          0.7192028642594729,
          0.6650126001290529,
          0.03859667592781471
         ],
         "yaxis": "y"
        },
        {
         "customdata": [
          [
           "Jason James",
           10,
           true,
           "person",
           "Jason James",
           "2021-09-07",
           "Contract",
           [],
           "Lauren Berry",
           "Business",
           "Analyst",
           {
            "city": "London",
            "country": "GBR",
            "tz": "UTC"
           },
           1,
           "London",
           "UTC",
           "GBR"
          ],
          [
           "Andrea Williams",
           10,
           true,
           "person",
           "Andrea Williams",
           "2020-06-09",
           "Part Time",
           [
            "JavaScript",
            "Go"
           ],
           "Jordan Owens",
           "Business",
           "Analyst",
           {
            "city": "London",
            "country": "GBR",
            "tz": "UTC"
           },
           1,
           "London",
           "UTC",
           "GBR"
          ],
          [
           "Kevin Martin",
           10,
           true,
           "person",
           "Kevin Martin",
           "2022-09-26",
           "Full Time",
           [
            "Python",
            "JavaScript",
            "Java"
           ],
           "Jordan Owens",
           "Business",
           "Analyst",
           {
            "city": "London",
            "country": "GBR",
            "tz": "UTC"
           },
           1,
           "London",
           "UTC",
           "GBR"
          ],
          [
           "Sherry Thompson",
           10,
           true,
           "person",
           "Sherry Thompson",
           "2020-05-19",
           "Full Time",
           [],
           "Jordan Harper",
           "Business",
           "Associate",
           {
            "city": "London",
            "country": "GBR",
            "tz": "UTC"
           },
           2,
           "London",
           "UTC",
           "GBR"
          ],
          [
           "Rebekah Jackson",
           10,
           true,
           "person",
           "Rebekah Jackson",
           "2022-04-06",
           "Contract",
           [
            "Python"
           ],
           "Cathy Johnson",
           "Business",
           "Associate",
           {
            "city": "London",
            "country": "GBR",
            "tz": "UTC"
           },
           2,
           "London",
           "UTC",
           "GBR"
          ],
          [
           "Teresa David",
           10,
           true,
           "person",
           "Teresa David",
           "2023-03-16",
           "Contract",
           [],
           "Cathy Johnson",
           "Business",
           "Associate",
           {
            "city": "London",
            "country": "GBR",
            "tz": "UTC"
           },
           2,
           "London",
           "UTC",
           "GBR"
          ],
          [
           "Tara Douglas",
           10,
           true,
           "person",
           "Tara Douglas",
           "2022-02-03",
           "Full Time",
           [
            "Python",
            "Go",
            "Java"
           ],
           "Steven Edwards",
           "Business",
           "Associate",
           {
            "city": "London",
            "country": "GBR",
            "tz": "UTC"
           },
           2,
           "London",
           "UTC",
           "GBR"
          ],
          [
           "Steven Edwards",
           10,
           true,
           "person",
           "Steven Edwards",
           "2021-08-18",
           "Full Time",
           [
            "Python",
            "JavaScript"
           ],
           "Lauren Berry",
           "Business",
           "Director",
           {
            "city": "London",
            "country": "GBR",
            "tz": "UTC"
           },
           4,
           "London",
           "UTC",
           "GBR"
          ],
          [
           "Kevin Gonzalez",
           10,
           true,
           "person",
           "Kevin Gonzalez",
           "2021-03-03",
           "Contract",
           [],
           "Lauren Berry",
           "Business",
           "Director",
           {
            "city": "London",
            "country": "GBR",
            "tz": "UTC"
           },
           4,
           "London",
           "UTC",
           "GBR"
          ],
          [
           "Barbara Gomez",
           10,
           true,
           "person",
           "Barbara Gomez",
           "2022-07-17",
           "Full Time",
           [
            "Python",
            "JavaScript",
            "Scala"
           ],
           "Jordan Owens",
           "Business",
           "Director",
           {
            "city": "London",
            "country": "GBR",
            "tz": "UTC"
           },
           4,
           "London",
           "UTC",
           "GBR"
          ],
          [
           "Andrew Pruitt",
           10,
           true,
           "person",
           "Andrew Pruitt",
           "2021-08-07",
           "Full Time",
           [
            "JavaScript",
            "Elixir",
            "Scala"
           ],
           "Jordan Harper",
           "Sales",
           "Associate",
           {
            "city": "London",
            "country": "GBR",
            "tz": "UTC"
           },
           1,
           "London",
           "UTC",
           "GBR"
          ],
          [
           "Brandon Kaufman MD",
           10,
           true,
           "person",
           "Brandon Kaufman MD",
           "2021-02-10",
           "Full Time",
           [],
           "Andrew Pruitt",
           "Sales",
           "Associate",
           {
            "city": "London",
            "country": "GBR",
            "tz": "UTC"
           },
           1,
           "London",
           "UTC",
           "GBR"
          ],
          [
           "Theresa Bradshaw",
           10,
           true,
           "person",
           "Theresa Bradshaw",
           "2023-01-10",
           "Part Time",
           [
            "Python",
            "Typescript"
           ],
           "Andrew Pruitt",
           "Sales",
           "Associate",
           {
            "city": "London",
            "country": "GBR",
            "tz": "UTC"
           },
           1,
           "London",
           "UTC",
           "GBR"
          ],
          [
           "Justin Lewis",
           10,
           true,
           "person",
           "Justin Lewis",
           "2021-04-24",
           "Full Time",
           [],
           "Andrew Pruitt",
           "Sales",
           "Associate",
           {
            "city": "London",
            "country": "GBR",
            "tz": "UTC"
           },
           1,
           "London",
           "UTC",
           "GBR"
          ],
          [
           "William Diaz",
           10,
           true,
           "person",
           "William Diaz",
           "2022-08-31",
           "Full Time",
           [
            "Typescript",
            "Java"
           ],
           "Andrew Pruitt",
           "Sales",
           "Associate",
           {
            "city": "London",
            "country": "GBR",
            "tz": "UTC"
           },
           1,
           "London",
           "UTC",
           "GBR"
          ],
          [
           "Ashley Russell",
           10,
           true,
           "person",
           "Ashley Russell",
           "2020-05-21",
           "Full Time",
           [
            "Typescript",
            "Java"
           ],
           "Andrew Pruitt",
           "Sales",
           "Associate",
           {
            "city": "London",
            "country": "GBR",
            "tz": "UTC"
           },
           1,
           "London",
           "UTC",
           "GBR"
          ],
          [
           "Karen Smith",
           10,
           true,
           "person",
           "Karen Smith",
           "2022-01-29",
           "Full Time",
           [
            "JavaScript"
           ],
           "Andrew Pruitt",
           "Sales",
           "Associate",
           {
            "city": "London",
            "country": "GBR",
            "tz": "UTC"
           },
           1,
           "London",
           "UTC",
           "GBR"
          ],
          [
           "Jacqueline White",
           10,
           true,
           "person",
           "Jacqueline White",
           "2022-07-18",
           "Full Time",
           [
            "JavaScript"
           ],
           "Andrew Pruitt",
           "Sales",
           "Associate",
           {
            "city": "London",
            "country": "GBR",
            "tz": "UTC"
           },
           1,
           "London",
           "UTC",
           "GBR"
          ],
          [
           "Amanda Johnson",
           10,
           true,
           "person",
           "Amanda Johnson",
           "2022-09-09",
           "Part Time",
           [
            "JavaScript",
            "Java"
           ],
           "Andrew Pruitt",
           "Sales",
           "Associate",
           {
            "city": "London",
            "country": "GBR",
            "tz": "UTC"
           },
           1,
           "London",
           "UTC",
           "GBR"
          ],
          [
           "Stephen Randolph",
           10,
           true,
           "person",
           "Stephen Randolph",
           "2021-03-23",
           "Contract",
           [
            "Python"
           ],
           "Andrew Pruitt",
           "Sales",
           "Associate",
           {
            "city": "London",
            "country": "GBR",
            "tz": "UTC"
           },
           1,
           "London",
           "UTC",
           "GBR"
          ],
          [
           "Kenneth Montoya",
           10,
           true,
           "person",
           "Kenneth Montoya",
           "2021-10-14",
           "Full Time",
           [
            "Java"
           ],
           "Andrew Pruitt",
           "Sales",
           "Associate",
           {
            "city": "London",
            "country": "GBR",
            "tz": "UTC"
           },
           1,
           "London",
           "UTC",
           "GBR"
          ],
          [
           "Marie Smith",
           10,
           true,
           "person",
           "Marie Smith",
           "2020-10-03",
           "Part Time",
           [
            "JavaScript"
           ],
           "Andrew Pruitt",
           "Sales",
           "Associate",
           {
            "city": "London",
            "country": "GBR",
            "tz": "UTC"
           },
           1,
           "London",
           "UTC",
           "GBR"
          ],
          [
           "Daryl Gillespie",
           10,
           true,
           "person",
           "Daryl Gillespie",
           "2020-11-29",
           "Full Time",
           [
            "Typescript",
            "JavaScript",
            "Java"
           ],
           "Andrew Pruitt",
           "Sales",
           "Associate",
           {
            "city": "London",
            "country": "GBR",
            "tz": "UTC"
           },
           1,
           "London",
           "UTC",
           "GBR"
          ],
          [
           "Stephanie Peterson",
           10,
           true,
           "person",
           "Stephanie Peterson",
           "2021-12-29",
           "Full Time",
           [
            "Python",
            "JavaScript",
            "Scala",
            "Java"
           ],
           "Andrew Pruitt",
           "Sales",
           "Associate",
           {
            "city": "London",
            "country": "GBR",
            "tz": "UTC"
           },
           1,
           "London",
           "UTC",
           "GBR"
          ],
          [
           "Sandra Brown",
           10,
           true,
           "person",
           "Sandra Brown",
           "2022-04-21",
           "Full Time",
           [],
           "Andrew Pruitt",
           "Sales",
           "Associate",
           {
            "city": "London",
            "country": "GBR",
            "tz": "UTC"
           },
           1,
           "London",
           "UTC",
           "GBR"
          ]
         ],
         "hovertemplate": "<b>%{hovertext}</b><br><br>country=%{customdata[15]}<br>x=%{x}<br>y=%{y}<br>rank=%{customdata[12]}<br>label=%{customdata[0]}<br>size=%{customdata[1]}<br>person=%{customdata[2]}<br>type=%{customdata[3]}<br>name=%{customdata[4]}<br>hire_date=%{customdata[5]}<br>status=%{customdata[6]}<br>languages=%{customdata[7]}<br>manager=%{customdata[8]}<br>team=%{customdata[9]}<br>title=%{customdata[10]}<br>location=%{customdata[11]}<br>city=%{customdata[13]}<br>tz=%{customdata[14]}<extra></extra>",
         "hovertext": [
          "Jason James",
          "Andrea Williams",
          "Kevin Martin",
          "Sherry Thompson",
          "Rebekah Jackson",
          "Teresa David",
          "Tara Douglas",
          "Steven Edwards",
          "Kevin Gonzalez",
          "Barbara Gomez",
          "Andrew Pruitt",
          "Brandon Kaufman MD",
          "Theresa Bradshaw",
          "Justin Lewis",
          "William Diaz",
          "Ashley Russell",
          "Karen Smith",
          "Jacqueline White",
          "Amanda Johnson",
          "Stephen Randolph",
          "Kenneth Montoya",
          "Marie Smith",
          "Daryl Gillespie",
          "Stephanie Peterson",
          "Sandra Brown"
         ],
         "legendgroup": "GBR",
         "marker": {
          "color": "#636efa",
          "size": [
           1,
           1,
           1,
           2,
           2,
           2,
           2,
           4,
           4,
           4,
           1,
           1,
           1,
           1,
           1,
           1,
           1,
           1,
           1,
           1,
           1,
           1,
           1,
           1,
           1
          ],
          "sizemode": "area",
          "sizeref": 0.0175,
          "symbol": "circle"
         },
         "mode": "markers",
         "name": "GBR",
         "orientation": "v",
         "showlegend": true,
         "type": "scatter",
         "x": [
          0.6734389277818221,
          -0.08513410877302444,
          -0.03045843355478438,
          0.103720423473183,
          0.8052587016896158,
          0.8732482842776773,
          0.9258936750876703,
          0.7784427753163974,
          0.6585829197285591,
          -0.018073091870867905,
          0.2334768336163717,
          0.3564098436988063,
          0.38076974472103897,
          0.3109193664725026,
          0.30517688711815316,
          0.33238472469258534,
          0.23268976870147723,
          0.35125261521914475,
          0.19528452047721204,
          0.17662450927030893,
          0.23517662712442425,
          0.2723675444308404,
          0.22297708215302622,
          0.325300385303248,
          0.1691001417286808
         ],
         "xaxis": "x",
         "y": [
          -0.20295930539255386,
          -0.3132255727514528,
          -0.4368086517097308,
          0.04812604107922524,
          -0.6277686061967197,
          -0.5926686811735169,
          -0.2875220170366119,
          -0.24463680560626966,
          -0.25621302921273403,
          -0.38475057480921865,
          0.6589869943342828,
          0.6505123079576763,
          0.7721384722498357,
          0.7962840431056872,
          0.619489003891163,
          0.8359719857239734,
          0.7600603132005426,
          0.711425521564461,
          0.7951894590248143,
          0.8389416274043786,
          0.829158737116137,
          0.812980651602192,
          0.8644649806673009,
          0.7543721333241491,
          0.7212995882874726
         ],
         "yaxis": "y"
        }
       ],
       "layout": {
        "legend": {
         "itemsizing": "constant",
         "title": {
          "text": "country"
         },
         "tracegroupgap": 0
        },
        "margin": {
         "t": 60
        },
        "template": {
         "data": {
          "bar": [
           {
            "error_x": {
             "color": "#f2f5fa"
            },
            "error_y": {
             "color": "#f2f5fa"
            },
            "marker": {
             "line": {
              "color": "rgb(17,17,17)",
              "width": 0.5
             },
             "pattern": {
              "fillmode": "overlay",
              "size": 10,
              "solidity": 0.2
             }
            },
            "type": "bar"
           }
          ],
          "barpolar": [
           {
            "marker": {
             "line": {
              "color": "rgb(17,17,17)",
              "width": 0.5
             },
             "pattern": {
              "fillmode": "overlay",
              "size": 10,
              "solidity": 0.2
             }
            },
            "type": "barpolar"
           }
          ],
          "carpet": [
           {
            "aaxis": {
             "endlinecolor": "#A2B1C6",
             "gridcolor": "#506784",
             "linecolor": "#506784",
             "minorgridcolor": "#506784",
             "startlinecolor": "#A2B1C6"
            },
            "baxis": {
             "endlinecolor": "#A2B1C6",
             "gridcolor": "#506784",
             "linecolor": "#506784",
             "minorgridcolor": "#506784",
             "startlinecolor": "#A2B1C6"
            },
            "type": "carpet"
           }
          ],
          "choropleth": [
           {
            "colorbar": {
             "outlinewidth": 0,
             "ticks": ""
            },
            "type": "choropleth"
           }
          ],
          "contour": [
           {
            "colorbar": {
             "outlinewidth": 0,
             "ticks": ""
            },
            "colorscale": [
             [
              0,
              "#0d0887"
             ],
             [
              0.1111111111111111,
              "#46039f"
             ],
             [
              0.2222222222222222,
              "#7201a8"
             ],
             [
              0.3333333333333333,
              "#9c179e"
             ],
             [
              0.4444444444444444,
              "#bd3786"
             ],
             [
              0.5555555555555556,
              "#d8576b"
             ],
             [
              0.6666666666666666,
              "#ed7953"
             ],
             [
              0.7777777777777778,
              "#fb9f3a"
             ],
             [
              0.8888888888888888,
              "#fdca26"
             ],
             [
              1,
              "#f0f921"
             ]
            ],
            "type": "contour"
           }
          ],
          "contourcarpet": [
           {
            "colorbar": {
             "outlinewidth": 0,
             "ticks": ""
            },
            "type": "contourcarpet"
           }
          ],
          "heatmap": [
           {
            "colorbar": {
             "outlinewidth": 0,
             "ticks": ""
            },
            "colorscale": [
             [
              0,
              "#0d0887"
             ],
             [
              0.1111111111111111,
              "#46039f"
             ],
             [
              0.2222222222222222,
              "#7201a8"
             ],
             [
              0.3333333333333333,
              "#9c179e"
             ],
             [
              0.4444444444444444,
              "#bd3786"
             ],
             [
              0.5555555555555556,
              "#d8576b"
             ],
             [
              0.6666666666666666,
              "#ed7953"
             ],
             [
              0.7777777777777778,
              "#fb9f3a"
             ],
             [
              0.8888888888888888,
              "#fdca26"
             ],
             [
              1,
              "#f0f921"
             ]
            ],
            "type": "heatmap"
           }
          ],
          "heatmapgl": [
           {
            "colorbar": {
             "outlinewidth": 0,
             "ticks": ""
            },
            "colorscale": [
             [
              0,
              "#0d0887"
             ],
             [
              0.1111111111111111,
              "#46039f"
             ],
             [
              0.2222222222222222,
              "#7201a8"
             ],
             [
              0.3333333333333333,
              "#9c179e"
             ],
             [
              0.4444444444444444,
              "#bd3786"
             ],
             [
              0.5555555555555556,
              "#d8576b"
             ],
             [
              0.6666666666666666,
              "#ed7953"
             ],
             [
              0.7777777777777778,
              "#fb9f3a"
             ],
             [
              0.8888888888888888,
              "#fdca26"
             ],
             [
              1,
              "#f0f921"
             ]
            ],
            "type": "heatmapgl"
           }
          ],
          "histogram": [
           {
            "marker": {
             "pattern": {
              "fillmode": "overlay",
              "size": 10,
              "solidity": 0.2
             }
            },
            "type": "histogram"
           }
          ],
          "histogram2d": [
           {
            "colorbar": {
             "outlinewidth": 0,
             "ticks": ""
            },
            "colorscale": [
             [
              0,
              "#0d0887"
             ],
             [
              0.1111111111111111,
              "#46039f"
             ],
             [
              0.2222222222222222,
              "#7201a8"
             ],
             [
              0.3333333333333333,
              "#9c179e"
             ],
             [
              0.4444444444444444,
              "#bd3786"
             ],
             [
              0.5555555555555556,
              "#d8576b"
             ],
             [
              0.6666666666666666,
              "#ed7953"
             ],
             [
              0.7777777777777778,
              "#fb9f3a"
             ],
             [
              0.8888888888888888,
              "#fdca26"
             ],
             [
              1,
              "#f0f921"
             ]
            ],
            "type": "histogram2d"
           }
          ],
          "histogram2dcontour": [
           {
            "colorbar": {
             "outlinewidth": 0,
             "ticks": ""
            },
            "colorscale": [
             [
              0,
              "#0d0887"
             ],
             [
              0.1111111111111111,
              "#46039f"
             ],
             [
              0.2222222222222222,
              "#7201a8"
             ],
             [
              0.3333333333333333,
              "#9c179e"
             ],
             [
              0.4444444444444444,
              "#bd3786"
             ],
             [
              0.5555555555555556,
              "#d8576b"
             ],
             [
              0.6666666666666666,
              "#ed7953"
             ],
             [
              0.7777777777777778,
              "#fb9f3a"
             ],
             [
              0.8888888888888888,
              "#fdca26"
             ],
             [
              1,
              "#f0f921"
             ]
            ],
            "type": "histogram2dcontour"
           }
          ],
          "mesh3d": [
           {
            "colorbar": {
             "outlinewidth": 0,
             "ticks": ""
            },
            "type": "mesh3d"
           }
          ],
          "parcoords": [
           {
            "line": {
             "colorbar": {
              "outlinewidth": 0,
              "ticks": ""
             }
            },
            "type": "parcoords"
           }
          ],
          "pie": [
           {
            "automargin": true,
            "type": "pie"
           }
          ],
          "scatter": [
           {
            "marker": {
             "line": {
              "color": "#283442"
             }
            },
            "type": "scatter"
           }
          ],
          "scatter3d": [
           {
            "line": {
             "colorbar": {
              "outlinewidth": 0,
              "ticks": ""
             }
            },
            "marker": {
             "colorbar": {
              "outlinewidth": 0,
              "ticks": ""
             }
            },
            "type": "scatter3d"
           }
          ],
          "scattercarpet": [
           {
            "marker": {
             "colorbar": {
              "outlinewidth": 0,
              "ticks": ""
             }
            },
            "type": "scattercarpet"
           }
          ],
          "scattergeo": [
           {
            "marker": {
             "colorbar": {
              "outlinewidth": 0,
              "ticks": ""
             }
            },
            "type": "scattergeo"
           }
          ],
          "scattergl": [
           {
            "marker": {
             "line": {
              "color": "#283442"
             }
            },
            "type": "scattergl"
           }
          ],
          "scattermapbox": [
           {
            "marker": {
             "colorbar": {
              "outlinewidth": 0,
              "ticks": ""
             }
            },
            "type": "scattermapbox"
           }
          ],
          "scatterpolar": [
           {
            "marker": {
             "colorbar": {
              "outlinewidth": 0,
              "ticks": ""
             }
            },
            "type": "scatterpolar"
           }
          ],
          "scatterpolargl": [
           {
            "marker": {
             "colorbar": {
              "outlinewidth": 0,
              "ticks": ""
             }
            },
            "type": "scatterpolargl"
           }
          ],
          "scatterternary": [
           {
            "marker": {
             "colorbar": {
              "outlinewidth": 0,
              "ticks": ""
             }
            },
            "type": "scatterternary"
           }
          ],
          "surface": [
           {
            "colorbar": {
             "outlinewidth": 0,
             "ticks": ""
            },
            "colorscale": [
             [
              0,
              "#0d0887"
             ],
             [
              0.1111111111111111,
              "#46039f"
             ],
             [
              0.2222222222222222,
              "#7201a8"
             ],
             [
              0.3333333333333333,
              "#9c179e"
             ],
             [
              0.4444444444444444,
              "#bd3786"
             ],
             [
              0.5555555555555556,
              "#d8576b"
             ],
             [
              0.6666666666666666,
              "#ed7953"
             ],
             [
              0.7777777777777778,
              "#fb9f3a"
             ],
             [
              0.8888888888888888,
              "#fdca26"
             ],
             [
              1,
              "#f0f921"
             ]
            ],
            "type": "surface"
           }
          ],
          "table": [
           {
            "cells": {
             "fill": {
              "color": "#506784"
             },
             "line": {
              "color": "rgb(17,17,17)"
             }
            },
            "header": {
             "fill": {
              "color": "#2a3f5f"
             },
             "line": {
              "color": "rgb(17,17,17)"
             }
            },
            "type": "table"
           }
          ]
         },
         "layout": {
          "annotationdefaults": {
           "arrowcolor": "#f2f5fa",
           "arrowhead": 0,
           "arrowwidth": 1
          },
          "autotypenumbers": "strict",
          "coloraxis": {
           "colorbar": {
            "outlinewidth": 0,
            "ticks": ""
           }
          },
          "colorscale": {
           "diverging": [
            [
             0,
             "#8e0152"
            ],
            [
             0.1,
             "#c51b7d"
            ],
            [
             0.2,
             "#de77ae"
            ],
            [
             0.3,
             "#f1b6da"
            ],
            [
             0.4,
             "#fde0ef"
            ],
            [
             0.5,
             "#f7f7f7"
            ],
            [
             0.6,
             "#e6f5d0"
            ],
            [
             0.7,
             "#b8e186"
            ],
            [
             0.8,
             "#7fbc41"
            ],
            [
             0.9,
             "#4d9221"
            ],
            [
             1,
             "#276419"
            ]
           ],
           "sequential": [
            [
             0,
             "#0d0887"
            ],
            [
             0.1111111111111111,
             "#46039f"
            ],
            [
             0.2222222222222222,
             "#7201a8"
            ],
            [
             0.3333333333333333,
             "#9c179e"
            ],
            [
             0.4444444444444444,
             "#bd3786"
            ],
            [
             0.5555555555555556,
             "#d8576b"
            ],
            [
             0.6666666666666666,
             "#ed7953"
            ],
            [
             0.7777777777777778,
             "#fb9f3a"
            ],
            [
             0.8888888888888888,
             "#fdca26"
            ],
            [
             1,
             "#f0f921"
            ]
           ],
           "sequentialminus": [
            [
             0,
             "#0d0887"
            ],
            [
             0.1111111111111111,
             "#46039f"
            ],
            [
             0.2222222222222222,
             "#7201a8"
            ],
            [
             0.3333333333333333,
             "#9c179e"
            ],
            [
             0.4444444444444444,
             "#bd3786"
            ],
            [
             0.5555555555555556,
             "#d8576b"
            ],
            [
             0.6666666666666666,
             "#ed7953"
            ],
            [
             0.7777777777777778,
             "#fb9f3a"
            ],
            [
             0.8888888888888888,
             "#fdca26"
            ],
            [
             1,
             "#f0f921"
            ]
           ]
          },
          "colorway": [
           "#636efa",
           "#EF553B",
           "#00cc96",
           "#ab63fa",
           "#FFA15A",
           "#19d3f3",
           "#FF6692",
           "#B6E880",
           "#FF97FF",
           "#FECB52"
          ],
          "font": {
           "color": "#f2f5fa"
          },
          "geo": {
           "bgcolor": "rgb(17,17,17)",
           "lakecolor": "rgb(17,17,17)",
           "landcolor": "rgb(17,17,17)",
           "showlakes": true,
           "showland": true,
           "subunitcolor": "#506784"
          },
          "hoverlabel": {
           "align": "left"
          },
          "hovermode": "closest",
          "mapbox": {
           "style": "dark"
          },
          "paper_bgcolor": "rgb(17,17,17)",
          "plot_bgcolor": "rgb(17,17,17)",
          "polar": {
           "angularaxis": {
            "gridcolor": "#506784",
            "linecolor": "#506784",
            "ticks": ""
           },
           "bgcolor": "rgb(17,17,17)",
           "radialaxis": {
            "gridcolor": "#506784",
            "linecolor": "#506784",
            "ticks": ""
           }
          },
          "scene": {
           "xaxis": {
            "backgroundcolor": "rgb(17,17,17)",
            "gridcolor": "#506784",
            "gridwidth": 2,
            "linecolor": "#506784",
            "showbackground": true,
            "ticks": "",
            "zerolinecolor": "#C8D4E3"
           },
           "yaxis": {
            "backgroundcolor": "rgb(17,17,17)",
            "gridcolor": "#506784",
            "gridwidth": 2,
            "linecolor": "#506784",
            "showbackground": true,
            "ticks": "",
            "zerolinecolor": "#C8D4E3"
           },
           "zaxis": {
            "backgroundcolor": "rgb(17,17,17)",
            "gridcolor": "#506784",
            "gridwidth": 2,
            "linecolor": "#506784",
            "showbackground": true,
            "ticks": "",
            "zerolinecolor": "#C8D4E3"
           }
          },
          "shapedefaults": {
           "line": {
            "color": "#f2f5fa"
           }
          },
          "sliderdefaults": {
           "bgcolor": "#C8D4E3",
           "bordercolor": "rgb(17,17,17)",
           "borderwidth": 1,
           "tickwidth": 0
          },
          "ternary": {
           "aaxis": {
            "gridcolor": "#506784",
            "linecolor": "#506784",
            "ticks": ""
           },
           "baxis": {
            "gridcolor": "#506784",
            "linecolor": "#506784",
            "ticks": ""
           },
           "bgcolor": "rgb(17,17,17)",
           "caxis": {
            "gridcolor": "#506784",
            "linecolor": "#506784",
            "ticks": ""
           }
          },
          "title": {
           "x": 0.05
          },
          "updatemenudefaults": {
           "bgcolor": "#506784",
           "borderwidth": 0
          },
          "xaxis": {
           "automargin": true,
           "gridcolor": "#283442",
           "linecolor": "#506784",
           "ticks": "",
           "title": {
            "standoff": 15
           },
           "zerolinecolor": "#283442",
           "zerolinewidth": 2
          },
          "yaxis": {
           "automargin": true,
           "gridcolor": "#283442",
           "linecolor": "#506784",
           "ticks": "",
           "title": {
            "standoff": 15
           },
           "zerolinecolor": "#283442",
           "zerolinewidth": 2
          }
         }
        },
        "xaxis": {
         "visible": false
        },
        "yaxis": {
         "visible": false
        }
       }
      }
     },
     "metadata": {},
     "output_type": "display_data"
    }
   ],
   "source": [
    "from functools import partial\n",
    "\n",
    "layout = (\n",
    "    nx.spring_layout\n",
    ")  # partial(nx.spring_layout,k=0.1, iterations=20) # or customize how the layout is generated\n",
    "px_plot_nx(\n",
    "    G,\n",
    "    ...\n",
    ")"
   ]
  },
  {
   "cell_type": "code",
   "execution_count": null,
   "id": "105dfa3e",
   "metadata": {},
   "outputs": [],
   "source": [
    "nt_show(G, ...)"
   ]
  }
 ],
 "metadata": {
  "jupytext": {
   "formats": "ipynb,py:percent"
  },
  "kernelspec": {
   "display_name": "peopleanalytics-hP1UcNMM",
   "language": "python",
   "name": "python3"
  },
  "language_info": {
   "codemirror_mode": {
    "name": "ipython",
    "version": 3
   },
   "file_extension": ".py",
   "mimetype": "text/x-python",
   "name": "python",
   "nbconvert_exporter": "python",
   "pygments_lexer": "ipython3",
   "version": "3.11.3"
  },
  "vscode": {
   "interpreter": {
    "hash": "a79ebb34bd880ae1609598d91f5437f974a2fc812a889a38194f0c3042249b1f"
   }
  }
 },
 "nbformat": 4,
 "nbformat_minor": 5
}
